{
 "cells": [
  {
   "cell_type": "code",
   "execution_count": 1,
   "metadata": {},
   "outputs": [
    {
     "name": "stdout",
     "output_type": "stream",
     "text": [
      "[1, 4, 9, 16, 25, 36, 49, 64, 81, 100]\n"
     ]
    }
   ],
   "source": [
    "# Q046\n",
    "# 2019/12/19\n",
    "# Tag: Map\n",
    "# Description: Write a program which can map() to make a list whose elements are square of elements in\n",
    "#              [1,2,3,4,5,6,7,8,9,10].\n",
    "\n",
    "# MAP applies a function to all the items in an input_list. Here is the blueprint:\n",
    "# map(function_to_apply, list_of_inputs)\n",
    "\n",
    "def squ(num):\n",
    "    return num**2\n",
    "\n",
    "squ_num = map(squ,[1,2,3,4,5,6,7,8,9,10])\n",
    "print(list(squ_num))"
   ]
  }
 ],
 "metadata": {
  "kernelspec": {
   "display_name": "Python 3",
   "language": "python",
   "name": "python3"
  },
  "language_info": {
   "codemirror_mode": {
    "name": "ipython",
    "version": 3
   },
   "file_extension": ".py",
   "mimetype": "text/x-python",
   "name": "python",
   "nbconvert_exporter": "python",
   "pygments_lexer": "ipython3",
   "version": "3.7.4"
  }
 },
 "nbformat": 4,
 "nbformat_minor": 2
}
