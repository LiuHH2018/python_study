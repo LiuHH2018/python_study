{
 "cells": [
  {
   "cell_type": "code",
   "execution_count": 16,
   "metadata": {},
   "outputs": [
    {
     "name": "stdout",
     "output_type": "stream",
     "text": [
      "fgthh\n",
      "fgtgjmr\n",
      "yjbvf\n",
      "您输入的用户名以及公司名称不都是字母组成，请检查！！！\n"
     ]
    }
   ],
   "source": [
    "# Q058\n",
    "# 2020.01.08\n",
    "# Tag: regular expression match\n",
    "# Description: Assuming that we have some email addresses in the \"username@companyname.com\" format, please write\n",
    "#              program to print the user name of a given email address. Both user names and company names are composed\n",
    "#              of letters only.\n",
    "# Example:\n",
    "# If the following email address is given as input to the program:\n",
    "#\n",
    "# john@google.com\n",
    "#\n",
    "# Then, the output of the program should be: john\n",
    "#\n",
    "# In case of input data being supplied to the question, it should be assumed to be a console input.\n",
    "\n",
    "#描述：假设我们有一些“user name@companyname.com”格式的电子邮件地址，请编写程序打印给定电子邮件地址的用户名。用户名和公司名称都只由字母组成。\n",
    "\n",
    "#示例：\n",
    "\n",
    "#如果以下电子邮件地址作为程序的输入：\n",
    "# john@google.com\n",
    "# 那么，程序的输出应该是：john\n",
    "# 如果向问题提供了输入数据，则应假定它是控制台输入。\n",
    "\n",
    "def EmailName(email):\n",
    "    userloca = email.find('@')\n",
    "    comloca = email.find('.')\n",
    "    username = email[:userloca]\n",
    "    comname = email[userloca+1:comloca] \n",
    "    if username.isalpha() == True and comname.isalpha() == True:\n",
    "        return username\n",
    "    elif username.isalpha() == False and comname.isalpha() == True:\n",
    "        word = \"您输入的用户名不都是字母组成，请检查！！！\"\n",
    "        return word\n",
    "    elif username.isalpha() == True and comname.isalpha() == False:\n",
    "        word = \"您输入的公司名称不都是字母组成，请检查！！！\"\n",
    "        return word\n",
    "    else:\n",
    "        word = \"您输入的用户名以及公司名称不都是字母组成，请检查！！！\"\n",
    "        return word      \n",
    "        \n",
    "email_list = [\"fgthh@erty.com\",\"fgtgjmr@ethrj.com\",\"yjbvf@fghj.com\",\"56rutn@34hjk.com\"]\n",
    "for e in email_list:\n",
    "    name = EmailName(e)\n",
    "    print(name)"
   ]
  }
 ],
 "metadata": {
  "kernelspec": {
   "display_name": "Python 3",
   "language": "python",
   "name": "python3"
  },
  "language_info": {
   "codemirror_mode": {
    "name": "ipython",
    "version": 3
   },
   "file_extension": ".py",
   "mimetype": "text/x-python",
   "name": "python",
   "nbconvert_exporter": "python",
   "pygments_lexer": "ipython3",
   "version": "3.7.5"
  }
 },
 "nbformat": 4,
 "nbformat_minor": 2
}
