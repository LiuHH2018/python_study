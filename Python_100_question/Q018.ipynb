{
 "cells": [
  {
   "cell_type": "code",
   "execution_count": 4,
   "metadata": {},
   "outputs": [
    {
     "name": "stdout",
     "output_type": "stream",
     "text": [
      "请输入核查密码：ABd1234@1,a F1#,2w3E*,2We3345\n",
      "ABd1234@1\n"
     ]
    }
   ],
   "source": [
    "# Q018\n",
    "# 2019/12/10\n",
    "# Tag: password checking\n",
    "# Description: A website requires the users to input username and password to register. Write a program to check the\n",
    "#              validity of password input by users.\n",
    "#\n",
    "# Following are the criteria for checking the password:\n",
    "# 1. At least 1 letter between [a-z]\n",
    "# 2. At least 1 number between [0-9]\n",
    "# 1. At least 1 letter between [A-Z]\n",
    "# 3. At least 1 character from [$#@]\n",
    "# 4. Minimum length of transaction password: 6\n",
    "# 5. Maximum length of transaction password: 12\n",
    "# Your program should accept a sequence of comma separated passwords and will check them according to the above criteria.\n",
    "#     Passwords that match the criteria are to be printed, each separated by a comma.\n",
    "#\n",
    "# Example\n",
    "# If the following passwords are given as input to the program:\n",
    "# ABd1234@1,a F1#,2w3E*,2We3345\n",
    "# Then, the output of the program should be:\n",
    "# ABd1234@1\n",
    "\n",
    "# 说明：网站要求用户输入用户名和密码进行注册。编写一个程序来检查用户输入密码的有效性。\n",
    "\n",
    "# 以下是检查密码的条件：\n",
    "# 1.[a-z]之间至少有一个字母\n",
    "# 2.在[0-9]之间至少有一个数字\n",
    "# 3.[A-Z]之间至少有一个字母\n",
    "# 4.[$#@]中至少有一个字符\n",
    "# 5.交易密码最短长度：6\n",
    "# 6.交易密码的最大长度：12\n",
    "#您的程序应该接受一系列逗号分隔的密码，并将根据上述标准进行检查。\n",
    "#将打印符合条件的密码，每个密码用逗号分隔。\n",
    "\n",
    "import string\n",
    "password = input(\"请输入核查密码：\")\n",
    "password_li = password.split(',')\n",
    "lower = string.ascii_lowercase\n",
    "upper = string.ascii_uppercase\n",
    "digits = string.digits\n",
    "mark = \"$#@\"\n",
    "out = []\n",
    "\n",
    "for i in password_li:\n",
    "    is_len =[]\n",
    "    is_lower = []\n",
    "    is_upper = []\n",
    "    is_digits = []\n",
    "    is_mark =[]\n",
    "    pass_letter = list(i)  \n",
    "    \n",
    "    if len(i) >=6 and  len(i) <=12:\n",
    "        is_len.append(\"1\")\n",
    "    is_lower = [\"1\"for n in pass_letter if n in lower]\n",
    "    is_upper = [\"1\" for n in pass_letter if n in upper]\n",
    "    is_digits = [\"1\"for n in pass_letter if n in digits]\n",
    "    is_mark = [\"1\" for n in pass_letter if n in mark]\n",
    "    \n",
    "    if len(is_len)>0 and len(is_lower)>0 and len(is_upper)>0 and len(is_digits)>0 and len(is_mark)>0:\n",
    "        out.append(i)\n",
    "        \n",
    "print(','.join(out))            "
   ]
  }
 ],
 "metadata": {
  "kernelspec": {
   "display_name": "Python 3",
   "language": "python",
   "name": "python3"
  },
  "language_info": {
   "codemirror_mode": {
    "name": "ipython",
    "version": 3
   },
   "file_extension": ".py",
   "mimetype": "text/x-python",
   "name": "python",
   "nbconvert_exporter": "python",
   "pygments_lexer": "ipython3",
   "version": "3.7.4"
  }
 },
 "nbformat": 4,
 "nbformat_minor": 2
}
