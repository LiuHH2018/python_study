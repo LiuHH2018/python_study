{
 "cells": [
  {
   "cell_type": "code",
   "execution_count": 17,
   "metadata": {},
   "outputs": [
    {
     "name": "stdout",
     "output_type": "stream",
     "text": [
      "hello\n",
      "world\n"
     ]
    }
   ],
   "source": [
    "# Q31\n",
    "# 2019/12/15\n",
    "# Tag: length of string\n",
    "# Description: Define a function that can accept two strings as input and print the string with maximum length in\n",
    "#              console. If two strings have the same length, then the function should print all strings line by line.\n",
    "\n",
    "# 描述：定义一个函数，它可以接受两个字符串作为输入，并在控制台中打印长度最大的字符串。如果两个字符串的长度相同，则函数应逐行打印所有字符串。\n",
    "\n",
    "def length_1(str1,str2):\n",
    "    str1_len = len(str1)\n",
    "    str2_len = len(str2)\n",
    "    str_out = []\n",
    "    if str1_len > str2_len:\n",
    "        str_out.append(str1) \n",
    "    elif str1_len < str2_len:\n",
    "        str_out.append(str2) \n",
    "    else:\n",
    "        str_out.append(str1)\n",
    "        str_out.append(str2)\n",
    "    return str_out\n",
    "\n",
    "str_out = length_1('hello','world')\n",
    "print('\\n'.join(str_out))"
   ]
  }
 ],
 "metadata": {
  "kernelspec": {
   "display_name": "Python 3",
   "language": "python",
   "name": "python3"
  },
  "language_info": {
   "codemirror_mode": {
    "name": "ipython",
    "version": 3
   },
   "file_extension": ".py",
   "mimetype": "text/x-python",
   "name": "python",
   "nbconvert_exporter": "python",
   "pygments_lexer": "ipython3",
   "version": "3.7.4"
  }
 },
 "nbformat": 4,
 "nbformat_minor": 2
}
