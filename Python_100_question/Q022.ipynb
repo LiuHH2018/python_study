{
 "cells": [
  {
   "cell_type": "code",
   "execution_count": 27,
   "metadata": {},
   "outputs": [
    {
     "name": "stdout",
     "output_type": "stream",
     "text": [
      "请输入语句：New to Python or choosing between Python 2 and Python 3? Read Python 2 or Python 3.\n",
      "New:1\n",
      "or:2\n",
      "between:1\n",
      "choosing:1\n",
      "and:1\n",
      "2:2\n",
      "to:1\n",
      "Python:5\n",
      "Read:1\n",
      "3:2\n"
     ]
    }
   ],
   "source": [
    "# Q022\n",
    "# 2019/12/13\n",
    "# Tag: sorting dictionary\n",
    "# Description: Write a program to compute the frequency of the words from the input. The output should output after\n",
    "#              sorting the key alphanumerically.\n",
    "# Suppose the following input is supplied to the program:\n",
    "# New to Python or choosing between Python 2 and Python 3? Read Python 2 or Python 3.\n",
    "# Then, the output should be:\n",
    "# 2:2\n",
    "# 3.:1\n",
    "# 3?:1\n",
    "# New:1\n",
    "# Python:5\n",
    "# Read:1\n",
    "# and:1\n",
    "# between:1\n",
    "# choosing:1\n",
    "# or:2\n",
    "# to:1\n",
    "\n",
    "# 解题思路;先将语句分隔变成关键词\n",
    "\n",
    "import string \n",
    "\n",
    "\n",
    "def count_word():\n",
    "    word = input(\"请输入语句：\")\n",
    "    word_l = word.split(' ')\n",
    "    word_over = []\n",
    "    word_count = []\n",
    "    pun = set(string.punctuation) \n",
    "    \n",
    "    for i in word_l:\n",
    "        word_s = set(i)\n",
    "        mark = word_s & pun\n",
    "        if len(mark) > 0:\n",
    "            for n in mark:\n",
    "                word_s.remove(n)\n",
    "                word_n = ''.join(list(word_s))\n",
    "                word_over.append(word_n)\n",
    "        else:\n",
    "            word_over.append(i)\n",
    "            \n",
    "    word_over_s = list(set(word_over))\n",
    "\n",
    "    for m in word_over_s:\n",
    "        count = word_over.count(m)\n",
    "        word_count.append(count)\n",
    "\n",
    "    dic = dict(zip(word_over_s,word_count))\n",
    "\n",
    "\n",
    "    for key in dic:\n",
    "        print(key+':'+str(dic[key]))  \n",
    "\n",
    "count_word()"
   ]
  }
 ],
 "metadata": {
  "kernelspec": {
   "display_name": "Python 3",
   "language": "python",
   "name": "python3"
  },
  "language_info": {
   "codemirror_mode": {
    "name": "ipython",
    "version": 3
   },
   "file_extension": ".py",
   "mimetype": "text/x-python",
   "name": "python",
   "nbconvert_exporter": "python",
   "pygments_lexer": "ipython3",
   "version": "3.7.4"
  }
 },
 "nbformat": 4,
 "nbformat_minor": 2
}
