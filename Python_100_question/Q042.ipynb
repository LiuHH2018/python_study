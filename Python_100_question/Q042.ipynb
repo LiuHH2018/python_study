{
 "cells": [
  {
   "cell_type": "code",
   "execution_count": 16,
   "metadata": {},
   "outputs": [
    {
     "name": "stdout",
     "output_type": "stream",
     "text": [
      "1,2,3,4,5\n",
      "6,7,8,9,10\n"
     ]
    }
   ],
   "source": [
    "# Q042\n",
    "# 2019/12/18\n",
    "# Tag: tuple subtraction\n",
    "# Description: With a given tuple (1,2,3,4,5,6,7,8,9,10), write a program to print the first half values in one line\n",
    "#              and the last half values in one line.\n",
    "\n",
    "#描述：对于给定的元组（1,2,3,4,5,6,7,8,9,10），编写一个程序在一行中打印前半个值，在一行中打印后半个值。\n",
    "\n",
    "def tup_line(tup):\n",
    "    tup_length = round(len(tup)/2)\n",
    "    \n",
    "    list1 = list(tup[:tup_length])\n",
    "    list2 = list(tup[tup_length:])\n",
    "    \n",
    "    list1_str = ['%s' % i for i in list1]\n",
    "    list2_str = ['%s' % i for i in list2]\n",
    "    \n",
    "    print(','.join(list1_str))\n",
    "    print(','.join(list2_str))\n",
    "    \n",
    "tup1 =(1,2,3,4,5,6,7,8,9,10)\n",
    "tup_line(tup1)"
   ]
  }
 ],
 "metadata": {
  "kernelspec": {
   "display_name": "Python 3",
   "language": "python",
   "name": "python3"
  },
  "language_info": {
   "codemirror_mode": {
    "name": "ipython",
    "version": 3
   },
   "file_extension": ".py",
   "mimetype": "text/x-python",
   "name": "python",
   "nbconvert_exporter": "python",
   "pygments_lexer": "ipython3",
   "version": "3.7.4"
  }
 },
 "nbformat": 4,
 "nbformat_minor": 2
}
