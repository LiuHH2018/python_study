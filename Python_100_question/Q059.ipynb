{
 "cells": [
  {
   "cell_type": "code",
   "execution_count": 2,
   "metadata": {},
   "outputs": [
    {
     "name": "stdout",
     "output_type": "stream",
     "text": [
      "erty\n",
      "ethrj\n",
      "fghj\n",
      "您输入的用户名以及公司名称不都是字母组成，请检查！！！\n"
     ]
    }
   ],
   "source": [
    "# Q059\n",
    "# 2020.01.08\n",
    "# Tag: regular expression match\n",
    "# Description: Assuming that we have some email addresses in the \"username@companyname.com\" format, please write\n",
    "#              program to print the company name of a given email address. Both user names and company names are\n",
    "#              composed of letters only.\n",
    "\n",
    "#标记：正则表达式匹配\n",
    "#描述：假设我们有一些“username@company name.com”格式的电子邮件地址，请编写程序打印给定电子邮件地址的公司名称。\n",
    "#用户名和公司名称都只由字母组成。\n",
    "\n",
    "import re\n",
    "email_list = [\"fgthh@erty.com\",\"fgtgjmr@ethrj.com\",\"yjbvf@fghj.com\",\"56rutn@34hjk.com\"]\n",
    "pat = \"(\\w+)@(\\w+)\\.(\\w+)\"\n",
    "for email in email_list:\n",
    "    res = re.match(pat, email)\n",
    "    username = res.group(1)\n",
    "    comname = res.group(2)\n",
    "    if username.isalpha() == True and comname.isalpha() == True:\n",
    "        print(comname)\n",
    "    elif username.isalpha() == False and comname.isalpha() == True:\n",
    "        print(\"您输入的用户名不都是字母组成，请检查！！！\")\n",
    "    elif username.isalpha() == True and comname.isalpha() == False:\n",
    "        print(\"您输入的公司名称不都是字母组成，请检查！！！\")\n",
    "    else:\n",
    "         print(\"您输入的用户名以及公司名称不都是字母组成，请检查！！！\")\n"
   ]
  },
  {
   "cell_type": "code",
   "execution_count": 1,
   "metadata": {},
   "outputs": [
    {
     "name": "stdout",
     "output_type": "stream",
     "text": [
      "erty\n",
      "ethrj\n",
      "fghj\n",
      "您输入的用户名以及公司名称不都是字母组成，请检查！！！\n"
     ]
    }
   ],
   "source": [
    "def EmailName(email):\n",
    "    userloca = email.find('@')\n",
    "    comloca = email.find('.')\n",
    "    username = email[:userloca]\n",
    "    comname = email[userloca+1:comloca] \n",
    "    if username.isalpha() == True and comname.isalpha() == True:\n",
    "        return comname\n",
    "    elif username.isalpha() == False and comname.isalpha() == True:\n",
    "        word = \"您输入的用户名不都是字母组成，请检查！！！\"\n",
    "        return word\n",
    "    elif username.isalpha() == True and comname.isalpha() == False:\n",
    "        word = \"您输入的公司名称不都是字母组成，请检查！！！\"\n",
    "        return word\n",
    "    else:\n",
    "        word = \"您输入的用户名以及公司名称不都是字母组成，请检查！！！\"\n",
    "        return word      \n",
    "        \n",
    "email_list = [\"fgthh@erty.com\",\"fgtgjmr@ethrj.com\",\"yjbvf@fghj.com\",\"56rutn@34hjk.com\"]\n",
    "for e in email_list:\n",
    "    name = EmailName(e)\n",
    "    print(name)"
   ]
  }
 ],
 "metadata": {
  "kernelspec": {
   "display_name": "Python 3",
   "language": "python",
   "name": "python3"
  },
  "language_info": {
   "codemirror_mode": {
    "name": "ipython",
    "version": 3
   },
   "file_extension": ".py",
   "mimetype": "text/x-python",
   "name": "python",
   "nbconvert_exporter": "python",
   "pygments_lexer": "ipython3",
   "version": "3.7.5"
  }
 },
 "nbformat": 4,
 "nbformat_minor": 2
}
