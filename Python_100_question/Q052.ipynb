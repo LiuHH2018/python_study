{
 "cells": [
  {
   "cell_type": "code",
   "execution_count": 2,
   "metadata": {},
   "outputs": [
    {
     "data": {
      "text/plain": [
       "113.09733552923255"
      ]
     },
     "execution_count": 2,
     "metadata": {},
     "output_type": "execute_result"
    }
   ],
   "source": [
    "# Q052\n",
    "# 2019/12/24\n",
    "# Tag:  class\n",
    "# Description: Define a class named Circle which can be constructed by a radius. The Circle class has a method which\n",
    "#              can compute the area.\n",
    "\n",
    "#描述：定义一个名为Circle的类，该类可以由半径构造。圆类有一个计算面积的方法。\n",
    "\n",
    "import math\n",
    "\n",
    "class Circle():\n",
    "    def __init__(self,radius):\n",
    "        self.radius = radius\n",
    "        \n",
    "    def area(self):\n",
    "        c_area = math.pi*self.radius**2\n",
    "        return c_area\n",
    "    \n",
    "circle = Circle(6)\n",
    "\n",
    "circle.area()"
   ]
  }
 ],
 "metadata": {
  "kernelspec": {
   "display_name": "Python 3",
   "language": "python",
   "name": "python3"
  },
  "language_info": {
   "codemirror_mode": {
    "name": "ipython",
    "version": 3
   },
   "file_extension": ".py",
   "mimetype": "text/x-python",
   "name": "python",
   "nbconvert_exporter": "python",
   "pygments_lexer": "ipython3",
   "version": "3.7.5"
  }
 },
 "nbformat": 4,
 "nbformat_minor": 2
}
