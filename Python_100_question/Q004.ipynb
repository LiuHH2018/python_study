{
 "cells": [
  {
   "cell_type": "code",
   "execution_count": 1,
   "metadata": {},
   "outputs": [
    {
     "name": "stdout",
     "output_type": "stream",
     "text": [
      "input:34,67,55,33,12,98\n",
      "['34', '67', '55', '33', '12', '98']\n",
      "('34', '67', '55', '33', '12', '98')\n"
     ]
    }
   ],
   "source": [
    "# Q004\n",
    "# 2019.11.10\n",
    "# Tag: tuple, string split\n",
    "# Description: Write a program which accepts a sequence of comma-separated numbers from console and generate a list\n",
    "#              and a tuple which contains every number.\n",
    "#\n",
    "# Suppose the following input is supplied to the program:\n",
    "# 34,67,55,33,12,98\n",
    "# Then, the output should be:\n",
    "# ['34', '67', '55', '33', '12', '98']\n",
    "# ('34', '67', '55', '33', '12', '98')\n",
    "\n",
    "# 描述：编写一个程序，从控制台接收一系列逗号分隔的数字并生成一个列表一个包含所有数字的元组。\n",
    "\n",
    "str_1 = str(input(\"input:\"))\n",
    "list_1 = str_1.split(',')\n",
    "tuple_1 = tuple(list_1)\n",
    "print(list_1)\n",
    "print(tuple_1);"
   ]
  }
 ],
 "metadata": {
  "kernelspec": {
   "display_name": "Python 3",
   "language": "python",
   "name": "python3"
  },
  "language_info": {
   "codemirror_mode": {
    "name": "ipython",
    "version": 3
   },
   "file_extension": ".py",
   "mimetype": "text/x-python",
   "name": "python",
   "nbconvert_exporter": "python",
   "pygments_lexer": "ipython3",
   "version": "3.7.4"
  }
 },
 "nbformat": 4,
 "nbformat_minor": 2
}
