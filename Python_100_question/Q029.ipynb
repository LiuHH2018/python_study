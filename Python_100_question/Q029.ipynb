{
 "cells": [
  {
   "cell_type": "code",
   "execution_count": 2,
   "metadata": {},
   "outputs": [
    {
     "name": "stdout",
     "output_type": "stream",
     "text": [
      "1579\n",
      "<class 'int'>\n"
     ]
    }
   ],
   "source": [
    "# Q029\n",
    "# 2019/12/15\n",
    "# Tag: sum\n",
    "# Description: Define a function that can receive two integral numbers in string form and compute their sum and then\n",
    "#              print it in console.\n",
    "\n",
    "#描述：定义一个函数，它可以接收两个字符串形式的整数，计算它们的和，然后在控制台中打印出来。\n",
    "\n",
    "def str_sum(str1,str2):\n",
    "    sum = int(str1) + int(str2)\n",
    "    return sum\n",
    "    \n",
    "    \n",
    "print(str_sum('1234','345'))\n",
    "print(type(str_sum('1234','345')))"
   ]
  }
 ],
 "metadata": {
  "kernelspec": {
   "display_name": "Python 3",
   "language": "python",
   "name": "python3"
  },
  "language_info": {
   "codemirror_mode": {
    "name": "ipython",
    "version": 3
   },
   "file_extension": ".py",
   "mimetype": "text/x-python",
   "name": "python",
   "nbconvert_exporter": "python",
   "pygments_lexer": "ipython3",
   "version": "3.7.4"
  }
 },
 "nbformat": 4,
 "nbformat_minor": 2
}
