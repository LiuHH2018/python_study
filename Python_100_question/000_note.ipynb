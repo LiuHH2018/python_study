{
 "cells": [
  {
   "cell_type": "markdown",
   "metadata": {},
   "source": [
    "### python 元组分组并排序"
   ]
  },
  {
   "cell_type": "code",
   "execution_count": 1,
   "metadata": {},
   "outputs": [
    {
     "name": "stdout",
     "output_type": "stream",
     "text": [
      "a [('a', 1), ('a', 2)]\n",
      "b [('b', 1), ('b', 5)]\n",
      "c [('c', 2), ('c', 6)]\n",
      "d [('d', 1), ('d', 21)]\n"
     ]
    }
   ],
   "source": [
    "# -*- coding: utf-8 -*-\n",
    "# @Time    : 2018/8/31 14:32\n",
    "# @Author  : cxa\n",
    "# @File    : glomtest.py\n",
    "# @Software: PyCharm\n",
    "from operator import itemgetter\n",
    "from itertools import groupby\n",
    "\n",
    "a= (('a', 1),('a', 2),('b', 1),('b', 5),('c', 6),('c', 2),('d', 1),('d', 21))\n",
    "b=list(a)\n",
    "b.sort(key=itemgetter(0,1))\n",
    "data_2=groupby(b,itemgetter(0))\n",
    "\n",
    "for k,v in data_2:\n",
    "    print(k,list(v))"
   ]
  },
  {
   "cell_type": "markdown",
   "metadata": {},
   "source": [
    "### 访问字典"
   ]
  },
  {
   "cell_type": "code",
   "execution_count": 3,
   "metadata": {},
   "outputs": [
    {
     "name": "stdout",
     "output_type": "stream",
     "text": [
      "dict_keys([1, 2, 3])\n",
      "dict_values([2, 3, 4])\n"
     ]
    }
   ],
   "source": [
    "dict_1 = {1:2,2:3,3:4}\n",
    "\n",
    "# 访问键keys\n",
    "print(dict_1.keys())\n",
    "\n",
    "# 访问值values\n",
    "print(dict_1.values())"
   ]
  },
  {
   "cell_type": "markdown",
   "metadata": {},
   "source": [
    "### 怎么打印数字print(','.join(list1_str))"
   ]
  },
  {
   "cell_type": "code",
   "execution_count": null,
   "metadata": {},
   "outputs": [],
   "source": []
  }
 ],
 "metadata": {
  "kernelspec": {
   "display_name": "Python 3",
   "language": "python",
   "name": "python3"
  },
  "language_info": {
   "codemirror_mode": {
    "name": "ipython",
    "version": 3
   },
   "file_extension": ".py",
   "mimetype": "text/x-python",
   "name": "python",
   "nbconvert_exporter": "python",
   "pygments_lexer": "ipython3",
   "version": "3.7.4"
  }
 },
 "nbformat": 4,
 "nbformat_minor": 2
}
