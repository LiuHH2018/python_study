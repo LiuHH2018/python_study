{
 "cells": [
  {
   "cell_type": "markdown",
   "metadata": {},
   "source": [
    "### python 元组分组并排序"
   ]
  },
  {
   "cell_type": "code",
   "execution_count": 1,
   "metadata": {},
   "outputs": [
    {
     "name": "stdout",
     "output_type": "stream",
     "text": [
      "a [('a', 1), ('a', 2)]\n",
      "b [('b', 1), ('b', 5)]\n",
      "c [('c', 2), ('c', 6)]\n",
      "d [('d', 1), ('d', 21)]\n"
     ]
    }
   ],
   "source": [
    "# -*- coding: utf-8 -*-\n",
    "# @Time    : 2018/8/31 14:32\n",
    "# @Author  : cxa\n",
    "# @File    : glomtest.py\n",
    "# @Software: PyCharm\n",
    "from operator import itemgetter\n",
    "from itertools import groupby\n",
    "\n",
    "a= (('a', 1),('a', 2),('b', 1),('b', 5),('c', 6),('c', 2),('d', 1),('d', 21))\n",
    "b=list(a)\n",
    "b.sort(key=itemgetter(0,1))\n",
    "data_2=groupby(b,itemgetter(0))\n",
    "\n",
    "for k,v in data_2:\n",
    "    print(k,list(v))"
   ]
  },
  {
   "cell_type": "markdown",
   "metadata": {},
   "source": [
    "### 访问字典"
   ]
  },
  {
   "cell_type": "code",
   "execution_count": 3,
   "metadata": {},
   "outputs": [
    {
     "name": "stdout",
     "output_type": "stream",
     "text": [
      "dict_keys([1, 2, 3])\n",
      "dict_values([2, 3, 4])\n"
     ]
    }
   ],
   "source": [
    "dict_1 = {1:2,2:3,3:4}\n",
    "\n",
    "# 访问键keys\n",
    "print(dict_1.keys())\n",
    "\n",
    "# 访问值values\n",
    "print(dict_1.values())"
   ]
  },
  {
   "cell_type": "markdown",
   "metadata": {},
   "source": [
    "### 非字符串，怎么打印数字print(','.join(list1_str))"
   ]
  },
  {
   "cell_type": "markdown",
   "metadata": {},
   "source": [
    "### filter() 过滤函数"
   ]
  },
  {
   "cell_type": "code",
   "execution_count": 3,
   "metadata": {},
   "outputs": [
    {
     "name": "stdout",
     "output_type": "stream",
     "text": [
      "[1, 3, 5, 7, 9]\n"
     ]
    }
   ],
   "source": [
    "# filter(function, iterable)\n",
    "# function -- 判断函数。\n",
    "# iterable -- 可迭代对象。\n",
    "\n",
    "def is_odd(n):\n",
    "    return n % 2 == 1\n",
    " \n",
    "newlist = filter(is_odd, [1, 2, 3, 4, 5, 6, 7, 8, 9, 10])\n",
    "print(list(newlist))"
   ]
  },
  {
   "cell_type": "markdown",
   "metadata": {},
   "source": [
    "### map() 映射函数"
   ]
  },
  {
   "cell_type": "code",
   "execution_count": 5,
   "metadata": {},
   "outputs": [
    {
     "name": "stdout",
     "output_type": "stream",
     "text": [
      "[1, 4, 9, 16, 25]\n"
     ]
    }
   ],
   "source": [
    "# map(function, iterable, ...)\n",
    "# function -- 函数\n",
    "# iterable -- 一个或多个序列\n",
    "\n",
    "def square(x) :            # 计算平方数\n",
    "    return x ** 2\n",
    "\n",
    "squ = map(square, [1,2,3,4,5])   # 计算列表各个元素的平方\n",
    "print(list(squ))"
   ]
  },
  {
   "cell_type": "markdown",
   "metadata": {},
   "source": [
    "### Python3 中类的静态方法、普通方法、类方法"
   ]
  },
  {
   "cell_type": "code",
   "execution_count": 7,
   "metadata": {},
   "outputs": [
    {
     "name": "stdout",
     "output_type": "stream",
     "text": [
      "静态方法\n",
      "类方法\n",
      "静态方法\n",
      "类方法\n",
      "普通方法\n"
     ]
    }
   ],
   "source": [
    "# Python3 中类的静态方法、普通方法、类方法\n",
    "\n",
    "# 静态方法: 用 @staticmethod 装饰的不带 self 参数的方法叫做静态方法，类的静态方法可以没有参数，可以直接使用类名调用。\n",
    "\n",
    "# 普通方法: 默认有个self参数，且只能被对象调用。\n",
    "\n",
    "# 类方法: 默认有个 cls 参数，可以被类和对象调用，需要加上 @classmethod 装饰器。\n",
    "\n",
    "class Classname:\n",
    "    @staticmethod\n",
    "    def fun():\n",
    "        print('静态方法')\n",
    "\n",
    "    @classmethod\n",
    "    def a(cls):\n",
    "        print('类方法')\n",
    "\n",
    "    # 普通方法\n",
    "    def b(self):\n",
    "        print('普通方法')\n",
    "\n",
    "\n",
    "\n",
    "Classname.fun()\n",
    "Classname.a()\n",
    "\n",
    "C = Classname()\n",
    "C.fun()\n",
    "C.a()\n",
    "C.b()"
   ]
  },
  {
   "cell_type": "code",
   "execution_count": 8,
   "metadata": {},
   "outputs": [
    {
     "name": "stdout",
     "output_type": "stream",
     "text": [
      "19:17:46\n",
      "19:17:46\n"
     ]
    }
   ],
   "source": [
    "# 静态方法\n",
    "import time\n",
    "\n",
    "class TimeTest(object):\n",
    "    def __init__(self, hour, minute, second):\n",
    "        self.hour = hour\n",
    "        self.minute = minute\n",
    "        self.second = second\n",
    "\n",
    "    @staticmethod\n",
    "    def showTime():\n",
    "        return time.strftime(\"%H:%M:%S\", time.localtime())\n",
    "\n",
    "\n",
    "print(TimeTest.showTime())\n",
    "t = TimeTest(2, 10, 10)\n",
    "nowTime = t.showTime()\n",
    "print(nowTime)"
   ]
  },
  {
   "cell_type": "code",
   "execution_count": null,
   "metadata": {},
   "outputs": [],
   "source": []
  }
 ],
 "metadata": {
  "kernelspec": {
   "display_name": "Python 3",
   "language": "python",
   "name": "python3"
  },
  "language_info": {
   "codemirror_mode": {
    "name": "ipython",
    "version": 3
   },
   "file_extension": ".py",
   "mimetype": "text/x-python",
   "name": "python",
   "nbconvert_exporter": "python",
   "pygments_lexer": "ipython3",
   "version": "3.7.4"
  }
 },
 "nbformat": 4,
 "nbformat_minor": 2
}
