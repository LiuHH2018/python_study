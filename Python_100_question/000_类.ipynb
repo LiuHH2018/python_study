{
 "cells": [
  {
   "cell_type": "markdown",
   "metadata": {},
   "source": [
    "# 面向对象--类"
   ]
  },
  {
   "cell_type": "raw",
   "metadata": {},
   "source": [
    "#### 类名必须首字母大写"
   ]
  },
  {
   "cell_type": "code",
   "execution_count": 7,
   "metadata": {},
   "outputs": [
    {
     "name": "stdout",
     "output_type": "stream",
     "text": [
      "Python 实战圈的圈友们好，我是liu，今年18,来自哈尔滨.我的工作是分析师,很高兴认识大家！\n"
     ]
    }
   ],
   "source": [
    "# 例子01\n",
    "class People():\n",
    "      \"\"\"定义人类\"\"\"\n",
    "      def __init__(self,name,location,career):\n",
    "      # 类属性\n",
    "        self.name = name\n",
    "        self.location = location\n",
    "        self.career = career\n",
    "        self.age = 18\n",
    "        \n",
    "      def introduce_you(self):\n",
    "      # 方法\n",
    "        introduce = 'Python 实战圈的圈友们好，我是{n}，今年{a},来自{l}.我的工作是{c},很高兴认识大家！'\n",
    "        mess = introduce.format(n = self.name,\n",
    "                                l = self.location,\n",
    "                                a = self.age,\n",
    "                                c = self.career)\n",
    "        print(mess)\n",
    "        \n",
    "aa = People('liu','哈尔滨','分析师')   # 实例化\n",
    "aa.introduce_you()"
   ]
  },
  {
   "cell_type": "code",
   "execution_count": 15,
   "metadata": {},
   "outputs": [
    {
     "name": "stdout",
     "output_type": "stream",
     "text": [
      "This BMW's engine size 2.0 with 200000 usage\n",
      "This Benz's engine size 1.6 with 10000 usage\n"
     ]
    }
   ],
   "source": [
    "# 实例002\n",
    "class Car():\n",
    "    def __init__(self, name, enineSize, miles):\n",
    "        self.brand = name\n",
    "        self.engine = enineSize\n",
    "        self.usage = miles\n",
    "\n",
    "    def get_into(self):\n",
    "        print(\"This {brand}'s engine size {engine} with {usage} usage\".format(brand = self.brand,\n",
    "                                                                         engine = self.engine,\n",
    "                                                                         usage = self.usage))\n",
    "\n",
    "c1 = Car('BMW','2.0',200000)\n",
    "c2 = Car('Benz','1.6',10000)\n",
    "\n",
    "c1.get_into()\n",
    "c2.get_into();"
   ]
  },
  {
   "cell_type": "code",
   "execution_count": 10,
   "metadata": {},
   "outputs": [
    {
     "name": "stdout",
     "output_type": "stream",
     "text": [
      "Python 实战圈的圈友们好，我是 Grace，今年19,来自上海。我的工作是数据分析,很高兴认识大家！在咱们圈子里，我希望自己能彻底学会 Python。\n"
     ]
    }
   ],
   "source": [
    "#  实例003 （父类与子类）\n",
    "class People():\n",
    "    \"\"\"定义人类\"\"\"\n",
    "    def __init__(self,name,location,career):\n",
    "        self.name = name\n",
    "        self.location = location \n",
    "        self.career = career\n",
    "        self.age = 18 # 默认的属性值，不需要在init方法列表中体现\n",
    "        \n",
    "    def introduce_you(self):\n",
    "        # format()方法的另一个用法是构造消息。也可以把消息写在一个函数里\n",
    "        introduce = 'Python 实战圈的圈友们好，我是 {n} ，今年｛a｝，来自(l)，我的工作是(c)，很高兴认识大家！'\n",
    "        mess = introduce.format(n = self.name,l = self.location,a = self.age,c = self.career)\n",
    "        print(mess)\n",
    "        \n",
    "    def read_age(self):\n",
    "        # 读取年龄属性\n",
    "        print('{}今年{}岁'.format(self.name,self.age))\n",
    "        \n",
    "    def updata_age(self,new_age):\n",
    "        # 更新属性的方法\n",
    "        if new_age < 0:\n",
    "            print('年龄不能为负数')\n",
    "        else:\n",
    "            self.age = new_age\n",
    "        \n",
    "class Member(People):\n",
    "    \"\"\"会员类，继承父类\"\"\"\n",
    "    def __init__(self,name,location,career,hope):\n",
    "        \"\"\"定义子类属性（父类的+子类的）\"\"\"\n",
    "        super().__init__(name,location,career)\n",
    "        self.hope = hope\n",
    "    \n",
    "    def introduce_you(self):\n",
    "        \"\"\"重写父类的方法\"\"\"\n",
    "        introduce = 'Python 实战圈的圈友们好，我是 {n}，今年{a},来自{l}。我的工作是{c},很高兴认识大家！在咱们圈子里，我希望自己能{h}。'\n",
    "        mess = introduce.format(n = self.name, l= self.location, a = self.age, c= self.career, h = self.hope)\n",
    "        print(mess)\n",
    "        \n",
    "    def set_hope(self, hope):\n",
    "        \"\"\"定义子类的方法\"\"\"\n",
    "        self.hope = hope\n",
    "        print(\"{} 的希望是{}\".format(self.name,self.hope))\n",
    "        \n",
    "Grace = Member(\"Grace\",\"上海\",\"数据分析\",\"彻底学会 Python\")\n",
    "Grace.updata_age(19) # 调用父类的方法\n",
    "Grace.introduce_you() # 调用自己重写的方法\n",
    "# Grace.set_hope()  #怎么调用？？？"
   ]
  }
 ],
 "metadata": {
  "kernelspec": {
   "display_name": "Python 3",
   "language": "python",
   "name": "python3"
  },
  "language_info": {
   "codemirror_mode": {
    "name": "ipython",
    "version": 3
   },
   "file_extension": ".py",
   "mimetype": "text/x-python",
   "name": "python",
   "nbconvert_exporter": "python",
   "pygments_lexer": "ipython3",
   "version": "3.7.4"
  }
 },
 "nbformat": 4,
 "nbformat_minor": 2
}
