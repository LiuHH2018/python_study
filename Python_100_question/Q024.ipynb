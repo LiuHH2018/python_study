{
 "cells": [
  {
   "cell_type": "markdown",
   "metadata": {},
   "source": [
    "### 需要问常"
   ]
  },
  {
   "cell_type": "code",
   "execution_count": null,
   "metadata": {},
   "outputs": [],
   "source": [
    "# Q024\n",
    "# 2019/12/14\n",
    "# Tag: function document\n",
    "# Description:  Python has many built-in functions, and if you do not know how to use it, you can read document online\n",
    "#               or find some books. But Python has a built-in document function for every built-in functions.\n",
    "#               Please write a program to print some Python built-in functions documents, such as abs(), int(), raw_input()\n",
    "#               And add document for your own function\n",
    "\n",
    "print(abs.__doc__)\n",
    "# print int.__doc__\n",
    "# print raw_input.__doc__\n",
    "\n",
    "#描述：Python有许多内置函数，如果您不知道如何使用它，可以在线阅读文档或查找一些书籍。但是Python对于每个内置函数都有一个内置的文档函数。\n",
    "\n",
    "# 请编写一个程序来打印一些Python内置函数文档，如abs（）、int（）、raw_input（）。并为自己的函数添加文档"
   ]
  },
  {
   "cell_type": "code",
   "execution_count": 1,
   "metadata": {},
   "outputs": [
    {
     "name": "stdout",
     "output_type": "stream",
     "text": [
      "4\n",
      "Return the square value of the input number.\n",
      "    The input number must be integer.\n",
      "    \n"
     ]
    }
   ],
   "source": [
    "def square(num):\n",
    "    '''Return the square value of the input number.\n",
    "    The input number must be integer.\n",
    "    '''\n",
    "    return num ** 2\n",
    "\n",
    "\n",
    "print(square(2))\n",
    "print(square.__doc__)"
   ]
  }
 ],
 "metadata": {
  "kernelspec": {
   "display_name": "Python 3",
   "language": "python",
   "name": "python3"
  },
  "language_info": {
   "codemirror_mode": {
    "name": "ipython",
    "version": 3
   },
   "file_extension": ".py",
   "mimetype": "text/x-python",
   "name": "python",
   "nbconvert_exporter": "python",
   "pygments_lexer": "ipython3",
   "version": "3.7.4"
  }
 },
 "nbformat": 4,
 "nbformat_minor": 2
}
