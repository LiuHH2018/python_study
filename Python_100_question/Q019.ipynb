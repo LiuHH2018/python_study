{
 "cells": [
  {
   "cell_type": "code",
   "execution_count": 19,
   "metadata": {},
   "outputs": [
    {
     "name": "stdout",
     "output_type": "stream",
     "text": [
      "请输入信息：Tom,19,80\n",
      "请输入信息：John,20,90\n",
      "请输入信息：Jony,17,91\n",
      "请输入信息：Jony,17,93\n",
      "请输入信息：Json,21,85\n",
      "请输入信息：n\n"
     ]
    },
    {
     "data": {
      "text/plain": [
       "[('John', '20', '90'),\n",
       " ('Jony', '17', '91'),\n",
       " ('Jony', '17', '93'),\n",
       " ('Json', '21', '85'),\n",
       " ('Tom', '19', '80')]"
      ]
     },
     "execution_count": 19,
     "metadata": {},
     "output_type": "execute_result"
    }
   ],
   "source": [
    "# Q019\n",
    "# 2019/12/12\n",
    "# Tag: priority sorting\n",
    "# Description: You are required to write a program to sort the (name, age, height) tuples by ascending order where name\n",
    "#              is string, age and height are numbers. The tuples are input by console. The sort criteria is:\n",
    "# 1: Sort based on name;\n",
    "# 2: Then sort based on age;\n",
    "# 3: Then sort by score.\n",
    "# The priority is that name > age > score.\n",
    "#\n",
    "# If the following tuples are given as input to the program:\n",
    "# Tom,19,80\n",
    "# John,20,90\n",
    "# Jony,17,91\n",
    "# Jony,17,93\n",
    "# Json,21,85\n",
    "# Then, the output of the program should be:\n",
    "# [('John', '20', '90'), ('Jony', '17', '91'), ('Jony', '17', '93'), ('Json', '21', '85'), ('Tom', '19', '80')]\n",
    "\n",
    "#描述：您需要编写一个程序来按升序对（name，age，height）元组进行排序，其中name是字符串，age和height是数字。元组由控制台输入。排序条件为：\n",
    "#1：按名称排序；\n",
    "#2:然后按年龄排序；\n",
    "#3:然后按分数排序。\n",
    "#优先考虑的是名字>年龄>分数。\n",
    "#如果将下列元组作为程序的输入：\n",
    "# Tom,19,80\n",
    "# John,20,90\n",
    "# Jony,17,91\n",
    "# Jony,17,93\n",
    "# Json,21,85\n",
    "#那么，程序的输出应该是：\n",
    "# [('John', '20', '90'), ('Jony', '17', '91'), ('Jony', '17', '93'), ('Json', '21', '85'), ('Tom', '19', '80')]\n",
    "\n",
    "# 当输入为 N 的时候停止输入\n",
    "from operator import itemgetter\n",
    "\n",
    "def order():\n",
    "    program = []\n",
    "    while 1==1:\n",
    "        input_w = input(\"请输入信息：\")\n",
    "        if input_w.upper() ==\"N\":\n",
    "            break\n",
    "        else:\n",
    "            program.append(tuple(input_w.split(',')))\n",
    "    program.sort(key=itemgetter(0,1,2))\n",
    "    return program\n",
    "\n",
    "order()"
   ]
  },
  {
   "cell_type": "code",
   "execution_count": 28,
   "metadata": {},
   "outputs": [
    {
     "name": "stdout",
     "output_type": "stream",
     "text": [
      "Amy 43 231\n",
      "David 18 342\n",
      "David 19 202\n",
      "David 19 203\n",
      "Mike 23 100\n"
     ]
    }
   ],
   "source": [
    "# 优秀例子\n",
    "# 解题思路：把\n",
    "from operator import attrgetter\n",
    "\n",
    "class people():\n",
    "    def __init__(self, name, age, score):\n",
    "        self.name = name\n",
    "        self.age = age\n",
    "        self.score = score\n",
    "# 排序\n",
    "def priority_sort(p) -> list:\n",
    "    res = sorted(p,key = attrgetter('name','age','score'))\n",
    "    return res\n",
    "\n",
    "p1 = people('David',19,203)\n",
    "p2 = people('Mike',23,100)\n",
    "p3 = people('David',19,202)\n",
    "p4 = people('David',18,342)\n",
    "p5 = people('Amy',43,231)\n",
    "\n",
    "p = [p1,p2,p3,p4,p5]\n",
    "res = priority_sort(p)\n",
    "\n",
    "for r in res:\n",
    "    print(r.name,str(r.age),str(r.score))"
   ]
  }
 ],
 "metadata": {
  "kernelspec": {
   "display_name": "Python 3",
   "language": "python",
   "name": "python3"
  },
  "language_info": {
   "codemirror_mode": {
    "name": "ipython",
    "version": 3
   },
   "file_extension": ".py",
   "mimetype": "text/x-python",
   "name": "python",
   "nbconvert_exporter": "python",
   "pygments_lexer": "ipython3",
   "version": "3.7.4"
  }
 },
 "nbformat": 4,
 "nbformat_minor": 2
}
