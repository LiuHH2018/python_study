{
 "cells": [
  {
   "cell_type": "code",
   "execution_count": 4,
   "metadata": {},
   "outputs": [
    {
     "name": "stdout",
     "output_type": "stream",
     "text": [
      "love you\n"
     ]
    }
   ],
   "source": [
    "# Q030\n",
    "# Created by JKChang\n",
    "# 28/04/2017, 13:43\n",
    "# Tag: concatenate strings\n",
    "# Description: Define a function that can accept two strings as input and concatenate them and then print it in console.\n",
    "\n",
    "#描述：定义一个函数，它可以接受两个字符串作为输入，并将它们连接起来，然后在控制台中打印出来。\n",
    "\n",
    "def str_con(str1,str2):\n",
    "    str_over = str1 + str2\n",
    "    return str_over\n",
    "\n",
    "print(str_con('love ','you'))"
   ]
  }
 ],
 "metadata": {
  "kernelspec": {
   "display_name": "Python 3",
   "language": "python",
   "name": "python3"
  },
  "language_info": {
   "codemirror_mode": {
    "name": "ipython",
    "version": 3
   },
   "file_extension": ".py",
   "mimetype": "text/x-python",
   "name": "python",
   "nbconvert_exporter": "python",
   "pygments_lexer": "ipython3",
   "version": "3.7.4"
  }
 },
 "nbformat": 4,
 "nbformat_minor": 2
}
