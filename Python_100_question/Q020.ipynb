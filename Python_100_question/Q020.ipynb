{
 "cells": [
  {
   "cell_type": "code",
   "execution_count": 29,
   "metadata": {},
   "outputs": [
    {
     "name": "stdout",
     "output_type": "stream",
     "text": [
      "0\n",
      "7\n",
      "14\n"
     ]
    }
   ],
   "source": [
    "# Q020\n",
    "# 2019/12/12\n",
    "# Tag: yield\n",
    "# Description: Define a class with a generator which can iterate the numbers, which are divisible by 7,\n",
    "#              between a given range 0 and n.\n",
    "\n",
    "#描述：使用生成器定义一个类，该生成器可以在给定范围0和n之间迭代可被7整除的数字。\n",
    "\n",
    "class Seven():\n",
    "    def __init__(self,over_n):\n",
    "        self.over_n = over_n\n",
    "    \n",
    "    def is_seven(self):\n",
    "        for i in range(0,self.over_n+1):\n",
    "            if i % 7 ==0:\n",
    "                yield i\n",
    "        \n",
    "w = Seven(14)\n",
    "res = w.is_seven()\n",
    "\n",
    "for i in res:\n",
    "    print(i)    "
   ]
  }
 ],
 "metadata": {
  "kernelspec": {
   "display_name": "Python 3",
   "language": "python",
   "name": "python3"
  },
  "language_info": {
   "codemirror_mode": {
    "name": "ipython",
    "version": 3
   },
   "file_extension": ".py",
   "mimetype": "text/x-python",
   "name": "python",
   "nbconvert_exporter": "python",
   "pygments_lexer": "ipython3",
   "version": "3.7.4"
  }
 },
 "nbformat": 4,
 "nbformat_minor": 2
}
