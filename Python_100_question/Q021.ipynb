{
 "cells": [
  {
   "cell_type": "code",
   "execution_count": 3,
   "metadata": {},
   "outputs": [
    {
     "name": "stdout",
     "output_type": "stream",
     "text": [
      "请输入移动情况：UP 5\n",
      "请输入移动情况：DOWN 3\n",
      "请输入移动情况：LEFT 3\n",
      "请输入移动情况：RIGHT 2\n",
      "请输入移动情况：er 6\n",
      "您输入的格式不对，请输入“方向 步数”，比如：UP 5，谢谢配合！\n",
      "请输入移动情况：N\n"
     ]
    },
    {
     "data": {
      "text/plain": [
       "2"
      ]
     },
     "execution_count": 3,
     "metadata": {},
     "output_type": "execute_result"
    }
   ],
   "source": [
    "# Q021\n",
    "# 2019/12/13\n",
    "# Tag: direction and steps\n",
    "# Description: The numbers after the direction are steps. Please write a program to compute the distance from current\n",
    "#              position after a sequence of movement and original point. If the distance is a float, then just print\n",
    "#              the nearest integer.\n",
    "# Example:\n",
    "# If the following tuples are given as input to the program:\n",
    "# UP 5\n",
    "# DOWN 3\n",
    "# LEFT 3\n",
    "# RIGHT 2\n",
    "# Then, the output of the program should be:\n",
    "# 2\n",
    "\n",
    "# 说明：方向后面的数字是步数。请写一个程序，计算出一系列运动和原点后距离当前位置的距离。如果距离是浮点数，则只打印最接近的整数。\n",
    "# 示例：\n",
    "# 如果将下列元组作为程序的输入：\n",
    "# UP 5\n",
    "# DOWN 3\n",
    "# LEFT 3\n",
    "# RIGHT 2\n",
    "# 那么，程序的输出应该是：\n",
    "# 2\n",
    "\n",
    "# 解题思路：把运动看成是在象限里，先根据运动方向和步数计算坐标点，然后根据坐标点算距离。\n",
    "# 注意：考虑大小写、弹出格式不正确的提醒\n",
    "\n",
    "# 如果不继续移动，请输入“N”\n",
    "\n",
    "import math\n",
    "\n",
    "def distance():\n",
    "    x = 0\n",
    "    y = 0\n",
    "    \n",
    "    while True:\n",
    "        move = input(\"请输入移动情况：\")\n",
    "        \n",
    "        if move.upper() != \"N\":\n",
    "            move_li = move.split(' ')\n",
    "            direction = move_li[0]\n",
    "            step = int(move_li[1])\n",
    "            \n",
    "            if direction.upper() ==\"LEFT\":\n",
    "                x -= step\n",
    "            elif direction.upper() ==\"RIGHT\":\n",
    "                x += step\n",
    "            elif direction.upper() ==\"DOWN\":\n",
    "                y -= step\n",
    "            elif direction.upper() ==\"UP\":\n",
    "                y += step\n",
    "            else:\n",
    "                print(\"您输入的格式不对，请输入“方向 步数”，比如：UP 5，谢谢配合！\")\n",
    "        else:\n",
    "            \n",
    "    \n",
    "    distance = round(math.sqrt(x**2 + y**2),0)\n",
    "    return distance\n",
    "\n",
    "distance()"
   ]
  },
  {
   "cell_type": "code",
   "execution_count": 6,
   "metadata": {},
   "outputs": [
    {
     "name": "stdout",
     "output_type": "stream",
     "text": [
      "2\n"
     ]
    }
   ],
   "source": [
    "## 尝试同类的方式书写(一次写成，真棒，你比你想象中的厉害，谢谢常~~)\n",
    "\n",
    "import math\n",
    "\n",
    "class Move():\n",
    "    def __init__(self,direction,step):\n",
    "        self.direction = direction\n",
    "        self.step = step\n",
    "        \n",
    "def distance(direction,step)->list:\n",
    "    x = 0\n",
    "    y = 0\n",
    "            \n",
    "    if direction.upper() ==\"LEFT\":\n",
    "        x -= step\n",
    "    elif direction.upper() ==\"RIGHT\":\n",
    "        x += step\n",
    "    elif direction.upper() ==\"DOWN\":\n",
    "        y -= step\n",
    "    elif direction.upper() ==\"UP\":\n",
    "        y += step\n",
    "    else:\n",
    "        print(\"您输入的格式不对，请输入“方向 步数”，比如：UP 5，谢谢配合！\")\n",
    "    \n",
    "    distance = round(math.sqrt(x**2 + y**2))\n",
    "    return distance\n",
    "\n",
    "m1 = Move(\"UP\",5)\n",
    "m2 = Move(\"DOWN\",3)\n",
    "m3 = Move(\"LEFT\",3)\n",
    "m4 = Move(\"RIGHT\",2)\n",
    "\n",
    "m = [m1,m2,m3,m4]\n",
    "\n",
    "for i in m:\n",
    "    distance_over = distance(i.direction,i.step)\n",
    "    \n",
    "print(distance_over)"
   ]
  }
 ],
 "metadata": {
  "kernelspec": {
   "display_name": "Python 3",
   "language": "python",
   "name": "python3"
  }
 },
 "nbformat": 4,
 "nbformat_minor": 2
}
