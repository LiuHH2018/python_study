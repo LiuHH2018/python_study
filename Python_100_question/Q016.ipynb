{
 "cells": [
  {
   "cell_type": "code",
   "execution_count": 1,
   "metadata": {},
   "outputs": [
    {
     "name": "stdout",
     "output_type": "stream",
     "text": [
      "请输入数字：1,2,3,4,5,6,7,8,9\n",
      "1,3,5,7,9\n"
     ]
    }
   ],
   "source": [
    "# Q016\n",
    "# 2019/12/09\n",
    "# Tag: control flow in a list\n",
    "# Description: Use a list comprehension to square each odd number in a list. The list is input by a sequence of\n",
    "#              comma-separated numbers.\n",
    "#\n",
    "# Example: Suppose the following input is supplied to the program:\n",
    "#           1,2,3,4,5,6,7,8,9\n",
    "#           Then, the output should be:\n",
    "#           1,3,5,7,9\n",
    "\n",
    "#描述：使用列表理解将列表中的每个奇数平方。列表由一系列逗号分隔的数字输入。\n",
    "\n",
    "#示例：假设向程序提供了以下输入：\n",
    "#1,2,3,4,5,6,7,8,9\n",
    "#那么，输出应该是：\n",
    "#1,3,5,7,9\n",
    "\n",
    "num = input(\"请输入数字：\")\n",
    "num_list = num.split(',')\n",
    "num_out = []\n",
    "for i in num_list:\n",
    "    if int(i)% 2 !=0:\n",
    "        num_out.append(i)\n",
    "print(','.join(num_out))"
   ]
  },
  {
   "cell_type": "markdown",
   "metadata": {},
   "source": [
    "### 分隔函数 split()"
   ]
  },
  {
   "cell_type": "code",
   "execution_count": 7,
   "metadata": {},
   "outputs": [
    {
     "name": "stdout",
     "output_type": "stream",
     "text": [
      "['Line1-abcdef', 'Line2-abc', 'Line4-abcd']\n",
      "['Line1-abcdef', '\\nLine2-abc \\nLine4-abcd']\n"
     ]
    }
   ],
   "source": [
    "# Python split() 通过指定分隔符对字符串进行切片，如果参数 num 有指定值，则分隔 num+1 个子字符串\n",
    "# str.split(str=\"\", num=string.count(str))\n",
    "# str -- 分隔符，默认为所有的空字符，包括空格、换行(\\n)、制表符(\\t)等。\n",
    "# num -- 分割次数。默认为 -1, 即分隔所有\n",
    "\n",
    "str = \"Line1-abcdef \\nLine2-abc \\nLine4-abcd\";\n",
    "print(str.split( ))       #以空格为分隔符，包含 \\n\n",
    "print(str.split(' ', 1 )) #以空格为分隔符，分隔成两个"
   ]
  }
 ],
 "metadata": {
  "kernelspec": {
   "display_name": "Python 3",
   "language": "python",
   "name": "python3"
  },
  "language_info": {
   "codemirror_mode": {
    "name": "ipython",
    "version": 3
   },
   "file_extension": ".py",
   "mimetype": "text/x-python",
   "name": "python",
   "nbconvert_exporter": "python",
   "pygments_lexer": "ipython3",
   "version": "3.7.4"
  }
 },
 "nbformat": 4,
 "nbformat_minor": 2
}
