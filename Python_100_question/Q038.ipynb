{
 "cells": [
  {
   "cell_type": "code",
   "execution_count": 3,
   "metadata": {},
   "outputs": [
    {
     "data": {
      "text/plain": [
       "[1, 4, 9, 16, 25]"
      ]
     },
     "execution_count": 3,
     "metadata": {},
     "output_type": "execute_result"
    }
   ],
   "source": [
    "# Q038\n",
    "# 2019/12/17\n",
    "# Tag: list subtraction\n",
    "# Description: Define a function which can generate a list where the values are square of numbers between 1 and 20 (\n",
    "#              both included). Then the function needs to print the first 5 elements in the list.\n",
    "\n",
    "#描述：定义一个函数，该函数可以生成一个列表，其中的值是介于1和20之间（两者都包括在内）的数字的平方。然后函数需要打印列表中的前5个元素。\n",
    "\n",
    "def squ_5(star,end):\n",
    "    squ = [i**2 for i in range(star,end+1)]\n",
    "    return squ[0:5]\n",
    "\n",
    "squ_5(1,20)"
   ]
  }
 ],
 "metadata": {
  "kernelspec": {
   "display_name": "Python 3",
   "language": "python",
   "name": "python3"
  },
  "language_info": {
   "codemirror_mode": {
    "name": "ipython",
    "version": 3
   },
   "file_extension": ".py",
   "mimetype": "text/x-python",
   "name": "python",
   "nbconvert_exporter": "python",
   "pygments_lexer": "ipython3",
   "version": "3.7.5"
  }
 },
 "nbformat": 4,
 "nbformat_minor": 2
}
