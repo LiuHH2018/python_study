{
 "cells": [
  {
   "cell_type": "code",
   "execution_count": 1,
   "metadata": {},
   "outputs": [
    {
     "name": "stdout",
     "output_type": "stream",
     "text": [
      "1\n",
      "4\n",
      "9\n",
      "16\n",
      "25\n",
      "36\n"
     ]
    }
   ],
   "source": [
    "# Q023\n",
    "# 2019/12/14\n",
    "# Tag: square value\n",
    "# Description: Write a method which can calculate square value of number.\n",
    "\n",
    "# 描述：编写一种计算数字平方值的方法\n",
    "\n",
    "def sq(num):\n",
    "    num_s = num**2\n",
    "    return num_s\n",
    "\n",
    "res = [1,2,3,4,5,6]\n",
    "for i in res:\n",
    "    sq_out = sq(i)\n",
    "    print(sq_out)"
   ]
  }
 ],
 "metadata": {
  "kernelspec": {
   "display_name": "Python 3",
   "language": "python",
   "name": "python3"
  },
  "language_info": {
   "codemirror_mode": {
    "name": "ipython",
    "version": 3
   },
   "file_extension": ".py",
   "mimetype": "text/x-python",
   "name": "python",
   "nbconvert_exporter": "python",
   "pygments_lexer": "ipython3",
   "version": "3.7.4"
  }
 },
 "nbformat": 4,
 "nbformat_minor": 2
}
