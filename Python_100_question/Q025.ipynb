{
 "cells": [
  {
   "cell_type": "code",
   "execution_count": 3,
   "metadata": {},
   "outputs": [
    {
     "name": "stdout",
     "output_type": "stream",
     "text": [
      "car1 的重量为 125 吨\n"
     ]
    }
   ],
   "source": [
    "# Q025\n",
    "# 2019/12/14\n",
    "# Tag: class parameter & instance parameter\n",
    "# Description:  Define a class, which have a class parameter and have a same instance parameter.\n",
    "\n",
    "# 描述：定义一个类，该类具有一个类参数，并且具有相同的实例参数。\n",
    "\n",
    "class Car():\n",
    "    def __init__(self,wight):\n",
    "        self.wight = wight\n",
    "        \n",
    "car1 = Car('125')\n",
    "print(f'car1 的重量为 {car1.wight} 吨')"
   ]
  }
 ],
 "metadata": {
  "kernelspec": {
   "display_name": "Python 3",
   "language": "python",
   "name": "python3"
  },
  "language_info": {
   "codemirror_mode": {
    "name": "ipython",
    "version": 3
   },
   "file_extension": ".py",
   "mimetype": "text/x-python",
   "name": "python",
   "nbconvert_exporter": "python",
   "pygments_lexer": "ipython3",
   "version": "3.7.4"
  }
 },
 "nbformat": 4,
 "nbformat_minor": 2
}
