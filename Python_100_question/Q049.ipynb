{
 "cells": [
  {
   "cell_type": "code",
   "execution_count": 1,
   "metadata": {},
   "outputs": [
    {
     "name": "stdout",
     "output_type": "stream",
     "text": [
      "[1, 4, 9, 16, 25, 36, 49, 64, 81, 100, 121, 144, 169, 196, 225, 256, 289, 324, 361, 400]\n"
     ]
    }
   ],
   "source": [
    "# Q049\n",
    "# 2019/12/19\n",
    "# Tag: map, lambda and range\n",
    "# Description: Write a program which can map() to make a list whose elements are square of numbers between 1 and 20.\n",
    "\n",
    "#描述：编写一个程序，它可以映射（）以生成元素为1到20之间的数字平方的列表。\n",
    "\n",
    "def squ(num):\n",
    "    return num**2\n",
    "\n",
    "squ_word = map(squ,range(1,21))\n",
    "print(list(squ_word))"
   ]
  }
 ],
 "metadata": {
  "kernelspec": {
   "display_name": "Python 3",
   "language": "python",
   "name": "python3"
  },
  "language_info": {
   "codemirror_mode": {
    "name": "ipython",
    "version": 3
   },
   "file_extension": ".py",
   "mimetype": "text/x-python",
   "name": "python",
   "nbconvert_exporter": "python",
   "pygments_lexer": "ipython3",
   "version": "3.7.4"
  }
 },
 "nbformat": 4,
 "nbformat_minor": 2
}
