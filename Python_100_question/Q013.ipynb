{
 "cells": [
  {
   "cell_type": "code",
   "execution_count": 6,
   "metadata": {},
   "outputs": [
    {
     "name": "stdout",
     "output_type": "stream",
     "text": [
      "请输入句子：hello world! 123\n",
      "您输入的语句中字符有 10 个，数字有 3 个！\n"
     ]
    }
   ],
   "source": [
    "# Q013\n",
    "# 22019/12/08\n",
    "# Tag: count digits and letters\n",
    "# Description: Write a program that accepts a sentence and calculate the number of letters and digits.\n",
    "#\n",
    "# Example: Suppose the following input is supplied to the program:\n",
    "#          hello world! 123\n",
    "#          Then, the output should be:\n",
    "#          LETTERS 10\n",
    "#          DIGITS 3\n",
    "\n",
    "#描述：编写一个接受句子并计算字母和数字的程序。\n",
    "#示例：假设向程序提供了以下输入：\n",
    "#          hello world! 123\n",
    "#那么，输出应该是：\n",
    "#字母10\n",
    "#数字3\n",
    "\n",
    "word = input(\"请输入句子：\")\n",
    "letter = 0\n",
    "num = 0\n",
    "for i in word:\n",
    "    if i.isalpha() == True:\n",
    "        letter +=1\n",
    "    elif i.isdigit() == True:\n",
    "        num +=1\n",
    "print(f'您输入的语句中字符有 {letter} 个，数字有 {num} 个！')"
   ]
  },
  {
   "cell_type": "markdown",
   "metadata": {},
   "source": [
    "### 判断字符串是字母还是数字"
   ]
  },
  {
   "cell_type": "code",
   "execution_count": null,
   "metadata": {},
   "outputs": [],
   "source": [
    "严格解析：有除了数字或者字母外的符号（空格，分号,etc.）都会False\n",
    "isalnum()必须是数字和字母的混合\n",
    "isalpha()不区分大小写\n",
    "\n",
    "str_1 = \"123\"\n",
    "str_2 = \"Abc\"\n",
    "str_3 = \"123Abc\"\n",
    "\n",
    "#用isdigit函数判断是否数字\n",
    "print(str_1.isdigit())\n",
    "Ture\n",
    "print(str_2.isdigit())\n",
    "False\n",
    "print(str_3.isdigit())\n",
    "False\n",
    "\n",
    "#用isalpha判断是否字母\n",
    "print(str_1.isalpha())    \n",
    "False\n",
    "print(str_2.isalpha())\n",
    "Ture    \n",
    "print(str_3.isalpha())    \n",
    "False\n",
    "\n",
    "#isalnum判断是否数字和字母的组合\n",
    "print(str_1.isalnum())    \n",
    "Ture\n",
    "print(str_2.isalnum())\n",
    "Ture\n",
    "print(str_1.isalnum())    \n",
    "Ture\n",
    "注意：如果字符串中含有除了字母或者数字之外的字符，比如空格，也会返回False"
   ]
  }
 ],
 "metadata": {
  "kernelspec": {
   "display_name": "Python 3",
   "language": "python",
   "name": "python3"
  },
  "language_info": {
   "codemirror_mode": {
    "name": "ipython",
    "version": 3
   },
   "file_extension": ".py",
   "mimetype": "text/x-python",
   "name": "python",
   "nbconvert_exporter": "python",
   "pygments_lexer": "ipython3",
   "version": "3.7.4"
  }
 },
 "nbformat": 4,
 "nbformat_minor": 2
}
