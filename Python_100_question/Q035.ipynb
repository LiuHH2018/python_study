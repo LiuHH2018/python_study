{
 "cells": [
  {
   "cell_type": "code",
   "execution_count": 1,
   "metadata": {
    "scrolled": true
   },
   "outputs": [
    {
     "name": "stdout",
     "output_type": "stream",
     "text": [
      "1,4,9,16,25,36,49,64,81,100,121,144,169,196,225,256,289,324,361,400\n"
     ]
    }
   ],
   "source": [
    "# Q035\n",
    "# 2019/12/16\n",
    "# Tag: dictionary initialization\n",
    "# Description: Define a function which can generate a dictionary where the keys are numbers between 1 and 20 (both\n",
    "#              included) and the values are square of keys. The function should just print the values only.\n",
    "\n",
    "#描述：定义一个函数，该函数可以生成一个字典，其中键是1到20之间的数字（包括1和20），值是键的平方。函数应该只打印值。\n",
    "\n",
    "def dict_v(star,end):\n",
    "    dict_v ={}\n",
    "    dict_l =[]\n",
    "    for i in range(star,end+1):\n",
    "        dict_v[i] = i**2\n",
    "    for key in dict_v:\n",
    "        dict_l.append(dict_v[key])\n",
    "    return dict_l\n",
    "\n",
    "list_d = dict_v(1,20)\n",
    "print(','.join('%s' %n for n in list_d))"
   ]
  }
 ],
 "metadata": {
  "kernelspec": {
   "display_name": "Python 3",
   "language": "python",
   "name": "python3"
  },
  "language_info": {
   "codemirror_mode": {
    "name": "ipython",
    "version": 3
   },
   "file_extension": ".py",
   "mimetype": "text/x-python",
   "name": "python",
   "nbconvert_exporter": "python",
   "pygments_lexer": "ipython3",
   "version": "3.7.4"
  }
 },
 "nbformat": 4,
 "nbformat_minor": 2
}
