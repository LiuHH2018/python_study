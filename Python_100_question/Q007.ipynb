{
 "cells": [
  {
   "cell_type": "code",
   "execution_count": null,
   "metadata": {},
   "outputs": [],
   "source": [
    "# Q007 two dimentional Array\n",
    "# 2019/12/4\n",
    "# Tag: multidimensional array\n",
    "# Description: Write a program which takes 2 digits, X,Y as input and generates a 2-dimensional array. The element\n",
    "#              value in the i-th row and j-th column of the array should be i*j.\n",
    "#              Note: i=0,1.., X-1; j=0,1 !=Y-1.\n",
    "\n",
    "# Example\n",
    "# Suppose the following inputs are given to the program:\n",
    "# 3,5\n",
    "# Then, the output of the program should be:\n",
    "# [[0, 0, 0, 0, 0], [0, 1, 2, 3, 4], [0, 2, 4, 6, 8]]\n",
    "\n",
    "# 描述：编写一个以2位X，Y为输入，生成二维数组的程序。元素数组的第i行和第j列中的值应为i*j。\n",
    "# 注：i=0,1..，X-1；j=0,1！=Y-1。\n",
    "\n",
    "# 例子\n",
    "# 假设程序有以下输入：\n",
    "# 3,5个\n",
    "# 那么，程序的输出应该是：\n",
    "# [[0，0，0，0，0]，[0，1，2，3，4]，[0，2，4，6，8]]\n",
    "\n"
   ]
  }
 ],
 "metadata": {
  "kernelspec": {
   "display_name": "Python 3",
   "language": "python",
   "name": "python3"
  },
  "language_info": {
   "codemirror_mode": {
    "name": "ipython",
    "version": 3
   },
   "file_extension": ".py",
   "mimetype": "text/x-python",
   "name": "python",
   "nbconvert_exporter": "python",
   "pygments_lexer": "ipython3",
   "version": "3.7.4"
  }
 },
 "nbformat": 4,
 "nbformat_minor": 2
}
