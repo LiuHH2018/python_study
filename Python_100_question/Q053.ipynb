{
 "cells": [
  {
   "cell_type": "code",
   "execution_count": 1,
   "metadata": {},
   "outputs": [
    {
     "data": {
      "text/plain": [
       "20"
      ]
     },
     "execution_count": 1,
     "metadata": {},
     "output_type": "execute_result"
    }
   ],
   "source": [
    "# Q053\n",
    "# 2019/12/24\n",
    "# Tag: class\n",
    "# Description: Define a class named Rectangle which can be constructed by a length and width. The Rectangle class has\n",
    "#              a method which can compute the area.\n",
    "\n",
    "#描述：定义一个名为Rectangle的类，该类可以由长度和宽度构造。矩形类有一个计算面积的方法。\n",
    "\n",
    "class Rectangle():\n",
    "    def __init__(self, long, wide):\n",
    "        self.long = long\n",
    "        self.wide = wide\n",
    "    \n",
    "    def area(self):\n",
    "        r_area = self.long * self.wide\n",
    "        return r_area\n",
    "    \n",
    "rec = Rectangle(5,4)\n",
    "rec.area()"
   ]
  }
 ],
 "metadata": {
  "kernelspec": {
   "display_name": "Python 3",
   "language": "python",
   "name": "python3"
  },
  "language_info": {
   "codemirror_mode": {
    "name": "ipython",
    "version": 3
   },
   "file_extension": ".py",
   "mimetype": "text/x-python",
   "name": "python",
   "nbconvert_exporter": "python",
   "pygments_lexer": "ipython3",
   "version": "3.7.5"
  }
 },
 "nbformat": 4,
 "nbformat_minor": 2
}
