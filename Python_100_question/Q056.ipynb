{
 "cells": [
  {
   "cell_type": "code",
   "execution_count": 1,
   "metadata": {},
   "outputs": [
    {
     "name": "stdout",
     "output_type": "stream",
     "text": [
      "数据有错误\n"
     ]
    }
   ],
   "source": [
    "# Q056\n",
    "# 2019/12/26\n",
    "# Tag: exception\n",
    "# Description: Write a function to compute 5/0 and use try/except to catch the exceptions.\n",
    "\n",
    "#描述：编写一个计算5/0的函数，并使用try/except捕捉异常\n",
    "\n",
    "def division(num1,num2):\n",
    "    div = num1/num2\n",
    "    return div\n",
    "\n",
    "try:\n",
    "    num1 = 5\n",
    "    num2 = 0\n",
    "    d = division(5,0)\n",
    "    print(d)\n",
    "except:\n",
    "    print(\"数据有错误\")\n",
    "    "
   ]
  }
 ],
 "metadata": {
  "kernelspec": {
   "display_name": "Python 3",
   "language": "python",
   "name": "python3"
  },
  "language_info": {
   "codemirror_mode": {
    "name": "ipython",
    "version": 3
   },
   "file_extension": ".py",
   "mimetype": "text/x-python",
   "name": "python",
   "nbconvert_exporter": "python",
   "pygments_lexer": "ipython3",
   "version": "3.7.5"
  }
 },
 "nbformat": 4,
 "nbformat_minor": 2
}
