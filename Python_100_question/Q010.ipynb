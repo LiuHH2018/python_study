{
 "cells": [
  {
   "cell_type": "code",
   "execution_count": 1,
   "metadata": {},
   "outputs": [
    {
     "name": "stdout",
     "output_type": "stream",
     "text": [
      "请输入编辑的单词：hello world and practice makes perfect and hello world again \n"
     ]
    },
    {
     "data": {
      "text/plain": [
       "' again and hello makes perfect practice world'"
      ]
     },
     "execution_count": 1,
     "metadata": {},
     "output_type": "execute_result"
    }
   ],
   "source": [
    "# Q010\n",
    "# 2019/12/07\n",
    "# Tag: remove duplicate\n",
    "# Description: Write a program that accepts a sequence of whitespace separated words as input and prints the words\n",
    "#              after removing all duplicate words and sorting them alphanumerically.\n",
    "#\n",
    "# Suppose the following input is supplied to the program:\n",
    "# hello world and practice makes perfect and hello world again\n",
    "# Then, the output should be:\n",
    "# again and hello makes perfect practice world\n",
    "\n",
    "# In case of input data being supplied to the question, it should be assumed to be a console input.\n",
    "# We use set container to remove duplicated data automatically and then use sorted() to sort the data.\n",
    "\n",
    "#描述：编写一个程序，它接受一系列空格分隔的单词作为输入并打印这些单词，删除所有重复的单词并按字母顺序排列后。\n",
    "\n",
    "#假设向程序提供了以下输入：\n",
    "#hello world and practice makes perfect and hello world again \n",
    "#那么，输出应该是：\n",
    "#again and hello makes perfect practice world\n",
    "\n",
    "#如果向问题提供了输入数据，则应假定它是控制台输入。\n",
    "#我们使用set container自动删除重复的数据，然后使用sorted（）对数据进行排序。\n",
    "\n",
    "def world_edit():\n",
    "    world = input(\"请输入编辑的单词：\")\n",
    "    world_list = world.split(\" \")\n",
    "    world_duplicate = list(set(world_list))\n",
    "    world_duplicate.sort()\n",
    "    \n",
    "    return \" \".join(world_duplicate)\n",
    "\n",
    "world_edit()"
   ]
  },
  {
   "cell_type": "markdown",
   "metadata": {},
   "source": [
    "### 排序：列表的翻转（reverse）、升序（sort）、降序（sorted），按长度排列的用法"
   ]
  },
  {
   "cell_type": "code",
   "execution_count": null,
   "metadata": {},
   "outputs": [],
   "source": [
    "\n",
    "list4 = [10,10,50,20,30,60,51,20,10,10]\n",
    "print(list4)\n",
    "list4.reverse()                             #翻转\n",
    "print(list4)\n",
    " \n",
    "list4.sort()\n",
    "print(list4)                        #升序排列，直接对表进行操作\n",
    " \n",
    "list4.sort(reverse=True)\n",
    "print(list4)                        #降序排列\n",
    " \n",
    " \n",
    "list41 = [10,10,50,20,30,60,51,20,10,10]\n",
    "print(sorted(list41))               #升序排列，生成一个新表\n",
    "print(list41)\n",
    " \n",
    "print(sorted(list41,reverse=True))  #降序排列，从之前的列表中挑选出元素组成新的表\n",
    "print(list41)\n",
    " \n",
    " \n",
    "list43 = [\"fddg\",\"gfdggfg\",\"f\"]    #按照长度进行排序，生成新的列表\n",
    "print(sorted(list43,key=len))"
   ]
  },
  {
   "cell_type": "markdown",
   "metadata": {},
   "source": [
    "### 去重："
   ]
  },
  {
   "cell_type": "code",
   "execution_count": 3,
   "metadata": {},
   "outputs": [
    {
     "name": "stdout",
     "output_type": "stream",
     "text": [
      "[10, 50, 51, 20, 60, 30]\n"
     ]
    }
   ],
   "source": [
    "list41 = [10,10,50,20,30,60,51,20,10,10]\n",
    "list42 = list(set(list41))\n",
    "print (list42)"
   ]
  },
  {
   "cell_type": "code",
   "execution_count": 11,
   "metadata": {},
   "outputs": [
    {
     "name": "stdout",
     "output_type": "stream",
     "text": [
      "['again', 'and', 'hello', 'makes', 'perfect', 'practice', 'world']\n"
     ]
    }
   ],
   "source": [
    "world_duplicate=['and', 'perfect', 'practice', 'hello', 'again', 'world', 'makes']\n",
    "world_duplicate.sort()\n",
    "print(world_duplicate)"
   ]
  },
  {
   "cell_type": "code",
   "execution_count": null,
   "metadata": {},
   "outputs": [],
   "source": []
  }
 ],
 "metadata": {
  "kernelspec": {
   "display_name": "Python 3",
   "language": "python",
   "name": "python3"
  },
  "language_info": {
   "codemirror_mode": {
    "name": "ipython",
    "version": 3
   },
   "file_extension": ".py",
   "mimetype": "text/x-python",
   "name": "python",
   "nbconvert_exporter": "python",
   "pygments_lexer": "ipython3",
   "version": "3.7.4"
  }
 },
 "nbformat": 4,
 "nbformat_minor": 2
}
