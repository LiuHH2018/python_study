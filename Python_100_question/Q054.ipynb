{
 "cells": [
  {
   "cell_type": "code",
   "execution_count": null,
   "metadata": {},
   "outputs": [],
   "source": [
    "# Q054\n",
    "# 2019/12/24\n",
    "# Tag: class extends\n",
    "# Description: Define a class named Shape and its subclass Square. The Square class has an init function which takes\n",
    "#              a length as argument. Both classes have a area function which can print the area of the shape where\n",
    "#              Shape's area is 0 by default.\n",
    "\n",
    "#描述：定义一个名为Shape的类及其子类Square。Square类有一个init函数，它以长度作为参数。两个类都有一个区域函数，它可以打印形状的区域，\n",
    "#其中默认情况下，形状的区域为0。\n",
    "\n",
    "class Shape():\n",
    "    "
   ]
  }
 ],
 "metadata": {
  "kernelspec": {
   "display_name": "Python 3",
   "language": "python",
   "name": "python3"
  },
  "language_info": {
   "codemirror_mode": {
    "name": "ipython",
    "version": 3
   },
   "file_extension": ".py",
   "mimetype": "text/x-python",
   "name": "python",
   "nbconvert_exporter": "python",
   "pygments_lexer": "ipython3",
   "version": "3.7.5"
  }
 },
 "nbformat": 4,
 "nbformat_minor": 2
}
