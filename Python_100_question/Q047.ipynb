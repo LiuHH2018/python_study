{
 "cells": [
  {
   "cell_type": "code",
   "execution_count": 1,
   "metadata": {},
   "outputs": [
    {
     "name": "stdout",
     "output_type": "stream",
     "text": [
      "[4, 16, 36, 64, 100]\n"
     ]
    }
   ],
   "source": [
    "# Q047\n",
    "# 2019/12/19\n",
    "# Tag: map, lambda, filter\n",
    "# Description: Write a program which can map() and filter() to make a list whose elements are square of even number\n",
    "#              in [1,2,3,4,5,6,7,8,9,10].\n",
    "\n",
    "#描述：编写一个可以映射（）和filter（）的程序，生成一个元素为偶数平方的列表在[1,2,3,4,5,6,7,8,9,10]中。\n",
    "\n",
    "def is_even(num):    # 偶数\n",
    "    return num % 2 ==0\n",
    "\n",
    "def squ(num):\n",
    "    return num**2   # 平方\n",
    "\n",
    "even_word = filter(is_even,[1,2,3,4,5,6,7,8,9,10])\n",
    "squ_word = map(squ,even_word)\n",
    "print(list(squ_word)) "
   ]
  }
 ],
 "metadata": {
  "kernelspec": {
   "display_name": "Python 3",
   "language": "python",
   "name": "python3"
  },
  "language_info": {
   "codemirror_mode": {
    "name": "ipython",
    "version": 3
   },
   "file_extension": ".py",
   "mimetype": "text/x-python",
   "name": "python",
   "nbconvert_exporter": "python",
   "pygments_lexer": "ipython3",
   "version": "3.7.4"
  }
 },
 "nbformat": 4,
 "nbformat_minor": 2
}
