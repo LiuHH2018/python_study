{
 "cells": [
  {
   "cell_type": "code",
   "execution_count": 3,
   "metadata": {},
   "outputs": [
    {
     "data": {
      "text/plain": [
       "{1: 1, 2: 4, 3: 9}"
      ]
     },
     "execution_count": 3,
     "metadata": {},
     "output_type": "execute_result"
    }
   ],
   "source": [
    "# Q033\n",
    "# 2019/12/16\n",
    "# Tag: dictionary initialization\n",
    "# Description: Define a function which can print a dictionary where the keys are numbers between 1 and 3\n",
    "#              (both included) and the values are square of keys.\n",
    "\n",
    "#描述：定义一个函数，它可以打印一个字典，其中键是1到3之间的数字（包括1和3），值是键的平方。\n",
    "\n",
    "def dict_p(star,end):\n",
    "    dict ={}\n",
    "    for i in range(star,end+1):\n",
    "        dict[i] = i**2\n",
    "    return dict\n",
    "    \n",
    "dict_p(1,3)"
   ]
  }
 ],
 "metadata": {
  "kernelspec": {
   "display_name": "Python 3",
   "language": "python",
   "name": "python3"
  },
  "language_info": {
   "codemirror_mode": {
    "name": "ipython",
    "version": 3
   },
   "file_extension": ".py",
   "mimetype": "text/x-python",
   "name": "python",
   "nbconvert_exporter": "python",
   "pygments_lexer": "ipython3",
   "version": "3.7.4"
  }
 },
 "nbformat": 4,
 "nbformat_minor": 2
}
