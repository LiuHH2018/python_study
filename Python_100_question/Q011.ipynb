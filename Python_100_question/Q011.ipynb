{
 "cells": [
  {
   "cell_type": "code",
   "execution_count": 6,
   "metadata": {},
   "outputs": [
    {
     "name": "stdout",
     "output_type": "stream",
     "text": [
      "请输入二进制数列：0100,0011,1010,1001\n"
     ]
    },
    {
     "data": {
      "text/plain": [
       "'1010'"
      ]
     },
     "execution_count": 6,
     "metadata": {},
     "output_type": "execute_result"
    }
   ],
   "source": [
    "# Q011\n",
    "# 2019/12/07\n",
    "# Tag: convert binary number\n",
    "# Description: Write a program which accepts a sequence of comma separated 4 digit binary numbers as its input and\n",
    "#              then check whether they are divisible by 5 or not. The numbers that are divisible by 5 are to be\n",
    "#              printed in a comma separated sequence.\n",
    "#\n",
    "# Example:\n",
    "# 0100,0011,1010,1001\n",
    "# Then the output should be:\n",
    "# 1010\n",
    "\n",
    "#标记：转换二进制数\n",
    "#描述：编写一个程序，它接受以逗号分隔的4位二进制数序列作为输入，并且然后检查它们是否可以被5整除。可被5整除的数字是以逗号分隔的顺序打印。\n",
    "\n",
    "#示例：\n",
    "#0100,0011,1010,1001\n",
    "#那么输出应该是：\n",
    "#1010\n",
    "\n",
    "def binary():\n",
    "    num = input(\"请输入二进制数列：\")\n",
    "    n_list = num.split(\",\")\n",
    "    out =[]\n",
    "    for i in n_list:\n",
    "        j = int(i,2)\n",
    "        if j % 5 ==0:\n",
    "            a = bin(int(str(j),10))\n",
    "            b = a[2:]\n",
    "            out.append(b)\n",
    "    return ','.join(out)\n",
    "\n",
    "binary()  "
   ]
  },
  {
   "cell_type": "markdown",
   "metadata": {},
   "source": [
    "### 进制转换的函数"
   ]
  },
  {
   "cell_type": "code",
   "execution_count": null,
   "metadata": {},
   "outputs": [],
   "source": [
    "\n",
    "bin() 10进制转2进制\n",
    "oct() 10进制转8进制\n",
    "hex() 10进制转16进制\n",
    "int() *进制转10进制\n",
    "\n",
    "#二进制转十进制\n",
    "#结果是4\n",
    "int('100', 2)\n",
    "#注意：上述一定不要忘记加引号，因为二进制是一个字符串\n",
    "\n",
    "#十进制转二进制,其中int（4,10）表示4是一个十进制整数\n",
    "bin(int('4',10))\n",
    "#或者,直接输入一个十进制\n",
    "bin(4)\n",
    "#结果是：0b100"
   ]
  }
 ],
 "metadata": {
  "kernelspec": {
   "display_name": "Python 3",
   "language": "python",
   "name": "python3"
  },
  "language_info": {
   "codemirror_mode": {
    "name": "ipython",
    "version": 3
   },
   "file_extension": ".py",
   "mimetype": "text/x-python",
   "name": "python",
   "nbconvert_exporter": "python",
   "pygments_lexer": "ipython3",
   "version": "3.7.4"
  }
 },
 "nbformat": 4,
 "nbformat_minor": 2
}
