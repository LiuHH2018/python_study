{
 "cells": [
  {
   "cell_type": "code",
   "execution_count": 2,
   "metadata": {},
   "outputs": [
    {
     "data": {
      "text/plain": [
       "[36, 49, 64, 81, 100, 121, 144, 169, 196, 225, 256, 289, 324, 361, 400]"
      ]
     },
     "execution_count": 2,
     "metadata": {},
     "output_type": "execute_result"
    }
   ],
   "source": [
    "# Q040\n",
    "# 2019/12/17\n",
    "# Tag: list subtraction\n",
    "# Description: Define a function which can generate a list where the values are square of numbers between 1 and 20\n",
    "#              (both included). Then the function needs to print all values except the first 5 elements in the list.\n",
    "\n",
    "# 描述：定义一个函数，该函数可以生成一个列表，其中的值是介于1和20之间（两者都包括在内）的数字的平方。\n",
    "# 然后，函数需要打印除列表中前5个元素之外的所有值。\n",
    "\n",
    "def squ_e_5(star,end):\n",
    "    squ = [i**2 for i in range(star,end+1)]\n",
    "    return squ[5:]\n",
    "\n",
    "squ_e_5(1,20)"
   ]
  },
  {
   "cell_type": "code",
   "execution_count": null,
   "metadata": {},
   "outputs": [],
   "source": []
  }
 ],
 "metadata": {
  "kernelspec": {
   "display_name": "Python 3",
   "language": "python",
   "name": "python3"
  },
  "language_info": {
   "codemirror_mode": {
    "name": "ipython",
    "version": 3
   },
   "file_extension": ".py",
   "mimetype": "text/x-python",
   "name": "python",
   "nbconvert_exporter": "python",
   "pygments_lexer": "ipython3",
   "version": "3.7.4"
  }
 },
 "nbformat": 4,
 "nbformat_minor": 2
}
