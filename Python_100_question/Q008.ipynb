{
 "cells": [
  {
   "cell_type": "code",
   "execution_count": 1,
   "metadata": {},
   "outputs": [
    {
     "name": "stdout",
     "output_type": "stream",
     "text": [
      "请输入字符：without,hello,bag,world\n",
      "bag,hello,without,world\n"
     ]
    }
   ],
   "source": [
    "# Q008\n",
    "# 22019/12/05\n",
    "# Tag: split, sorting\n",
    "# Description: Write a program that accepts a comma separated sequence of words as input and prints the words in a\n",
    "#              comma-separated sequence after sorting them alphabetically.\n",
    "#\n",
    "# Example: Suppose the following input is supplied to the program:\n",
    "#          without,hello,bag,world\n",
    "#          Then, the output should be:\n",
    "#          bag,hello,without,world\n",
    "\n",
    "program = str(input(\"请输入字符：\"))\n",
    "pro_1ist = program.split(\",\")\n",
    "pro_1ist.sort()\n",
    "s = \",\".join(pro_1ist)\n",
    "print(s)"
   ]
  }
 ],
 "metadata": {
  "kernelspec": {
   "display_name": "Python 3",
   "language": "python",
   "name": "python3"
  },
  "language_info": {
   "codemirror_mode": {
    "name": "ipython",
    "version": 3
   },
   "file_extension": ".py",
   "mimetype": "text/x-python",
   "name": "python",
   "nbconvert_exporter": "python",
   "pygments_lexer": "ipython3",
   "version": "3.7.4"
  }
 },
 "nbformat": 4,
 "nbformat_minor": 2
}
