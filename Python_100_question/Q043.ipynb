{
 "cells": [
  {
   "cell_type": "code",
   "execution_count": 7,
   "metadata": {},
   "outputs": [
    {
     "data": {
      "text/plain": [
       "(2, 4, 6, 8, 10)"
      ]
     },
     "execution_count": 7,
     "metadata": {},
     "output_type": "execute_result"
    }
   ],
   "source": [
    "# Q043\n",
    "# 2019/12/18\n",
    "# Tag: even elements\n",
    "# Description: Write a program to generate and print another tuple whose values are even numbers in the given\n",
    "#              tuple (1,2,3,4,5,6,7,8,9,10).\n",
    "\n",
    "#描述：编写一个程序生成并打印另一个元组，该元组的值是给定元组(1,2,3,4,5,6,7,8,9,10)中的偶数。\n",
    "\n",
    "def tup_even(tup):\n",
    "    list_even = [i for i in tup if i %2 ==0]\n",
    "    return tuple(list_even) \n",
    "\n",
    "tup = (1,2,3,4,5,6,7,8,9,10)\n",
    "tup_even(tup)"
   ]
  }
 ],
 "metadata": {
  "kernelspec": {
   "display_name": "Python 3",
   "language": "python",
   "name": "python3"
  },
  "language_info": {
   "codemirror_mode": {
    "name": "ipython",
    "version": 3
   },
   "file_extension": ".py",
   "mimetype": "text/x-python",
   "name": "python",
   "nbconvert_exporter": "python",
   "pygments_lexer": "ipython3",
   "version": "3.7.4"
  }
 },
 "nbformat": 4,
 "nbformat_minor": 2
}
