{
 "cells": [
  {
   "cell_type": "code",
   "execution_count": 4,
   "metadata": {},
   "outputs": [
    {
     "name": "stdout",
     "output_type": "stream",
     "text": [
      "1234\n",
      "<class 'int'>\n"
     ]
    }
   ],
   "source": [
    "# Q028\n",
    "# 2019/12/15\n",
    "# Tag: convert string to int\n",
    "# Description: Define a function that can convert a string into a int and print it in console.\n",
    "\n",
    "#描述：定义一个函数，该函数可以将字符串转换为int并在控制台中打印。\n",
    "\n",
    "def change_num(num):\n",
    "    change = int(num)\n",
    "    return change\n",
    "     \n",
    "print(change_num('1234'))\n",
    "print(type(change_num('1234')))"
   ]
  }
 ],
 "metadata": {
  "kernelspec": {
   "display_name": "Python 3",
   "language": "python",
   "name": "python3"
  },
  "language_info": {
   "codemirror_mode": {
    "name": "ipython",
    "version": 3
   },
   "file_extension": ".py",
   "mimetype": "text/x-python",
   "name": "python",
   "nbconvert_exporter": "python",
   "pygments_lexer": "ipython3",
   "version": "3.7.4"
  }
 },
 "nbformat": 4,
 "nbformat_minor": 2
}
