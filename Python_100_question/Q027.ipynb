{
 "cells": [
  {
   "cell_type": "code",
   "execution_count": 2,
   "metadata": {},
   "outputs": [
    {
     "name": "stdout",
     "output_type": "stream",
     "text": [
      "2\n",
      "<class 'str'>\n"
     ]
    }
   ],
   "source": [
    "# Q027\n",
    "# 2019/12/15\n",
    "# Tag: convert integer to string\n",
    "# Description: Define a function that can convert a int into a string and print it in console.\n",
    "\n",
    "# 描述：定义一个函数，它可以将int转换成字符串并在控制台中打印出来。\n",
    "\n",
    "def str_word(word):\n",
    "    change = str(word)\n",
    "    return change\n",
    "\n",
    "    \n",
    "print(str_word(2))\n",
    "print(type(str_word(2)))"
   ]
  }
 ],
 "metadata": {
  "kernelspec": {
   "display_name": "Python 3",
   "language": "python",
   "name": "python3"
  },
  "language_info": {
   "codemirror_mode": {
    "name": "ipython",
    "version": 3
   },
   "file_extension": ".py",
   "mimetype": "text/x-python",
   "name": "python",
   "nbconvert_exporter": "python",
   "pygments_lexer": "ipython3",
   "version": "3.7.4"
  }
 },
 "nbformat": 4,
 "nbformat_minor": 2
}
