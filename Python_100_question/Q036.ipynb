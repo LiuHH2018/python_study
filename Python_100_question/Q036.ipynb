{
 "cells": [
  {
   "cell_type": "code",
   "execution_count": 12,
   "metadata": {},
   "outputs": [
    {
     "data": {
      "text/plain": [
       "dict_keys([1, 2, 3, 4, 5, 6, 7, 8, 9, 10, 11, 12, 13, 14, 15, 16, 17, 18, 19, 20])"
      ]
     },
     "execution_count": 12,
     "metadata": {},
     "output_type": "execute_result"
    }
   ],
   "source": [
    "# Q036\n",
    "# 2019/12/16\n",
    "# Tag: dictionary keys\n",
    "# Description: Define a function which can generate a dictionary where the keys are numbers between 1 and 20\n",
    "#              (both included) and the values are square of keys. The function should just print the keys only.\n",
    "\n",
    "#描述：定义一个函数，该函数可以生成一个字典，其中键是1到20之间的数字（包括1和20），值是键的平方。函数应该只打印键。\n",
    "\n",
    "def dict_k(star,end):\n",
    "    dict_v ={}\n",
    "    dict_l =[]\n",
    "    for i in range(star,end+1):\n",
    "        dict_v[i] = i**2\n",
    "    return  dict_v.keys()\n",
    "\n",
    "dict_k(1,20)"
   ]
  },
  {
   "cell_type": "code",
   "execution_count": null,
   "metadata": {},
   "outputs": [],
   "source": []
  }
 ],
 "metadata": {
  "kernelspec": {
   "display_name": "Python 3",
   "language": "python",
   "name": "python3"
  },
  "language_info": {
   "codemirror_mode": {
    "name": "ipython",
    "version": 3
   },
   "file_extension": ".py",
   "mimetype": "text/x-python",
   "name": "python",
   "nbconvert_exporter": "python",
   "pygments_lexer": "ipython3",
   "version": "3.7.4"
  }
 },
 "nbformat": 4,
 "nbformat_minor": 2
}
