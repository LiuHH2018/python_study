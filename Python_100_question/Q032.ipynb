{
 "cells": [
  {
   "cell_type": "code",
   "execution_count": 1,
   "metadata": {},
   "outputs": [
    {
     "data": {
      "text/plain": [
       "'It is an odd number'"
      ]
     },
     "execution_count": 1,
     "metadata": {},
     "output_type": "execute_result"
    }
   ],
   "source": [
    "# Q032\n",
    "# 2019/12/16\n",
    "# Tag: check odd or even\n",
    "# Description: Define a function that can accept an integer number as input and print the \"It is an even number\" if\n",
    "#              the number is even, otherwise print \"It is an odd number\".\n",
    "\n",
    "#说明：定义一个接受整数作为输入的函数，如果整数是偶数，则打印“它是偶数”，否则打印“它是奇数”。\n",
    "\n",
    "def judge_num(num):\n",
    "    num_r = round(int(num))\n",
    "    if num_r % 2 == 0:\n",
    "        return \"It is an even number\" \n",
    "    else:\n",
    "        return \"It is an odd number\"\n",
    "    \n",
    "judge_num(23.1)    "
   ]
  }
 ],
 "metadata": {
  "kernelspec": {
   "display_name": "Python 3",
   "language": "python",
   "name": "python3"
  },
  "language_info": {
   "codemirror_mode": {
    "name": "ipython",
    "version": 3
   },
   "file_extension": ".py",
   "mimetype": "text/x-python",
   "name": "python",
   "nbconvert_exporter": "python",
   "pygments_lexer": "ipython3",
   "version": "3.7.4"
  }
 },
 "nbformat": 4,
 "nbformat_minor": 2
}
