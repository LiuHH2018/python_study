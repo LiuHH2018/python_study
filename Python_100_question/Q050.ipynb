{
 "cells": [
  {
   "cell_type": "code",
   "execution_count": 13,
   "metadata": {},
   "outputs": [
    {
     "name": "stdout",
     "output_type": "stream",
     "text": [
      "American\n"
     ]
    }
   ],
   "source": [
    "# Q050\n",
    "# 2019/12/19\n",
    "# Tag: static method\n",
    "# Description: Define a class named American which has a static method called printNationality.\n",
    "\n",
    "#描述：定义一个名为American的类，该类有一个名为printNational的静态方法。\n",
    "\n",
    "class American(object):\n",
    "        \n",
    "    @staticmethod   \n",
    "    def printNationality():\n",
    "        return 'American'\n",
    "    \n",
    "print(American.printNationality())"
   ]
  }
 ],
 "metadata": {
  "kernelspec": {
   "display_name": "Python 3",
   "language": "python",
   "name": "python3"
  },
  "language_info": {
   "codemirror_mode": {
    "name": "ipython",
    "version": 3
   },
   "file_extension": ".py",
   "mimetype": "text/x-python",
   "name": "python",
   "nbconvert_exporter": "python",
   "pygments_lexer": "ipython3",
   "version": "3.7.4"
  }
 },
 "nbformat": 4,
 "nbformat_minor": 2
}
