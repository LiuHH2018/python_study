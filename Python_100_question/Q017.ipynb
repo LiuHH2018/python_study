{
 "cells": [
  {
   "cell_type": "code",
   "execution_count": 6,
   "metadata": {},
   "outputs": [
    {
     "name": "stdout",
     "output_type": "stream",
     "text": [
      "请输入银行事务：D 300\n",
      "请输入银行事务：D 300\n",
      "请输入银行事务：W 200\n",
      "请输入银行事务：D 100\n",
      "请输入银行事务：N\n",
      "500\n"
     ]
    }
   ],
   "source": [
    "# Q017\n",
    "# 2019/12/10\n",
    "# Tag: bank system\n",
    "# Description: Write a program that computes the net amount of a bank account based a transaction log from console input. The transaction log format is shown as following:\n",
    "# D 100\n",
    "# W 200\n",
    "# D means deposit while W means withdrawal.\n",
    "#\n",
    "# Example: Suppose the following input is supplied to the program:\n",
    "# D 300\n",
    "# D 300\n",
    "# W 200\n",
    "# D 100\n",
    "# Then, the output should be:\n",
    "# 500\n",
    "\n",
    "#描述：编写一个程序，根据控制台输入的事务日志计算银行帐户的净额。事务日志格式如下：\n",
    "# D 100\n",
    "# W 200\n",
    "#D表示存款，W表示取款。\n",
    "#示例：假设向程序提供了以下输入：\n",
    "# D 300\n",
    "# D 300\n",
    "# W 200\n",
    "# D 100\n",
    "#那么，输出应该是：\n",
    "#500\n",
    "\n",
    "a = input(\"请输入银行事务：\")\n",
    "log = a.split( )\n",
    "deposit = 0\n",
    "withdrawal = 0\n",
    "\n",
    "while \"D\" in log or \"W\" in log:\n",
    "    if log[0] == \"D\":\n",
    "        deposit += int(log[1])\n",
    "\n",
    "    elif log[0] == \"W\": \n",
    "        withdrawal += int(log[1])\n",
    "\n",
    "    a = input(\"请输入银行事务：\")\n",
    "    log = a.split( )\n",
    "    \n",
    "output = deposit - withdrawal\n",
    "print(output)"
   ]
  }
 ],
 "metadata": {
  "kernelspec": {
   "display_name": "Python 3",
   "language": "python",
   "name": "python3"
  }
 },
 "nbformat": 4,
 "nbformat_minor": 2
}
