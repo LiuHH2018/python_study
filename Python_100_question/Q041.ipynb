{
 "cells": [
  {
   "cell_type": "code",
   "execution_count": 1,
   "metadata": {},
   "outputs": [
    {
     "data": {
      "text/plain": [
       "(1,\n",
       " 4,\n",
       " 9,\n",
       " 16,\n",
       " 25,\n",
       " 36,\n",
       " 49,\n",
       " 64,\n",
       " 81,\n",
       " 100,\n",
       " 121,\n",
       " 144,\n",
       " 169,\n",
       " 196,\n",
       " 225,\n",
       " 256,\n",
       " 289,\n",
       " 324,\n",
       " 361,\n",
       " 400)"
      ]
     },
     "execution_count": 1,
     "metadata": {},
     "output_type": "execute_result"
    }
   ],
   "source": [
    "# Q041\n",
    "# 2019/12/17\n",
    "# Tag: list to tuple\n",
    "# Description: Define a function which can generate and print a tuple where the value are square of numbers between 1\n",
    "#              and 20 (both included).\n",
    "\n",
    "#描述：定义一个函数，该函数可以生成和打印一个元组，其中的值是1到20之间的数字的平方（两者都包括在内）。\n",
    "\n",
    "def squ_t(star,end):\n",
    "    squ_t = tuple([i**2 for i in range(star,end+1)])\n",
    "    return squ_t\n",
    "\n",
    "squ_t(1,20)"
   ]
  }
 ],
 "metadata": {
  "kernelspec": {
   "display_name": "Python 3",
   "language": "python",
   "name": "python3"
  },
  "language_info": {
   "codemirror_mode": {
    "name": "ipython",
    "version": 3
   },
   "file_extension": ".py",
   "mimetype": "text/x-python",
   "name": "python",
   "nbconvert_exporter": "python",
   "pygments_lexer": "ipython3",
   "version": "3.7.4"
  }
 },
 "nbformat": 4,
 "nbformat_minor": 2
}
