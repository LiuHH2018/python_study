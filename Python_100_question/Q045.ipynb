{
 "cells": [
  {
   "cell_type": "code",
   "execution_count": 3,
   "metadata": {},
   "outputs": [
    {
     "name": "stdout",
     "output_type": "stream",
     "text": [
      "[1, 3, 5, 7, 9]\n"
     ]
    }
   ],
   "source": [
    "# Q045\n",
    "# 2019/12/19\n",
    "# Tag: lambda\n",
    "# Description: Write a program which can filter even numbers in a list by using filter function. The list is:\n",
    "#              [1,2,3,4,5,6,7,8,9,10]\n",
    "\n",
    "#描述：编写一个程序，它可以通过使用filter函数过滤列表中的偶数。名单是：[1,2,3,4,5,6,7,8,9,10]\n",
    "\n",
    "def is_odd(num):\n",
    "    return num % 2==1\n",
    "\n",
    "odd_list = filter(is_odd,[1,2,3,4,5,6,7,8,9,10])\n",
    "print(list(odd_list))"
   ]
  }
 ],
 "metadata": {
  "kernelspec": {
   "display_name": "Python 3",
   "language": "python",
   "name": "python3"
  },
  "language_info": {
   "codemirror_mode": {
    "name": "ipython",
    "version": 3
   },
   "file_extension": ".py",
   "mimetype": "text/x-python",
   "name": "python",
   "nbconvert_exporter": "python",
   "pygments_lexer": "ipython3",
   "version": "3.7.4"
  }
 },
 "nbformat": 4,
 "nbformat_minor": 2
}
