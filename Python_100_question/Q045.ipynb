{
 "cells": [
  {
   "cell_type": "code",
   "execution_count": 1,
   "metadata": {},
   "outputs": [
    {
     "name": "stdout",
     "output_type": "stream",
     "text": [
      "[2, 4, 6, 8, 10]\n"
     ]
    }
   ],
   "source": [
    "# Q045\n",
    "# 2019/12/19\n",
    "# Tag: lambda\n",
    "# Description: Write a program which can filter even numbers in a list by using filter function. The list is:\n",
    "#              [1,2,3,4,5,6,7,8,9,10]\n",
    "\n",
    "#描述：编写一个程序，它可以通过使用filter函数过滤列表中的偶数。名单是：[1,2,3,4,5,6,7,8,9,10]\n",
    "\n",
    "def is_odd(num):\n",
    "    return num % 2==0\n",
    "\n",
    "odd_list = filter(is_odd,[1,2,3,4,5,6,7,8,9,10])\n",
    "print(list(odd_list))"
   ]
  },
  {
   "cell_type": "code",
   "execution_count": 13,
   "metadata": {},
   "outputs": [
    {
     "name": "stdout",
     "output_type": "stream",
     "text": [
      "Bob is male.\n",
      "Da is male.\n"
     ]
    }
   ],
   "source": [
    "# 创建一个人的class,创建几个人,然后过滤所有男性 \n",
    "\n",
    "class People:\n",
    "    def __init__(self, name, gender):\n",
    "        self.name = name\n",
    "        self.gender = gender\n",
    "        \n",
    "    def isMmen(self):\n",
    "        if self.gender == \"male\":\n",
    "            print(f'{self.name} is {self.gender}.')\n",
    "\n",
    "            \n",
    "people1 = People('Bob','male')\n",
    "people2 = People('Meili','female')\n",
    "people3 = People('Da','male')\n",
    "            \n",
    "people = [people1,people2,people3]\n",
    "\n",
    "for i in people:\n",
    "    i.isMmen()"
   ]
  },
  {
   "cell_type": "code",
   "execution_count": 34,
   "metadata": {},
   "outputs": [
    {
     "name": "stdout",
     "output_type": "stream",
     "text": [
      "Bob is male.\n",
      "Da is male.\n"
     ]
    }
   ],
   "source": [
    "# 创建一个人的class,创建几个人,然后过滤所有男性 \n",
    "\n",
    "class People:\n",
    "    def __init__(self, name, gender):\n",
    "        self.name = name\n",
    "        self.gender = gender\n",
    "            \n",
    "    def isMmen(self):\n",
    "        return self.gender == \"male\"    \n",
    "        \n",
    "people1 = People('Bob','male')\n",
    "people2 = People('Meili','female')\n",
    "people3 = People('Da','male')\n",
    "            \n",
    "people = [people1,people2,people3]\n",
    "res = list(filter(lambda x:x.isMmen(),people))\n",
    "\n",
    "for i in res:\n",
    "    print(f'{i.name} is {i.gender}.')"
   ]
  }
 ],
 "metadata": {
  "kernelspec": {
   "display_name": "Python 3",
   "language": "python",
   "name": "python3"
  },
  "language_info": {
   "codemirror_mode": {
    "name": "ipython",
    "version": 3
   },
   "file_extension": ".py",
   "mimetype": "text/x-python",
   "name": "python",
   "nbconvert_exporter": "python",
   "pygments_lexer": "ipython3",
   "version": "3.7.4"
  }
 },
 "nbformat": 4,
 "nbformat_minor": 2
}
