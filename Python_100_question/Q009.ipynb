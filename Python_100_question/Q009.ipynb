{
 "cells": [
  {
   "cell_type": "code",
   "execution_count": 2,
   "metadata": {
    "scrolled": true
   },
   "outputs": [
    {
     "name": "stdout",
     "output_type": "stream",
     "text": [
      "请输入行语句：Hello world.Practice makes perfect.\n",
      "HELLO WORLD.PRACTICE MAKES PERFECT.\n"
     ]
    }
   ],
   "source": [
    "# Q009\n",
    "# 2019/12/06\n",
    "# Tag: capitalized\n",
    "# Description: Write a program that accepts sequence of lines as input and prints the lines after making all\n",
    "#              characters in the sentence capitalized.\n",
    "#\n",
    "# Example: Suppose the following input is supplied to the program:\n",
    "# Hello world\n",
    "# Practice makes perfect\n",
    "# Then, the output should be:\n",
    "# HELLO WORLD\n",
    "# PRACTICE MAKES PERFECT\n",
    "\n",
    "# 描述：编写一个程序，它接受一系列的行作为输入，并在将句子中的所有字符大写后打印行。\n",
    "# 示例：假设向程序提供了以下输入：\n",
    "# Hello world\n",
    "# Practice makes perfect\n",
    "# 那么，输出应该是：\n",
    "# HELLO WORLD\n",
    "# PRACTICE MAKES PERFECT\n",
    "\n",
    "\n",
    "program = input(\"请输入行语句：\")\n",
    "world = program.upper()\n",
    "print(world)"
   ]
  },
  {
   "cell_type": "markdown",
   "metadata": {},
   "source": [
    "### 字符串和列表间转换"
   ]
  },
  {
   "cell_type": "code",
   "execution_count": null,
   "metadata": {},
   "outputs": [],
   "source": [
    "a = 'abcd efg'\n",
    "b = list(a) #字符串列表化\n",
    "c = ''.join(b) #列表字符串化\n",
    "d = a.split() #split对单词列表化不是对每个字母\n",
    "print('b is :',b)\n",
    "print('d is :',d)\n",
    " \n",
    "print('c is:',c)\n",
    " \n",
    "b is : ['a', 'b', 'c', 'd', ' ', 'e', 'f', 'g']\n",
    "d is : ['abcd', 'efg']\n",
    "c is: abcd efg"
   ]
  }
 ],
 "metadata": {
  "kernelspec": {
   "display_name": "Python 3",
   "language": "python",
   "name": "python3"
  },
  "language_info": {
   "codemirror_mode": {
    "name": "ipython",
    "version": 3
   },
   "file_extension": ".py",
   "mimetype": "text/x-python",
   "name": "python",
   "nbconvert_exporter": "python",
   "pygments_lexer": "ipython3",
   "version": "3.7.4"
  }
 },
 "nbformat": 4,
 "nbformat_minor": 2
}
