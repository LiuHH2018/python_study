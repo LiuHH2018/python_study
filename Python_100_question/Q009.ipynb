{
 "cells": [
  {
   "cell_type": "code",
   "execution_count": null,
   "metadata": {
    "scrolled": true
   },
   "outputs": [],
   "source": [
    "# Q009\n",
    "# 2019/12/06\n",
    "# Tag: capitalized\n",
    "# Description: Write a program that accepts sequence of lines as input and prints the lines after making all\n",
    "#              characters in the sentence capitalized.\n",
    "#\n",
    "# Example: Suppose the following input is supplied to the program:\n",
    "# Hello world\n",
    "# Practice makes perfect\n",
    "# Then, the output should be:\n",
    "# HELLO WORLD\n",
    "# PRACTICE MAKES PERFECT\n",
    "\n",
    "# 描述：编写一个程序，它接受一系列的行作为输入，并在将句子中的所有字符大写后打印行。\n",
    "# 示例：假设向程序提供了以下输入：\n",
    "# Hello world\n",
    "# Practice makes perfect\n",
    "# 那么，输出应该是：\n",
    "# HELLO WORLD\n",
    "# PRACTICE MAKES PERFECT\n",
    "\n",
    "\n",
    "program = input(\"请输入行语句：\")\n",
    "world = program.split()\n",
    "world_1 = '\\n'.join(program)\n",
    "print(world_1)\n",
    "type(world_1)\n",
    "# world = '.'.join(program)\n",
    "# w_upper = world.upper()\n",
    "# print(w_upper)"
   ]
  },
  {
   "cell_type": "markdown",
   "metadata": {},
   "source": [
    "### 字符串和列表间转换"
   ]
  },
  {
   "cell_type": "code",
   "execution_count": null,
   "metadata": {},
   "outputs": [],
   "source": [
    "# 将字符串转换成列表\n",
    "str_list = list(b) \n",
    "\n",
    "# 将列表转字符串\n",
    "c = ''.join(str_list)"
   ]
  }
 ],
 "metadata": {
  "kernelspec": {
   "display_name": "Python 3",
   "language": "python",
   "name": "python3"
  },
  "language_info": {
   "codemirror_mode": {
    "name": "ipython",
    "version": 3
   },
   "file_extension": ".py",
   "mimetype": "text/x-python",
   "name": "python",
   "nbconvert_exporter": "python",
   "pygments_lexer": "ipython3",
   "version": "3.7.4"
  }
 },
 "nbformat": 4,
 "nbformat_minor": 2
}
