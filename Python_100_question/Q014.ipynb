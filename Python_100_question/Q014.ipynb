{
 "cells": [
  {
   "cell_type": "code",
   "execution_count": 3,
   "metadata": {},
   "outputs": [
    {
     "name": "stdout",
     "output_type": "stream",
     "text": [
      "请输入语句：Hello world!\n",
      "您输入的语句中小写字母 9 个！\n",
      "您输入的语句中大写字母 1 个！\n"
     ]
    }
   ],
   "source": [
    "# Q014\n",
    "# 2019/12/09\n",
    "# Tag: count lowers and uppers\n",
    "# Description: Write a program that accepts a sentence and calculate the number of upper case letters and lower case letters.\n",
    "#\n",
    "# Example: Suppose the following input is supplied to the program:\n",
    "#           Hello world!\n",
    "#           Then, the output should be:\n",
    "#           UPPER CASE 1\n",
    "#           LOWER CASE 9\n",
    "\n",
    "#描述：编写一个接受句子的程序，计算大写字母和小写字母的数目。\n",
    "#示例：假设向程序提供了以下输入：\n",
    "#           Hello world!\n",
    "#那么，输出应该是：\n",
    "#           UPPER CASE 1\n",
    "#           LOWER CASE 9\n",
    "\n",
    "word = input(\"请输入语句：\")\n",
    "lower = 0\n",
    "upper = 0\n",
    "a = string.ascii_lowercase\n",
    "b = string.ascii_uppercase\n",
    "\n",
    "for i in word:\n",
    "    if i in a:\n",
    "        lower += 1\n",
    "    elif i in b:\n",
    "        upper += 1\n",
    "        \n",
    "print(f'您输入的语句中小写字母 {lower} 个！')\n",
    "print(f'您输入的语句中大写字母 {upper} 个！')"
   ]
  },
  {
   "cell_type": "markdown",
   "metadata": {},
   "source": [
    "### 字母、数字、字符的集合"
   ]
  },
  {
   "cell_type": "code",
   "execution_count": 1,
   "metadata": {},
   "outputs": [
    {
     "name": "stdout",
     "output_type": "stream",
     "text": [
      "abcdefghijklmnopqrstuvwxyz\n",
      "ABCDEFGHIJKLMNOPQRSTUVWXYZ\n",
      "0123456789\n",
      "!\"#$%&'()*+,-./:;<=>?@[\\]^_`{|}~\n"
     ]
    }
   ],
   "source": [
    "import string\n",
    "a = string.ascii_lowercase\n",
    "b = string.ascii_uppercase\n",
    "c = string.digits\n",
    "d = string.punctuation \n",
    "\n",
    "print(a)\n",
    "print(b)\n",
    "print(c)\n",
    "print(d)"
   ]
  }
 ],
 "metadata": {
  "kernelspec": {
   "display_name": "Python 3",
   "language": "python",
   "name": "python3"
  },
  "language_info": {
   "codemirror_mode": {
    "name": "ipython",
    "version": 3
   },
   "file_extension": ".py",
   "mimetype": "text/x-python",
   "name": "python",
   "nbconvert_exporter": "python",
   "pygments_lexer": "ipython3",
   "version": "3.7.4"
  }
 },
 "nbformat": 4,
 "nbformat_minor": 2
}
