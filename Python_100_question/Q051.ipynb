{
 "cells": [
  {
   "cell_type": "code",
   "execution_count": 8,
   "metadata": {},
   "outputs": [
    {
     "name": "stdout",
     "output_type": "stream",
     "text": [
      "American is big.Its land is 2.61 million square meters.\n"
     ]
    }
   ],
   "source": [
    "# Q051\n",
    "# 2019/12/20\n",
    "# Tag: class extends\n",
    "# Description: Define a class named American and its subclass NewYorker.\n",
    "\n",
    "# 描述：定义一个名为American的类及其子类NewYorker。\n",
    "\n",
    "class American():\n",
    "    \"\"\"描述国家\"\"\"\n",
    "    def __init__(self,country,describe):\n",
    "        self.country = country\n",
    "        self.describe = describe\n",
    "        \n",
    "    def des(self):\n",
    "        des = '{c} is {d}.'\n",
    "        mess = des.format(c = self.country,d = self.describe)\n",
    "        print(mess)\n",
    "    \n",
    "class NewYorker(American):\n",
    "    \"\"\"继承父类，增加土地描述\"\"\"\n",
    "    def __init__(self,country,describe,land):\n",
    "        super().__init__(country,describe) # 父类的属性\n",
    "        self.land = land # 子类的属性\n",
    "        \n",
    "    def des(self):\n",
    "        \"\"\"重写父类属性\"\"\"\n",
    "        des = '{c} is {d}.Its land is {l} million square meters.'\n",
    "        mess = des.format(c = self.country,d = self.describe,l = self.land)\n",
    "        print(mess)\n",
    "        \n",
    "    def des_land(self,land):\n",
    "        self.land = land \n",
    "        print(\"{}'s land is {} million square meters\".format(self.country,self.land))\n",
    "    \n",
    "usa = NewYorker(\"American\",\"big\",2.61)\n",
    "usa.des()\n",
    "# 父类、子类的应用场景\n",
    "# 怎么调用子类新的方法"
   ]
  }
 ],
 "metadata": {
  "kernelspec": {
   "display_name": "Python 3",
   "language": "python",
   "name": "python3"
  },
  "language_info": {
   "codemirror_mode": {
    "name": "ipython",
    "version": 3
   },
   "file_extension": ".py",
   "mimetype": "text/x-python",
   "name": "python",
   "nbconvert_exporter": "python",
   "pygments_lexer": "ipython3",
   "version": "3.7.4"
  }
 },
 "nbformat": 4,
 "nbformat_minor": 2
}
