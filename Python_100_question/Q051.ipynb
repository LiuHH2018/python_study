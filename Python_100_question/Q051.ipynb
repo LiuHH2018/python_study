{
 "cells": [
  {
   "cell_type": "code",
   "execution_count": null,
   "metadata": {},
   "outputs": [],
   "source": [
    "# Q051\n",
    "# 2019/12/20\n",
    "# Tag: class extends\n",
    "# Description: Define a class named American and its subclass NewYorker.\n",
    "\n",
    "# 描述：定义一个名为American的类及其子类NewYorker。\n",
    "\n",
    "class American():\n",
    "    def __init__(self,describe):\n",
    "        self.describe = describe\n",
    "        \n",
    "    def des(self):\n",
    "        return \"big\"\n",
    "    \n",
    "class NewYorker(American):\n",
    "    def __init__(self,land):\n",
    "        self.land = land\n",
    "        \n",
    "    def la(self):\n",
    "        return 96\n",
    "    \n",
    "\n",
    "        \n",
    "    \n"
   ]
  }
 ],
 "metadata": {
  "kernelspec": {
   "display_name": "Python 3",
   "language": "python",
   "name": "python3"
  },
  "language_info": {
   "codemirror_mode": {
    "name": "ipython",
    "version": 3
   },
   "file_extension": ".py",
   "mimetype": "text/x-python",
   "name": "python",
   "nbconvert_exporter": "python",
   "pygments_lexer": "ipython3",
   "version": "3.7.4"
  }
 },
 "nbformat": 4,
 "nbformat_minor": 2
}
