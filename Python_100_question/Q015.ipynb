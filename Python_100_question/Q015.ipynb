{
 "cells": [
  {
   "cell_type": "code",
   "execution_count": 3,
   "metadata": {},
   "outputs": [
    {
     "name": "stdout",
     "output_type": "stream",
     "text": [
      "请输入数字：9\n",
      "最终结果为：11106\n"
     ]
    }
   ],
   "source": [
    "# Q015\n",
    "# 2019/12/09\n",
    "# Tag: formatting string a+aa+aaa\n",
    "# Description: Write a program that computes the value of a+aa+aaa+aaaa with a given digit as the value of a.\n",
    "#\n",
    "# Example: Suppose the following input is supplied to the program:\n",
    "#           9\n",
    "#           Then, the output should be:\n",
    "#           11106\n",
    "\n",
    "#描述：编写一个程序，用给定的数字作为a的值来计算a+aa+aaa+aaaa的值。\n",
    "\n",
    "#示例：假设向程序提供了以下输入：\n",
    "#9\n",
    "#那么，输出应该是：\n",
    "#11106\n",
    "\n",
    "num = input(\"请输入数字：\")\n",
    "num_2 = num + num\n",
    "num_3 = num + num + num\n",
    "num_4 = num + num + num + num\n",
    "\n",
    "num_sum = int(num) + int(num_2) + int(num_3) + int(num_4)\n",
    "\n",
    "print(f'最终结果为：{num_sum}')"
   ]
  }
 ],
 "metadata": {
  "kernelspec": {
   "display_name": "Python 3",
   "language": "python",
   "name": "python3"
  },
  "language_info": {
   "codemirror_mode": {
    "name": "ipython",
    "version": 3
   },
   "file_extension": ".py",
   "mimetype": "text/x-python",
   "name": "python",
   "nbconvert_exporter": "python",
   "pygments_lexer": "ipython3",
   "version": "3.7.4"
  }
 },
 "nbformat": 4,
 "nbformat_minor": 2
}
