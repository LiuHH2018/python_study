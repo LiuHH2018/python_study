{
 "cells": [
  {
   "cell_type": "code",
   "execution_count": 2,
   "metadata": {},
   "outputs": [
    {
     "name": "stdout",
     "output_type": "stream",
     "text": [
      "[2, 4, 6, 8, 10, 12, 14, 16, 18, 20]\n"
     ]
    }
   ],
   "source": [
    "# Q048\n",
    "# 2019/12/19\n",
    "# Tag: filter, lambda and range\n",
    "# Description: Write a program which can filter() to make a list whose elements are even number between 1 and 20\n",
    "#              (both included).\n",
    "\n",
    "#描述：编写一个可以filter（）的程序，生成一个元素在1到20之间的偶数（都包括在内）的列表。\n",
    "\n",
    "def is_even(num):\n",
    "    return num % 2 ==0\n",
    "\n",
    "even_list = filter(is_even,range(1,21))\n",
    "print(list(even_list))"
   ]
  }
 ],
 "metadata": {
  "kernelspec": {
   "display_name": "Python 3",
   "language": "python",
   "name": "python3"
  },
  "language_info": {
   "codemirror_mode": {
    "name": "ipython",
    "version": 3
   },
   "file_extension": ".py",
   "mimetype": "text/x-python",
   "name": "python",
   "nbconvert_exporter": "python",
   "pygments_lexer": "ipython3",
   "version": "3.7.4"
  }
 },
 "nbformat": 4,
 "nbformat_minor": 2
}
