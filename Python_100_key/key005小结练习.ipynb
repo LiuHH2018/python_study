{
 "cells": [
  {
   "cell_type": "markdown",
   "metadata": {},
   "source": [
    "## 练习\n",
    "### 1.寻找[“水仙花数”](#https://baike.baidu.com/item/%E6%B0%B4%E4%BB%99%E8%8A%B1%E6%95%B0)。\n",
    "找出100~999之间的所有水仙花数,水仙花数是各位立方和等于这个数本身的数。  \n",
    "如: 153 = 1\\*\\*3 + 5\\*\\*3 + 3\\**3"
   ]
  },
  {
   "cell_type": "code",
   "execution_count": 5,
   "metadata": {},
   "outputs": [
    {
     "name": "stdout",
     "output_type": "stream",
     "text": [
      "153\n",
      "370\n",
      "371\n",
      "407\n"
     ]
    }
   ],
   "source": [
    "for i in range (100,1000):\n",
    "    j = str(i)\n",
    "    a = int(j[2])\n",
    "    b = int(j[1])\n",
    "    c = int(j[0])\n",
    "    if i == a**3 + b**3 + c**3:\n",
    "        print(i)"
   ]
  },
  {
   "cell_type": "markdown",
   "metadata": {},
   "source": [
    "### 2.寻找[“完美数”](#https://baike.baidu.com/item/%E5%AE%8C%E5%85%A8%E6%95%B0/370913)。\n",
    "找出1~9999之间的所有完美数,完美数是除自身外其他所有因子的和正好等于这个数本身的数。\n",
    "例如: 6 = 1 + 2 + 3, 28 = 1 + 2 + 4 + 7 + 14"
   ]
  },
  {
   "cell_type": "code",
   "execution_count": 74,
   "metadata": {},
   "outputs": [
    {
     "name": "stdout",
     "output_type": "stream",
     "text": [
      "6\n",
      "28\n",
      "496\n",
      "8128\n"
     ]
    }
   ],
   "source": [
    "sum = 0\n",
    "for i in range(1,10000):\n",
    "    sum=0\n",
    "    for j in range(1,i//2+1):\n",
    "        if i % j ==0:\n",
    "            sum +=j\n",
    "    if i ==sum:\n",
    "        print(sum)"
   ]
  },
  {
   "cell_type": "markdown",
   "metadata": {},
   "source": [
    "### 3.[“百钱百鸡”](#https://baike.baidu.com/item/%E7%99%BE%E9%B8%A1%E7%99%BE%E9%92%B1/5857320)问题。\n",
    "求解《百钱百鸡》问题，1只公鸡5元 1只母鸡3元 3只小鸡1元 用100元买100只鸡，问公鸡 母鸡 小鸡各有多少只。"
   ]
  },
  {
   "cell_type": "code",
   "execution_count": 84,
   "metadata": {
    "scrolled": false
   },
   "outputs": [
    {
     "name": "stdout",
     "output_type": "stream",
     "text": [
      "公鸡4只,母鸡18只, 小鸡78只\n",
      "公鸡8只,母鸡11只, 小鸡81只\n",
      "公鸡12只,母鸡4只, 小鸡84只\n"
     ]
    }
   ],
   "source": [
    "for a in range(1,101):\n",
    "    for b in range(1,101):\n",
    "        c = 100 - a - b\n",
    "        if a*5 + b*3 + c/3 ==100:\n",
    "            print(f'公鸡{a}只,母鸡{b}只, 小鸡{c}只')"
   ]
  },
  {
   "cell_type": "markdown",
   "metadata": {},
   "source": [
    "### 4.生成[“斐波拉切数列”](#https://baike.baidu.com/item/斐波那契数列)。\n",
    "输出斐波那契数列的前20个数  \n",
    "1 1 2 3 5 8 13 21 ..."
   ]
  },
  {
   "cell_type": "code",
   "execution_count": 86,
   "metadata": {},
   "outputs": [
    {
     "name": "stdout",
     "output_type": "stream",
     "text": [
      "1 1 2 3 5 8 13 21 34 55 89 144 233 377 610 987 1597 2584 4181 6765 "
     ]
    }
   ],
   "source": [
    "# 不明白\n",
    "a = 0\n",
    "b = 1\n",
    "for _ in range(20):\n",
    "    (a, b) = (b, a + b)\n",
    "    print(a, end=' ')"
   ]
  },
  {
   "cell_type": "markdown",
   "metadata": {},
   "source": [
    "### 5.Craps赌博游戏。\n",
    "* 玩家摇两颗色子 如果第一次摇出7点或11点 玩家胜  \n",
    "* 如果摇出2点 3点 12点 庄家胜 其他情况游戏继续  \n",
    "* 玩家再次要色子 如果摇出7点 庄家胜  \n",
    "* 如果摇出第一次摇的点数 玩家胜  \n",
    "* 否则游戏继续 玩家继续摇色子  \n",
    "* 玩家进入游戏时有1000元的赌注 全部输光游戏结束"
   ]
  },
  {
   "cell_type": "code",
   "execution_count": 87,
   "metadata": {},
   "outputs": [
    {
     "name": "stdout",
     "output_type": "stream",
     "text": [
      "你的总资产为: 1000\n",
      "请下注: 500\n",
      "玩家摇出了5点\n",
      "玩家摇出了7点\n",
      "庄家胜\n",
      "你的总资产为: 500\n",
      "请下注: 500\n",
      "玩家摇出了10点\n",
      "玩家摇出了8点\n",
      "玩家摇出了10点\n",
      "玩家胜\n",
      "你的总资产为: 1000\n",
      "请下注: 1000\n",
      "玩家摇出了2点\n",
      "庄家胜!\n",
      "你破产了, 游戏结束!\n"
     ]
    }
   ],
   "source": [
    "## 逻辑没理清\n",
    "from random import randint\n",
    "\n",
    "money = 1000\n",
    "while money > 0:\n",
    "\tprint('你的总资产为:', money)\n",
    "\tneeds_go_on = False\n",
    "\twhile True:\n",
    "\t\tdebt = int(input('请下注: '))\n",
    "\t\tif debt > 0 and debt <= money:\n",
    "\t\t\tbreak\n",
    "\tfirst = randint(1, 6) + randint(1, 6)\n",
    "\tprint('玩家摇出了%d点' % first)\n",
    "\tif first == 7 or first == 11:\n",
    "\t\tprint('玩家胜!')\n",
    "\t\tmoney += debt\n",
    "\telif first == 2 or first == 3 or first == 12:\n",
    "\t\tprint('庄家胜!')\n",
    "\t\tmoney -= debt\n",
    "\telse:\n",
    "\t\tneeds_go_on = True\n",
    "\n",
    "\twhile needs_go_on:\n",
    "\t\tcurrent = randint(1, 6) + randint(1, 6)\n",
    "\t\tprint('玩家摇出了%d点' % current)\n",
    "\t\tif current == 7:\n",
    "\t\t\tprint('庄家胜')\n",
    "\t\t\tmoney -= debt\n",
    "\t\t\tneeds_go_on = False\n",
    "\t\telif current == first:\n",
    "\t\t\tprint('玩家胜')\n",
    "\t\t\tmoney += debt\n",
    "\t\t\tneeds_go_on = False\n",
    "\n",
    "print('你破产了, 游戏结束!')"
   ]
  },
  {
   "cell_type": "code",
   "execution_count": 88,
   "metadata": {},
   "outputs": [
    {
     "name": "stdout",
     "output_type": "stream",
     "text": [
      "153\n",
      "370\n",
      "371\n",
      "407\n"
     ]
    }
   ],
   "source": [
    "# 1.水仙花\n",
    "for num in range(100, 1000):\n",
    "    low = num % 10\n",
    "    mid = num // 10 % 10\n",
    "    high = num // 100\n",
    "    if num == low ** 3 + mid ** 3 + high ** 3:\n",
    "        print(num)"
   ]
  },
  {
   "cell_type": "code",
   "execution_count": 73,
   "metadata": {},
   "outputs": [
    {
     "name": "stdout",
     "output_type": "stream",
     "text": [
      "1\n",
      "6\n",
      "28\n",
      "496\n",
      "8128\n",
      "执行时间: 0.077253200000996 秒\n"
     ]
    },
    {
     "name": "stderr",
     "output_type": "stream",
     "text": [
      "C:\\ProgramData\\Anaconda3\\lib\\site-packages\\ipykernel_launcher.py:4: DeprecationWarning: time.clock has been deprecated in Python 3.3 and will be removed from Python 3.8: use time.perf_counter or time.process_time instead\n",
      "  after removing the cwd from sys.path.\n",
      "C:\\ProgramData\\Anaconda3\\lib\\site-packages\\ipykernel_launcher.py:14: DeprecationWarning: time.clock has been deprecated in Python 3.3 and will be removed from Python 3.8: use time.perf_counter or time.process_time instead\n",
      "  \n"
     ]
    }
   ],
   "source": [
    "# 2.完美数\n",
    "import time\n",
    "import math\n",
    "\n",
    "start = time.clock()\n",
    "for num in range(1, 10000):\n",
    "    sum = 0\n",
    "    for factor in range(1, int(math.sqrt(num)) + 1):\n",
    "        if num % factor == 0:\n",
    "            sum += factor\n",
    "            if factor > 1 and num / factor != factor:\n",
    "                sum += num / factor\n",
    "    if sum == num:\n",
    "        print(num)\n",
    "end = time.clock()\n",
    "print(\"执行时间:\", (end - start), \"秒\")\n",
    "\n",
    "# 通过比较上面两种不同的解决方案的执行时间 意识到优化程序的重要性"
   ]
  },
  {
   "cell_type": "code",
   "execution_count": 80,
   "metadata": {},
   "outputs": [
    {
     "name": "stdout",
     "output_type": "stream",
     "text": [
      "8.0\n"
     ]
    }
   ],
   "source": [
    "import math\n",
    "num = 64\n",
    "print(math.sqrt(num))"
   ]
  },
  {
   "cell_type": "code",
   "execution_count": null,
   "metadata": {},
   "outputs": [],
   "source": []
  },
  {
   "cell_type": "code",
   "execution_count": null,
   "metadata": {},
   "outputs": [],
   "source": []
  }
 ],
 "metadata": {
  "kernelspec": {
   "display_name": "Python 3",
   "language": "python",
   "name": "python3"
  },
  "language_info": {
   "codemirror_mode": {
    "name": "ipython",
    "version": 3
   },
   "file_extension": ".py",
   "mimetype": "text/x-python",
   "name": "python",
   "nbconvert_exporter": "python",
   "pygments_lexer": "ipython3",
   "version": "3.7.4"
  }
 },
 "nbformat": 4,
 "nbformat_minor": 2
}
