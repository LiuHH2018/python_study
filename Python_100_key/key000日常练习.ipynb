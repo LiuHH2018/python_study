{
 "cells": [
  {
   "cell_type": "markdown",
   "metadata": {},
   "source": [
    "* 可用 len() 计算列表中元素的个数"
   ]
  },
  {
   "cell_type": "code",
   "execution_count": 1,
   "metadata": {},
   "outputs": [
    {
     "name": "stdout",
     "output_type": "stream",
     "text": [
      "1 * 1 = 1\n",
      "2 * 1 = 2\t2 * 2 = 4\n",
      "3 * 1 = 3\t3 * 2 = 6\t3 * 3 = 9\n",
      "4 * 1 = 4\t4 * 2 = 8\t4 * 3 = 12\t4 * 4 = 16\n",
      "5 * 1 = 5\t5 * 2 = 10\t5 * 3 = 15\t5 * 4 = 20\t5 * 5 = 25\n",
      "6 * 1 = 6\t6 * 2 = 12\t6 * 3 = 18\t6 * 4 = 24\t6 * 5 = 30\t6 * 6 = 36\n",
      "7 * 1 = 7\t7 * 2 = 14\t7 * 3 = 21\t7 * 4 = 28\t7 * 5 = 35\t7 * 6 = 42\t7 * 7 = 49\n",
      "8 * 1 = 8\t8 * 2 = 16\t8 * 3 = 24\t8 * 4 = 32\t8 * 5 = 40\t8 * 6 = 48\t8 * 7 = 56\t8 * 8 = 64\n",
      "9 * 1 = 9\t9 * 2 = 18\t9 * 3 = 27\t9 * 4 = 36\t9 * 5 = 45\t9 * 6 = 54\t9 * 7 = 63\t9 * 8 = 72\t9 * 9 = 81\n"
     ]
    }
   ],
   "source": [
    "#  乘法口诀\n",
    "\n",
    "for i in range(1,10):\n",
    "    for j in range(1,i+1):\n",
    "        d = i * j\n",
    "        if i == j:\n",
    "            print('%.0f * %.0f = %.0f' % (i,j,d),end='\\n')\n",
    "        else:\n",
    "            print('%.0f * %.0f = %.0f' % (i,j,d),end='\\t')"
   ]
  },
  {
   "cell_type": "code",
   "execution_count": 2,
   "metadata": {},
   "outputs": [
    {
     "name": "stdout",
     "output_type": "stream",
     "text": [
      "1 x 1 = 1\n",
      "1 x 2 = 2\t2 x 2 = 4\n",
      "1 x 3 = 3\t2 x 3 = 6\t3 x 3 = 9\n",
      "1 x 4 = 4\t2 x 4 = 8\t3 x 4 = 12\t4 x 4 = 16\n",
      "1 x 5 = 5\t2 x 5 = 10\t3 x 5 = 15\t4 x 5 = 20\t5 x 5 = 25\n",
      "1 x 6 = 6\t2 x 6 = 12\t3 x 6 = 18\t4 x 6 = 24\t5 x 6 = 30\t6 x 6 = 36\n",
      "1 x 7 = 7\t2 x 7 = 14\t3 x 7 = 21\t4 x 7 = 28\t5 x 7 = 35\t6 x 7 = 42\t7 x 7 = 49\n",
      "1 x 8 = 8\t2 x 8 = 16\t3 x 8 = 24\t4 x 8 = 32\t5 x 8 = 40\t6 x 8 = 48\t7 x 8 = 56\t8 x 8 = 64\n",
      "1 x 9 = 9\t2 x 9 = 18\t3 x 9 = 27\t4 x 9 = 36\t5 x 9 = 45\t6 x 9 = 54\t7 x 9 = 63\t8 x 9 = 72\t9 x 9 = 81\n"
     ]
    }
   ],
   "source": [
    "# 乘法口诀升级\n",
    "print('\\n'.join('\\t'.join([f'{j} x {i} = ' + str(j * i) for j in range(1, i + 1)]) for i in range(1, 10)))"
   ]
  },
  {
   "cell_type": "code",
   "execution_count": 5,
   "metadata": {},
   "outputs": [
    {
     "name": "stdout",
     "output_type": "stream",
     "text": [
      "Let's information retrieval\n",
      "Let's information retrieval\n",
      "Let's information retrieval\n"
     ]
    }
   ],
   "source": [
    "# print\n",
    "a = 'information'\n",
    "b = 'retrieval'\n",
    "\n",
    "print('Let\\'s' , a, b)\n",
    "print(f\"Let's {a} {b}\")\n",
    "print(\"Let's {a} {bb}\".format(a= a, bb= b))"
   ]
  },
  {
   "cell_type": "markdown",
   "metadata": {},
   "source": [
    "### 附加练习1：分解质因数，如：30=2×3×5"
   ]
  },
  {
   "cell_type": "code",
   "execution_count": 1,
   "metadata": {},
   "outputs": [
    {
     "name": "stdout",
     "output_type": "stream",
     "text": [
      "[2, 2, 31]\n"
     ]
    }
   ],
   "source": [
    "def devPrime2(num):\n",
    "    res = []\n",
    "    while num > 2:\n",
    "        for i in range(2, num + 1):\n",
    "            if num % i == 0:\n",
    "                res.append(i)\n",
    "                num = num // i\n",
    "                break\n",
    "    return res\n",
    "\n",
    "\n",
    "r = devPrime2(124)\n",
    "print(r)"
   ]
  },
  {
   "cell_type": "markdown",
   "metadata": {},
   "source": [
    "### 附加练习2：最大值函数"
   ]
  },
  {
   "cell_type": "code",
   "execution_count": 2,
   "metadata": {},
   "outputs": [
    {
     "name": "stdout",
     "output_type": "stream",
     "text": [
      "7\n"
     ]
    }
   ],
   "source": [
    "def findMax(l):\n",
    "    max = l[0]\n",
    "    for num in l:\n",
    "        if num >max:\n",
    "            max = num\n",
    "    return num\n",
    "\n",
    "l = [1,4,2,6,7,7]\n",
    "\n",
    "m = findMax(l)\n",
    "print(m)"
   ]
  },
  {
   "cell_type": "markdown",
   "metadata": {},
   "source": [
    "### 附加练习3：输出长度最长单词"
   ]
  },
  {
   "cell_type": "code",
   "execution_count": 3,
   "metadata": {},
   "outputs": [
    {
     "name": "stdout",
     "output_type": "stream",
     "text": [
      "dknjhf\n"
     ]
    }
   ],
   "source": [
    "def longer(abc):\n",
    "    a = len(abc[0])\n",
    "    for b in abc:\n",
    "        if len(b)>a:\n",
    "            a = len(b)\n",
    "    return b\n",
    "    \n",
    "abc = [\"asd\",\"fghj\",\"dknjhf\"]\n",
    "c = longer(abc)\n",
    "print(c)"
   ]
  },
  {
   "cell_type": "markdown",
   "metadata": {},
   "source": [
    "### 附加练习4：给你一组数，求最大的两个"
   ]
  },
  {
   "cell_type": "code",
   "execution_count": 4,
   "metadata": {},
   "outputs": [
    {
     "name": "stdout",
     "output_type": "stream",
     "text": [
      "[57869, 1245]\n"
     ]
    }
   ],
   "source": [
    "def twice(num):\n",
    "    num.sort(reverse=True)\n",
    "    lis = num[0:2]\n",
    "    return lis\n",
    "\n",
    "num =[1245,456,57869]\n",
    "dfg = twice(num)\n",
    "print(dfg)"
   ]
  },
  {
   "cell_type": "markdown",
   "metadata": {},
   "source": [
    "### 附加练习5：求中位数"
   ]
  },
  {
   "cell_type": "code",
   "execution_count": 13,
   "metadata": {},
   "outputs": [
    {
     "name": "stdout",
     "output_type": "stream",
     "text": [
      "[123, 345]\n"
     ]
    }
   ],
   "source": [
    "def Median(num):\n",
    "    count = 0\n",
    "    lis = []\n",
    "    num.sort()\n",
    "    for i in num:\n",
    "        count += 1\n",
    "    a = count//2\n",
    "    if count % 2 == 0:\n",
    "        lis.append(num[a-1])\n",
    "        lis.append(num[a])\n",
    "    else:\n",
    "        lis.append(num[a])\n",
    "    return lis\n",
    "\n",
    "num =[123,456,345,879,24,43]\n",
    "n = Median(num)\n",
    "print(n)      "
   ]
  },
  {
   "cell_type": "markdown",
   "metadata": {},
   "source": [
    "## 附加练习6：\n",
    "+ task1: 列出LHH文件夹中的所有文件，包括子文件夹里的文件\n",
    "+ task2: 只列出文件，不包含文件夹的名字 （不包括study， entertainment，Machine learning这类）\n",
    "+ task3: 设置过滤器，列出所有指定文件，比如我要求你列出所有 txt 文件\n",
    "+ task4：列出指定文件夹里的所有指定文件， 比如我要你列出，Machine Learning 中所有 txt文件\n",
    "+ task5: 文件读取， 列出Machine learning 中所有的txt文件，并打印出他们的内容\n",
    "+ task6: 将 Machine learning 中所有的txt文件 合并成一个大的 txt文件， 并保存成一个大的文件， 重命名为 combine.txt"
   ]
  },
  {
   "cell_type": "code",
   "execution_count": null,
   "metadata": {},
   "outputs": [],
   "source": []
  }
 ],
 "metadata": {
  "kernelspec": {
   "display_name": "Python 3",
   "language": "python",
   "name": "python3"
  },
  "language_info": {
   "codemirror_mode": {
    "name": "ipython",
    "version": 3
   },
   "file_extension": ".py",
   "mimetype": "text/x-python",
   "name": "python",
   "nbconvert_exporter": "python",
   "pygments_lexer": "ipython3",
   "version": "3.7.4"
  }
 },
 "nbformat": 4,
 "nbformat_minor": 2
}
