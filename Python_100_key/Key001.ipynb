{
 "cells": [
  {
   "cell_type": "markdown",
   "metadata": {},
   "source": [
    "## key001 初识Python"
   ]
  },
  {
   "cell_type": "markdown",
   "metadata": {},
   "source": [
    "### Python的优缺点\n",
    "\n",
    "#### 1. Python的优点很多，简单的可以总结为以下几点:\n",
    "\n",
    "* 简单和明确，做一件事只有一种方法。\n",
    "* 学习曲线低，跟其他很多语言相比，Python更容易上手。\n",
    "* 开放源代码，拥有强大的社区和生态圈。\n",
    "* 解释型语言，天生具有平台可移植性。\n",
    "* 支持两种主流的编程范式（面向对象编程和函数式编程）都提供了支持。\n",
    "* 可扩展性和可嵌入性，可以调用C/C++代码，也可以在C/C++中调用Python。\n",
    "* 代码规范程度高，可读性强，适合有代码洁癖和强迫症的人群。\n",
    "\n",
    "####  2. Python的缺点主要集中在以下几点:\n",
    "\n",
    "* 执行效率稍低，因此计算密集型任务可以由C/C++编写。\n",
    "* 代码无法加密，但是现在的公司很多都不是卖软件而是卖服务，这个问题会被淡化。\n",
    "* 在开发时可以选择的框架太多（如Web框架就有100多个），有选择的地方就有错误。"
   ]
  },
  {
   "cell_type": "markdown",
   "metadata": {},
   "source": [
    "### 从终端运行Python程序\n",
    "#### 确认Python的版本\n",
    "在终端或命令行提示符中键入下面的命令。\n",
    "```python\n",
    "python --version\n",
    "```\n",
    "\n",
    "当然也可以先输入python进入交互式环境，再执行以下的代码检查Python的版本。\n",
    "```python\n",
    "import sys\n",
    "\n",
    "print(sys.version_info)\n",
    "print(sys.version)\n",
    "```\n",
    "\n",
    "#### 编写Python源代码\n",
    "可以用文本编辑工具（推荐使用Sublime、Atom、TextMate、VSCode等高级文本编辑工具）编写Python源代码并将其命名为hello.py保存起来，代码内容如下所示。\n",
    "```python\n",
    "print('hello, world!')\n",
    "```\n",
    "\n",
    "#### 运行程序\n",
    "切换到源代码所在的目录并执行下面的命令，看看屏幕上是否输出了\"hello, world!\"。\n",
    "\n",
    "```python\n",
    "python hello.py\n",
    "```"
   ]
  },
  {
   "cell_type": "markdown",
   "metadata": {},
   "source": [
    "### 代码中的注释\n",
    "注释是编程语言的一个重要组成部分，用于在源代码中解释代码的作用从而增强程序的可读性和可维护性，当然也可以将源代码中不需要参与运行的代码段通过注释来去掉，这一点在调试程序的时候经常用到。注释在随源代码进入预处理器或编译时会被移除，不会在目标代码中保留也不会影响程序的执行结果。\n",
    "\n",
    "单行注释 - 以#和空格开头的部分\n",
    "多行注释 - 三个引号开头，三个引号结尾\n",
    "```python\n",
    "\"\"\"\n",
    "第一个Python程序 - hello, world!\n",
    "向伟大的Dennis M. Ritchie先生致敬\n",
    "\n",
    "Version: 0.1\n",
    "Author: 骆昊\n",
    "\"\"\"\n",
    "```\n",
    "```python\n",
    "print('hello, world!')\n",
    "# print(\"你好,世界！\")\n",
    "print('你好', '世界')\n",
    "print('hello', 'world', sep=', ', end='!')\n",
    "print('goodbye, world', end='!\\n')\n",
    "```"
   ]
  },
  {
   "cell_type": "markdown",
   "metadata": {},
   "source": [
    "## 练习\n",
    "### 1. 在Python交互环境中下面的代码查看结果并将内容翻译成中文。\n",
    "``` python\n",
    "import this\n",
    "\n",
    "Beautiful is better than ugly.\n",
    "Explicit is better than implicit.\n",
    "Simple is better than complex.\n",
    "Complex is better than complicated.\n",
    "Flat is better than nested.\n",
    "Sparse is better than dense.\n",
    "Readability counts.\n",
    "Special cases aren't special enough to break the rules.\n",
    "Although practicality beats purity.\n",
    "Errors should never pass silently.\n",
    "Unless explicitly silenced.\n",
    "In the face of ambiguity, refuse the temptation to guess.\n",
    "There should be one-- and preferably only one --obvious way to do it.\n",
    "Although that way may not be obvious at first unless you're Dutch.\n",
    "Now is better than never.\n",
    "Although never is often better than *right* now.\n",
    "If the implementation is hard to explain, it's a bad idea.\n",
    "If the implementation is easy to explain, it may be a good idea.\n",
    "Namespaces are one honking great idea -- let's do more of those!\n",
    "```\n",
    "\n",
    "### 2. 学习使用turtle在屏幕上绘制图形。\n",
    "``` python\n",
    "import turtle\n",
    "\n",
    "turtle.pensize(4)\n",
    "turtle.pencolor('red')\n",
    "turtle.forward(100)\n",
    "turtle.right(90)\n",
    "turtle.forward(100)\n",
    "turtle.right(90)\n",
    "turtle.forward(100)\n",
    "turtle.right(90)\n",
    "turtle.forward(100)\n",
    "turtle.mainloop()\n",
    "```"
   ]
  }
 ],
 "metadata": {
  "kernelspec": {
   "display_name": "Python 3",
   "language": "python",
   "name": "python3"
  },
  "language_info": {
   "codemirror_mode": {
    "name": "ipython",
    "version": 3
   },
   "file_extension": ".py",
   "mimetype": "text/x-python",
   "name": "python",
   "nbconvert_exporter": "python",
   "pygments_lexer": "ipython3",
   "version": "3.7.4"
  }
 },
 "nbformat": 4,
 "nbformat_minor": 2
}
