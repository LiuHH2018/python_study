{
 "cells": [
  {
   "cell_type": "markdown",
   "metadata": {},
   "source": [
    "#  key002  语言元素"
   ]
  },
  {
   "cell_type": "markdown",
   "metadata": {},
   "source": [
    "## 变量和类型\n",
    "在程序设计中，变量是一种存储数据的载体。计算机中的变量是实际存在的数据或者说是存储器中存储数据的一块内存空间，变量的值可以被读取和修改，这是所有计算和控制的基础。计算机能处理的数据有很多中类型，除了数值之外还可以处理文本、图形、音频、视频等各种各样的数据，那么不同的数据就需要定义不同的存储类型。Python中的数据类型很多，而且也允许我们自定义新的数据类型（这一点在后面会讲到），我们先介绍几种常用的数据类型。\n",
    "\n",
    "* **整型**：   \n",
    "\n",
    "Python中可以处理任意大小的整数（Python 2.x中有int和long两种类型的整数，但这种区分对Python来说意义不大，因此在Python 3.x中整数只有int这一种了），而且支持二进制（如0b100，换算成十进制是4）、八进制（如0o100，换算成十进制是64）、十进制（100）和十六进制（0x100，换算成十进制是256）的表示法。  \n",
    "\n",
    "* **浮点型**：  \n",
    "\n",
    "浮点数也就是小数，之所以称为浮点数，是因为按照科学记数法表示时，一个浮点数的小数点位置是可变的，浮点数除了数学写法（如123.456）之外还支持科学计数法（如1.23456e2）。  \n",
    "\n",
    "* **字符串型**：  \n",
    "\n",
    "字符串是以单引号或双引号括起来的任意文本，比如'hello'和\"hello\",字符串还有原始字符串表示法、字节字符串表示法、Unicode字符串表示法，而且可以书写成多行的形式（用三个单引号或三个双引号开头，三个单引号或三个双引号结尾）。  \n",
    "\n",
    "* **布尔型**：  \n",
    "\n",
    "布尔值只有True、False两种值，要么是True，要么是False，在Python中，可以直接用True、False表示布尔值（请注意大小写），也可以通过布尔运算计算出来（例如3 < 5会产生布尔值True，而2 == 1会产生布尔值False）。  \n",
    "\n",
    "* **复数型**：  \n",
    "\n",
    "形如3+5j，跟数学上的复数表示一样，唯一不同的是虚部的i换成了j。\n",
    "\n",
    "### 变量命名\n",
    "+ 变量名由字母（广义的Unicode字符，不包括特殊字符）、数字和下划线构成，数字不能开头。\n",
    "+ 大小写敏感（大写的a和小写的A是两个不同的变量）。\n",
    "+ 不要跟关键字（有特殊含义的单词，后面会讲到）和系统保留字（如函数、模块等的名字）冲突。\n",
    "\n",
    "### 变量的使用\n",
    "下面通过几个例子来说明变量的类型和变量使用。"
   ]
  },
  {
   "cell_type": "markdown",
   "metadata": {},
   "source": [
    "+ 使用变量保存数据并进行算术运算"
   ]
  },
  {
   "cell_type": "code",
   "execution_count": 2,
   "metadata": {
    "scrolled": true
   },
   "outputs": [
    {
     "name": "stdout",
     "output_type": "stream",
     "text": [
      "444\n",
      "198\n",
      "39483\n",
      "2.6097560975609757\n",
      "2\n",
      "75\n",
      "199580904170858944588683464608694075062943107082809027605498347841561605181074274426665986623764972439807786764739130193391688887305693295698132008415537889753720415793877902074665765736230030622222862498385818118244547668141388643750880896837470534556730014314212951333550122949806119583030226121714710874561\n"
     ]
    }
   ],
   "source": [
    "a = 321\n",
    "b = 123\n",
    "print(a + b)\n",
    "print(a - b)\n",
    "print(a * b)\n",
    "print(a / b)\n",
    "print(a // b)\n",
    "print(a % b)\n",
    "print(a ** b)"
   ]
  },
  {
   "cell_type": "markdown",
   "metadata": {},
   "source": [
    " + 使用input函数输入 / 使用int()进行类型转换 / <font color=Crimson>**用占位符格式化输出的字符串**</font>"
   ]
  },
  {
   "cell_type": "code",
   "execution_count": 3,
   "metadata": {},
   "outputs": [
    {
     "name": "stdout",
     "output_type": "stream",
     "text": [
      "a = 10\n",
      "b = 5\n",
      "10 + 5 = 15\n",
      "10 + 5 = 5\n",
      "10 + 5 = 50\n",
      "10 + 5 = 2.000000\n",
      "10 // 5 = 2\n",
      "10 % 5 = 0\n",
      "10 ** 5 = 100000\n"
     ]
    }
   ],
   "source": [
    "a = int(input('a = '))\n",
    "b = int(input('b = '))\n",
    "\n",
    "# 下面需重点看\n",
    "print('%d + %d = %d' % (a, b, a + b))\n",
    "print('%d + %d = %d' % (a, b, a - b))\n",
    "print('%d + %d = %d' % (a, b, a * b))\n",
    "print('%d + %d = %f' % (a, b, a / b))\n",
    "print('%d // %d = %d' % (a, b, a // b))\n",
    "print('%d %% %d = %d' % (a, b, a % b))\n",
    "print('%d ** %d = %d' % (a, b, a ** b))"
   ]
  },
  {
   "cell_type": "markdown",
   "metadata": {},
   "source": [
    "+ 使用type()检查变量的类型"
   ]
  },
  {
   "cell_type": "code",
   "execution_count": 4,
   "metadata": {},
   "outputs": [
    {
     "name": "stdout",
     "output_type": "stream",
     "text": [
      "<class 'int'>\n",
      "<class 'float'>\n",
      "<class 'complex'>\n",
      "<class 'str'>\n",
      "<class 'bool'>\n"
     ]
    }
   ],
   "source": [
    "a = 100\n",
    "b = 12.345\n",
    "c = 1 + 5j\n",
    "d = 'hello, world'\n",
    "e = True\n",
    "print(type(a))\n",
    "print(type(b))\n",
    "print(type(c))\n",
    "print(type(d))\n",
    "print(type(e))"
   ]
  },
  {
   "cell_type": "markdown",
   "metadata": {},
   "source": [
    "在对变量类型进行转换时可以使用Python的内置函数（准确的说下面列出的并不是真正意义上的函数，而是后面我们要讲到的创建对象的构造方法）。\n",
    "\n",
    "* int()：将一个数值或字符串转换成整数，可以指定进制。\n",
    "* float()：将一个字符串转换成浮点数。\n",
    "* str()：将指定的对象转换成字符串形式，可以指定编码。\n",
    "* chr()：将整数转换成该编码对应的字符串（一个字符）。\n",
    "* ord()：将字符串（一个字符）转换成对应的编码（整数）。\n",
    "\n",
    "## 运算符\n",
    "Python支持多种运算符，下表大致按照优先级从高到低的顺序列出了所有的运算符，我们会陆续使用到它们。"
   ]
  },
  {
   "cell_type": "markdown",
   "metadata": {},
   "source": [
    "运算符|描述\n",
    ":-|:-\n",
    "[] [:]|下标，切片\n",
    "**|指数\n",
    "~ + -|按位取反, 正负号\n",
    "* / % //|乘，除，模，整除\n",
    "+ -\t|加，减\n",
    ">> <<|右移，左移\n",
    "&|按位与\n",
    "^ `|`\n",
    "<= < > >=|小于等于，小于，大于，大于等于\n",
    "== !=|等于，不等于\n",
    "is is not|身份运算符\n",
    "in not in|成员运算符\n",
    "not or and|逻辑运算符\n",
    "= += -= *= /= %= //= **= &= `|= ^= >>= <<=`\n",
    "\n",
    "<font color=gray>**说明：**在实际开发中，如果搞不清楚优先级可以使用括号来确保运算的执行顺序。</font>\n",
    "\n",
    "下面的例子演示了运算符的使用。"
   ]
  },
  {
   "cell_type": "code",
   "execution_count": 5,
   "metadata": {},
   "outputs": [
    {
     "name": "stdout",
     "output_type": "stream",
     "text": [
      "a =  9.6\n",
      "flag1 =  True\n",
      "flag2 =  False\n",
      "flag3 =  False\n",
      "flag4 =  True\n",
      "flag5 =  False\n",
      "True\n",
      "False\n"
     ]
    }
   ],
   "source": [
    "a = 5\n",
    "b = 10\n",
    "c = 3\n",
    "d = 4\n",
    "e = 5\n",
    "a += b\n",
    "a -= c\n",
    "a *= d\n",
    "a /= e\n",
    "print(\"a = \", a)\n",
    "\n",
    "flag1 = 3 > 2\n",
    "flag2 = 2 < 1\n",
    "flag3 = flag1 and flag2\n",
    "flag4 = flag1 or flag2\n",
    "flag5 = not flag1\n",
    "\n",
    "print(\"flag1 = \", flag1)\n",
    "print(\"flag2 = \", flag2)\n",
    "print(\"flag3 = \", flag3)\n",
    "print(\"flag4 = \", flag4)\n",
    "print(\"flag5 = \", flag5)\n",
    "print(flag1 is True)\n",
    "print(flag2 is not False)"
   ]
  },
  {
   "cell_type": "markdown",
   "metadata": {},
   "source": [
    "## 练习\n",
    "### 练习1：华氏温度转摄氏温度"
   ]
  },
  {
   "cell_type": "code",
   "execution_count": 10,
   "metadata": {},
   "outputs": [
    {
     "name": "stdout",
     "output_type": "stream",
     "text": [
      "请输入华氏温度：67.4\n",
      "华氏温度 67.4℉ 转为摄氏温度为 19.67℃\n"
     ]
    }
   ],
   "source": [
    "# 将华氏温度转换为摄氏温度\n",
    "# F = 1.8C + 32\n",
    "\n",
    "f = float(input('请输入华氏温度：'))\n",
    "c = (f - 32) / 1.8\n",
    "print(f'华氏温度 {f}℉ 转为摄氏温度为 {round(c,2)}℃')\n",
    "\n",
    "# print('%.1f华氏度 = %.1f摄氏度' % (f, c))  #也可以这么书写"
   ]
  },
  {
   "cell_type": "markdown",
   "metadata": {},
   "source": [
    "### 练习2：输入圆的半径计算周长和面积"
   ]
  },
  {
   "cell_type": "code",
   "execution_count": 14,
   "metadata": {},
   "outputs": [
    {
     "name": "stdout",
     "output_type": "stream",
     "text": [
      "请输入圆的半径：5\n",
      "当圆半径为5.0cm时，周长为31.42cm，面积为78.54c㎡\n"
     ]
    }
   ],
   "source": [
    "import math\n",
    "r = float(input(\"请输入圆的半径：\"))\n",
    "c = 2 * math.pi * r\n",
    "s = math.pi * r**2\n",
    "\n",
    "print(f'当圆半径为{r}cm时，周长为{round(c,2)}cm，面积为{round(s,2)}c㎡' )\n",
    "\n",
    "# print('周长: %.2f' % c)--%.2f' 变量取2位小数点\n",
    "# print('面积: %.2f' % s)--%.2f' 变量取2位小数点"
   ]
  },
  {
   "cell_type": "markdown",
   "metadata": {},
   "source": [
    "**<font color=#DC143C>重点：python语言使用π，直接import math导入math包，使用math.pi就可以了。</font>**"
   ]
  },
  {
   "cell_type": "markdown",
   "metadata": {},
   "source": [
    "### 练习3：输入年份判断是不是闰年"
   ]
  },
  {
   "cell_type": "code",
   "execution_count": 23,
   "metadata": {},
   "outputs": [
    {
     "name": "stdout",
     "output_type": "stream",
     "text": [
      "请输入年份：2019\n",
      "2019年不是闰年\n"
     ]
    }
   ],
   "source": [
    "year = int(input(\"请输入年份：\"))\n",
    "if year % 400 == 0 or year % 4 == 0 and year % 100 != 0:\n",
    "    f ='是闰年'\n",
    "else:\n",
    "    f = '不是闰年'\n",
    "\n",
    "print(f'{year}年{f}')"
   ]
  }
 ],
 "metadata": {
  "kernelspec": {
   "display_name": "Python 3",
   "language": "python",
   "name": "python3"
  },
  "language_info": {
   "codemirror_mode": {
    "name": "ipython",
    "version": 3
   },
   "file_extension": ".py",
   "mimetype": "text/x-python",
   "name": "python",
   "nbconvert_exporter": "python",
   "pygments_lexer": "ipython3",
   "version": "3.7.4"
  }
 },
 "nbformat": 4,
 "nbformat_minor": 2
}
