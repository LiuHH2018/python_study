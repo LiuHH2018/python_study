{
 "cells": [
  {
   "cell_type": "markdown",
   "metadata": {},
   "source": [
    "# 字符串和常用数据结构"
   ]
  },
  {
   "cell_type": "markdown",
   "metadata": {},
   "source": [
    "## 使用字符串\n",
    "第二次世界大战促使了现代电子计算机的诞生，当初的想法很简单，就是用计算机来计算导弹的弹道，因此在计算机刚刚诞生的那个年代，计算机处理的信息主要是数值，而世界上的第一台电子计算机ENIAC每秒钟能够完成约5000次浮点运算。随着时间的推移，虽然对数值运算仍然是计算机日常工作中最为重要的事情之一，但是今天的计算机处理得更多的数据都是以文本信息的方式存在的，而Python表示文本信息的方式我们在很早以前就说过了，那就是字符串类型。所谓字符串，就是由零个或多个字符组成的有限序列，一般记为$${\\displaystyle s=a_{1}a_{2}\\dots a_{n}(0\\leq n \\leq \\infty)}$$\n",
    "我们可以通过下面的代码来了解字符串的使用。"
   ]
  },
  {
   "cell_type": "code",
   "execution_count": 1,
   "metadata": {},
   "outputs": [
    {
     "name": "stdout",
     "output_type": "stream",
     "text": [
      "13\n",
      "Hello, world!\n",
      "HELLO, WORLD!\n",
      "8\n",
      "-1\n",
      "False\n",
      "True\n",
      "True\n",
      "******************hello, world!*******************\n",
      "                                     hello, world!\n",
      "c\n",
      "c12\n",
      "c123456\n",
      "c246\n",
      "ac246\n",
      "654321cba\n",
      "45\n",
      "False\n",
      "False\n",
      "True\n",
      "  jackfrued@126.com \n",
      "jackfrued@126.com\n"
     ]
    }
   ],
   "source": [
    "def main():\n",
    "    str1 = 'hello, world!'\n",
    "    \n",
    "    # 通过len函数计算字符串的长度\n",
    "    print(len(str1))  # 13\n",
    "    \n",
    "    # 获得字符串首字母大写的拷贝\n",
    "    print(str1.capitalize())  # Hello, world!\n",
    "    \n",
    "    # 获得字符串变大写后的拷贝\n",
    "    print(str1.upper())  # HELLO, WORLD!\n",
    "    \n",
    "    # 从字符串中查找子串所在位置\n",
    "    print(str1.find('or'))  # 8\n",
    "    print(str1.find('shit'))  # -1\n",
    "    \n",
    "    # 与find类似但找不到子串时会引发异常\n",
    "    # print(str1.index('or'))\n",
    "    # print(str1.index('shit'))\n",
    "    \n",
    "    # 检查字符串是否以指定的字符串开头\n",
    "    print(str1.startswith('He'))  # False\n",
    "    print(str1.startswith('hel'))  # True\n",
    "    \n",
    "    # 检查字符串是否以指定的字符串结尾\n",
    "    print(str1.endswith('!'))  # True\n",
    "    \n",
    "    # 将字符串以指定的宽度居中并在两侧填充指定的字符\n",
    "    print(str1.center(50, '*'))\n",
    "    \n",
    "    # 将字符串以指定的宽度靠右放置左侧填充指定的字符\n",
    "    print(str1.rjust(50, ' '))\n",
    "    \n",
    "    str2 = 'abc123456'\n",
    "    # 从字符串中取出指定位置的字符(下标运算)\n",
    "    print(str2[2])  # c\n",
    "    \n",
    "    # 字符串切片(从指定的开始索引到指定的结束索引)\n",
    "    print(str2[2:5])  # c12\n",
    "    print(str2[2:])  # c123456\n",
    "    print(str2[2::2])  # c246\n",
    "    print(str2[::2])  # ac246\n",
    "    print(str2[::-1])  # 654321cba\n",
    "    print(str2[-3:-1])  # 45\n",
    "    \n",
    "    # 检查字符串是否由数字构成\n",
    "    print(str2.isdigit())  # False\n",
    "    \n",
    "    # 检查字符串是否以字母构成\n",
    "    print(str2.isalpha())  # False\n",
    "    \n",
    "    # 检查字符串是否以数字和字母构成\n",
    "    print(str2.isalnum())  # True\n",
    "    \n",
    "    str3 = '  jackfrued@126.com '\n",
    "    print(str3)\n",
    "    \n",
    "    # 获得字符串修剪左右两侧空格的拷贝\n",
    "    print(str3.strip())\n",
    "\n",
    "\n",
    "if __name__ == '__main__':\n",
    "    main()"
   ]
  },
  {
   "cell_type": "markdown",
   "metadata": {},
   "source": [
    "除了字符串，Python还内置了多种类型的数据结构，如果要在程序中保存和操作数据，绝大多数时候可以利用现有的数据结构来实现，最常用的包括列表、元组、集合和字典。"
   ]
  },
  {
   "cell_type": "markdown",
   "metadata": {},
   "source": [
    "## 使用列表\n",
    "下面的代码演示了如何定义列表、使用下标访问列表元素以及添加和删除元素的操作"
   ]
  },
  {
   "cell_type": "code",
   "execution_count": 4,
   "metadata": {},
   "outputs": [
    {
     "name": "stdout",
     "output_type": "stream",
     "text": [
      "[1, 3, 5, 7, 100]\n",
      "['hello', 'hello', 'hello', 'hello', 'hello']\n",
      "5\n",
      "1\n",
      "100\n",
      "100\n",
      "5\n",
      "[1, 3, 300, 7, 100]\n",
      "[1, 400, 3, 300, 7, 100, 200, 1000, 2000]\n",
      "9\n",
      "[400, 300, 7, 100, 200, 1000, 2000]\n",
      "[]\n"
     ]
    }
   ],
   "source": [
    "def main():\n",
    "    list1 = [1, 3, 5, 7, 100]\n",
    "    print(list1)\n",
    "    \n",
    "    list2 = ['hello'] * 5\n",
    "    print(list2)\n",
    "    \n",
    "    # 计算列表长度(元素个数)\n",
    "    print(len(list1))\n",
    "    \n",
    "    # 下标(索引)运算\n",
    "    print(list1[0])\n",
    "    print(list1[4])\n",
    "    # print(list1[5])  # IndexError: list index out of range\n",
    "    print(list1[-1])\n",
    "    print(list1[-3])\n",
    "    list1[2] = 300\n",
    "    print(list1)\n",
    "    \n",
    "    # 添加元素\n",
    "    list1.append(200)\n",
    "    list1.insert(1, 400)\n",
    "    list1 += [1000, 2000]\n",
    "    print(list1)\n",
    "    print(len(list1))\n",
    "    \n",
    "    # 删除元素\n",
    "    list1.remove(3)\n",
    "    if 1234 in list1:\n",
    "        list1.remove(1234)\n",
    "    del list1[0]\n",
    "    print(list1)\n",
    "    \n",
    "    # 清空列表元素\n",
    "    list1.clear()\n",
    "    print(list1)\n",
    "\n",
    "\n",
    "if __name__ == '__main__':\n",
    "    main()"
   ]
  },
  {
   "cell_type": "markdown",
   "metadata": {},
   "source": [
    "和字符串一样，列表也可以做切片操作，通过切片操作我们可以实现对列表的复制或者将列表中的一部分取出来创建出新的列表，代码如下所示。"
   ]
  },
  {
   "cell_type": "code",
   "execution_count": 5,
   "metadata": {},
   "outputs": [
    {
     "name": "stdout",
     "output_type": "stream",
     "text": [
      "Grape Apple Strawberry Waxberry Pitaya Pear Mango \n",
      "['apple', 'strawberry', 'waxberry']\n",
      "['grape', 'apple', 'strawberry', 'waxberry', 'pitaya', 'pear', 'mango']\n",
      "['pitaya', 'pear']\n",
      "['mango', 'pear', 'pitaya', 'waxberry', 'strawberry', 'apple', 'grape']\n"
     ]
    }
   ],
   "source": [
    "def main():\n",
    "    fruits = ['grape', 'apple', 'strawberry', 'waxberry']\n",
    "    fruits += ['pitaya', 'pear', 'mango']\n",
    "    \n",
    "    # 循环遍历列表元素\n",
    "    for fruit in fruits:\n",
    "        print(fruit.title(), end=' ')\n",
    "    print()\n",
    "    \n",
    "    # 列表切片\n",
    "    fruits2 = fruits[1:4]\n",
    "    print(fruits2)\n",
    "    \n",
    "    # fruit3 = fruits  # 没有复制列表只创建了新的引用\n",
    "    # 可以通过完整切片操作来复制列表\n",
    "    fruits3 = fruits[:]\n",
    "    print(fruits3)\n",
    "    fruits4 = fruits[-3:-1]\n",
    "    print(fruits4)\n",
    "    \n",
    "    # 可以通过反向切片操作来获得倒转后的列表的拷贝\n",
    "    fruits5 = fruits[::-1]\n",
    "    print(fruits5)\n",
    "\n",
    "\n",
    "if __name__ == '__main__':\n",
    "    main()"
   ]
  },
  {
   "cell_type": "markdown",
   "metadata": {},
   "source": [
    "下面的代码实现了对列表的排序操作。"
   ]
  },
  {
   "cell_type": "code",
   "execution_count": 6,
   "metadata": {},
   "outputs": [
    {
     "name": "stdout",
     "output_type": "stream",
     "text": [
      "['orange', 'apple', 'zoo', 'internationalization', 'blueberry']\n",
      "['apple', 'blueberry', 'internationalization', 'orange', 'zoo']\n",
      "['zoo', 'orange', 'internationalization', 'blueberry', 'apple']\n",
      "['zoo', 'apple', 'orange', 'blueberry', 'internationalization']\n",
      "['zoo', 'orange', 'internationalization', 'blueberry', 'apple']\n"
     ]
    }
   ],
   "source": [
    "def main():\n",
    "    list1 = ['orange', 'apple', 'zoo', 'internationalization', 'blueberry']\n",
    "    list2 = sorted(list1)\n",
    "    # sorted函数返回列表排序后的拷贝不会修改传入的列表\n",
    "    # 函数的设计就应该像sorted函数一样尽可能不产生副作用\n",
    "    list3 = sorted(list1, reverse=True)\n",
    "    \n",
    "    # 通过key关键字参数指定根据字符串长度进行排序而不是默认的字母表顺序\n",
    "    list4 = sorted(list1, key=len)\n",
    "    print(list1)\n",
    "    print(list2)\n",
    "    print(list3)\n",
    "    print(list4)\n",
    "    \n",
    "    # 给列表对象发出排序消息直接在列表对象上进行排序\n",
    "    list1.sort(reverse=True)\n",
    "    print(list1)\n",
    "\n",
    "\n",
    "if __name__ == '__main__':\n",
    "    main()"
   ]
  },
  {
   "cell_type": "markdown",
   "metadata": {},
   "source": [
    "我们还可以使用列表的生成式语法来创建列表，代码如下所示。"
   ]
  },
  {
   "cell_type": "code",
   "execution_count": 11,
   "metadata": {},
   "outputs": [],
   "source": [
    "# import sys\n",
    "\n",
    "\n",
    "# def main():\n",
    "#     f = [x for x in range(1, 10)]\n",
    "#     print(f)\n",
    "#     f = [x + y for x in 'ABCDE' for y in '1234567']\n",
    "#     print(f)\n",
    "    \n",
    "#     # 用列表的生成表达式语法创建列表容器\n",
    "#     # 用这种语法创建列表之后元素已经准备就绪所以需要耗费较多的内存空间\n",
    "#     f = [x ** 2 for x in range(1, 1000)]\n",
    "#     print(sys.getsizeof(f))  # 查看对象占用内存的字节数\n",
    "#     print(f)\n",
    "    \n",
    "#     # 请注意下面的代码创建的不是一个列表而是一个生成器对象\n",
    "#     # 通过生成器可以获取到数据但它不占用额外的空间存储数据\n",
    "#     # 每次需要数据的时候就通过内部的运算得到数据(需要花费额外的时间)\n",
    "#     f = (x ** 2 for x in range(1, 1000))\n",
    "#     print(sys.getsizeof(f))  # 相比生成式生成器不占用存储数据的空间\n",
    "#     print(f)\n",
    "#     for val in f:\n",
    "#         print(val)\n",
    "\n",
    "\n",
    "# if __name__ == '__main__':\n",
    "#     main()"
   ]
  },
  {
   "cell_type": "markdown",
   "metadata": {},
   "source": [
    "除了上面提到的生成器语法，Python中还有另外一种定义生成器的方式，就是通过yield关键字将一个普通函数改造成生成器函数。下面的代码演示了如何实现一个生成斐波拉切数列的生成器。所谓斐波拉切数列可以通过下面递归的方法来进行定义：\n",
    "\n",
    "$${\\displaystyle F_{0}=0}$$\n",
    "\n",
    "$${\\displaystyle F_{1}=1}$$\n",
    "\n",
    "$${\\displaystyle F_{n}=F_{n-1}+F_{n-2}}({n}\\geq{2})$$"
   ]
  },
  {
   "cell_type": "markdown",
   "metadata": {},
   "source": [
    "![斐波拉切数](https://github.com/LiuHH2018/Python-100-Days/raw/master/Day01-15/Day07/res/fibonacci-blocks.png)"
   ]
  },
  {
   "cell_type": "code",
   "execution_count": 9,
   "metadata": {},
   "outputs": [
    {
     "name": "stdout",
     "output_type": "stream",
     "text": [
      "1\n",
      "1\n",
      "2\n",
      "3\n",
      "5\n",
      "8\n",
      "13\n",
      "21\n",
      "34\n",
      "55\n",
      "89\n",
      "144\n",
      "233\n",
      "377\n",
      "610\n",
      "987\n",
      "1597\n",
      "2584\n",
      "4181\n",
      "6765\n"
     ]
    }
   ],
   "source": [
    "def fib(n):\n",
    "    a, b = 0, 1\n",
    "    for _ in range(n):\n",
    "        a, b = b, a + b\n",
    "        yield a\n",
    "\n",
    "\n",
    "def main():\n",
    "    for val in fib(20):\n",
    "        print(val)\n",
    "\n",
    "\n",
    "if __name__ == '__main__':\n",
    "    main()"
   ]
  },
  {
   "cell_type": "markdown",
   "metadata": {},
   "source": [
    "## 使用元组\n",
    "Python 的元组与列表类似，不同之处在于元组的元素不能修改，在前面的代码中我们已经不止一次使用过元组了。顾名思义，我们把多个元素组合到一起就形成了一个元组，所以它和列表一样可以保存多条数据。下面的代码演示了如何定义和使用元组。"
   ]
  },
  {
   "cell_type": "code",
   "execution_count": 11,
   "metadata": {
    "scrolled": true
   },
   "outputs": [
    {
     "name": "stdout",
     "output_type": "stream",
     "text": [
      "('骆昊', 38, True, '四川成都')\n",
      "骆昊\n",
      "四川成都\n",
      "骆昊\n",
      "38\n",
      "True\n",
      "四川成都\n",
      "('王大锤', 20, True, '云南昆明')\n",
      "['王大锤', 20, True, '云南昆明']\n",
      "['李小龙', 25, True, '云南昆明']\n",
      "('apple', 'banana', 'orange')\n"
     ]
    }
   ],
   "source": [
    "def main():\n",
    "    # 定义元组\n",
    "    t = ('骆昊', 38, True, '四川成都')\n",
    "    print(t)\n",
    "    \n",
    "    # 获取元组中的元素\n",
    "    print(t[0])\n",
    "    print(t[3])\n",
    "    \n",
    "    # 遍历元组中的值\n",
    "    for member in t:\n",
    "        print(member)\n",
    "        \n",
    "    # 重新给元组赋值\n",
    "    # t[0] = '王大锤'  # TypeError\n",
    "    # 变量t重新引用了新的元组原来的元组将被垃圾回收\n",
    "    t = ('王大锤', 20, True, '云南昆明')\n",
    "    print(t)\n",
    "    \n",
    "    # 将元组转换成列表\n",
    "    person = list(t)\n",
    "    print(person)\n",
    "    \n",
    "    # 列表是可以修改它的元素的\n",
    "    person[0] = '李小龙'\n",
    "    person[1] = 25\n",
    "    print(person)\n",
    "    \n",
    "    # 将列表转换成元组\n",
    "    fruits_list = ['apple', 'banana', 'orange']\n",
    "    fruits_tuple = tuple(fruits_list)\n",
    "    print(fruits_tuple)\n",
    "\n",
    "\n",
    "if __name__ == '__main__':\n",
    "    main()"
   ]
  },
  {
   "cell_type": "markdown",
   "metadata": {},
   "source": [
    "这里有一个非常值得探讨的问题，我们已经有了列表这种数据结构，为什么还需要元组这样的类型呢？\n",
    "\n",
    "1.元组中的元素是无法修改的，事实上我们在项目中尤其是多线程环境（后面会讲到）中可能更喜欢使用的是那些不变对象（一方面因为对象状态不能修改，所以可以避免由此引起的不必要的程序错误，简单的说就是一个不变的对象要比可变的对象更加容易维护；另一方面因为没有任何一个线程能够修改不变对象的内部状态，一个不变对象自动就是线程安全的，这样就可以省掉处理同步化的开销。一个不变对象可以方便的被共享访问）。所以结论就是：如果不需要对元素进行添加、删除、修改的时候，可以考虑使用元组，当然如果一个方法要返回多个值，使用元组也是不错的选择。  \n",
    "\n",
    "2.元组在创建时间和占用的空间上面都优于列表。我们可以使用sys模块的getsizeof函数来检查存储同样的元素的元组和列表各自占用了多少内存空间，这个很容易做到。我们也可以在ipython中使用魔法指令%timeit来分析创建同样内容的元组和列表所花费的时间，下图是我的macOS系统上测试的结果。"
   ]
  },
  {
   "cell_type": "markdown",
   "metadata": {},
   "source": [
    "![图片](https://raw.githubusercontent.com/LiuHH2018/Python-100-Days/master/Day01-15/Day07/res/ipython-timeit.png)"
   ]
  },
  {
   "cell_type": "markdown",
   "metadata": {},
   "source": [
    "## 使用集合\n",
    "Python中的集合跟数学上的集合是一致的，不允许有重复元素，而且可以进行交集、并集、差集等运算。"
   ]
  },
  {
   "cell_type": "markdown",
   "metadata": {},
   "source": [
    "![斐波拉切数](https://raw.githubusercontent.com/LiuHH2018/Python-100-Days/master/Day01-15/Day07/res/python-set.png)"
   ]
  },
  {
   "cell_type": "code",
   "execution_count": 12,
   "metadata": {},
   "outputs": [
    {
     "name": "stdout",
     "output_type": "stream",
     "text": [
      "{1, 2, 3}\n",
      "Length = 3\n",
      "{1, 2, 3, 4, 5, 6, 7, 8, 9}\n",
      "{1, 2, 3, 4, 5}\n",
      "{1, 2, 3, 4, 5, 6, 7, 8, 9, 11, 12}\n",
      "{1, 2, 3, 6, 7, 8, 9, 11, 12}\n",
      "1 4 9 36 49 64 81 121 144 \n",
      "1\n",
      "{2, 3}\n",
      "{1, 2, 3}\n",
      "{1, 2, 3, 4, 5, 6, 7, 8, 9, 11, 12}\n",
      "{4, 5}\n",
      "{4, 5, 6, 7, 8, 9, 11, 12}\n",
      "False\n",
      "True\n",
      "False\n",
      "True\n"
     ]
    }
   ],
   "source": [
    "def main():\n",
    "    set1 = {1, 2, 3, 3, 3, 2}\n",
    "    print(set1)\n",
    "    print('Length =', len(set1))\n",
    "    set2 = set(range(1, 10))\n",
    "    print(set2)\n",
    "    set1.add(4)\n",
    "    set1.add(5)\n",
    "    set2.update([11, 12])\n",
    "    print(set1)\n",
    "    print(set2)\n",
    "    set2.discard(5) #移出元素\n",
    "    \n",
    "    # remove的元素如果不存在会引发KeyError\n",
    "    if 4 in set2:\n",
    "        set2.remove(4)\n",
    "    print(set2)\n",
    "    \n",
    "    # 遍历集合容器\n",
    "    for elem in set2:\n",
    "        print(elem ** 2, end=' ')\n",
    "    print()\n",
    "    \n",
    "    # 将元组转换成集合\n",
    "    set3 = set((1, 2, 3, 3, 2, 1))\n",
    "    print(set3.pop())\n",
    "    print(set3)\n",
    "    \n",
    "    # 集合的交集、并集、差集、对称差运算\n",
    "    print(set1 & set2)\n",
    "    # print(set1.intersection(set2))\n",
    "    print(set1 | set2)\n",
    "    # print(set1.union(set2))\n",
    "    print(set1 - set2)\n",
    "    # print(set1.difference(set2))\n",
    "    print(set1 ^ set2)\n",
    "    # print(set1.symmetric_difference(set2))\n",
    "    \n",
    "    # 判断子集和超集\n",
    "    print(set2 <= set1)\n",
    "    # print(set2.issubset(set1))\n",
    "    print(set3 <= set1)\n",
    "    # print(set3.issubset(set1))\n",
    "    print(set1 >= set2)\n",
    "    # print(set1.issuperset(set2))\n",
    "    print(set1 >= set3)\n",
    "    # print(set1.issuperset(set3))\n",
    "\n",
    "\n",
    "if __name__ == '__main__':\n",
    "    main()"
   ]
  },
  {
   "cell_type": "markdown",
   "metadata": {},
   "source": [
    ">说明：Python中允许通过一些特殊的方法来为某种类型或数据结构自定义运算符（后面的章节中会讲到），上面的代码中我们对集合进行运算的时候可以调用集合对象的方法，也可以直接使用对应的运算符，例如&运算符跟intersection方法的作用就是一样的，但是使用运算符让代码更加直观。"
   ]
  },
  {
   "cell_type": "markdown",
   "metadata": {},
   "source": [
    "## 使用字典\n",
    "字典是另一种可变容器模型，类似于我们生活中使用的字典，它可以存储任意类型对象，与列表、集合不同的是，字典的每个元素都是由一个键和一个值组成的“键值对”，键和值通过冒号分开。下面的代码演示了如何定义和使用字典。"
   ]
  },
  {
   "cell_type": "code",
   "execution_count": 15,
   "metadata": {},
   "outputs": [
    {
     "name": "stdout",
     "output_type": "stream",
     "text": [
      "95\n",
      "82\n",
      "骆昊\t--->\t95\n",
      "白元芳\t--->\t78\n",
      "狄仁杰\t--->\t82\n",
      "{'骆昊': 95, '白元芳': 65, '狄仁杰': 82, '诸葛王朗': 71, '冷面': 67, '方启鹤': 85}\n",
      "None\n",
      "60\n",
      "('方启鹤', 85)\n",
      "('冷面', 67)\n",
      "95\n",
      "{}\n"
     ]
    }
   ],
   "source": [
    "def main():\n",
    "    scores = {'骆昊': 95, '白元芳': 78, '狄仁杰': 82}\n",
    "    \n",
    "    # 通过键可以获取字典中对应的值\n",
    "    print(scores['骆昊'])\n",
    "    print(scores['狄仁杰'])\n",
    "    \n",
    "    # 对字典进行遍历(遍历的其实是键再通过键取对应的值)\n",
    "    for elem in scores:\n",
    "        print('%s\\t--->\\t%d' % (elem, scores[elem]))\n",
    "        \n",
    "    # 更新字典中的元素\n",
    "    scores['白元芳'] = 65\n",
    "    scores['诸葛王朗'] = 71\n",
    "    scores.update(冷面=67, 方启鹤=85)\n",
    "    print(scores)\n",
    "    if '武则天' in scores:\n",
    "        print(scores['武则天'])\n",
    "    print(scores.get('武则天'))\n",
    "    \n",
    "    # get方法也是通过键获取对应的值但是可以设置默认值\n",
    "    print(scores.get('武则天', 60))\n",
    "    \n",
    "    # 删除字典中的元素\n",
    "    print(scores.popitem())\n",
    "    print(scores.popitem())\n",
    "    print(scores.pop('骆昊', 100))\n",
    "    \n",
    "    # 清空字典\n",
    "    scores.clear()\n",
    "    print(scores)\n",
    "\n",
    "\n",
    "if __name__ == '__main__':\n",
    "    main()"
   ]
  },
  {
   "cell_type": "markdown",
   "metadata": {},
   "source": [
    "## 练习\n",
    "### 练习1：在屏幕上显示跑马灯文字"
   ]
  },
  {
   "cell_type": "code",
   "execution_count": 10,
   "metadata": {},
   "outputs": [
    {
     "name": "stdout",
     "output_type": "stream",
     "text": [
      "北京欢迎你!!!北京欢迎你!!!"
     ]
    }
   ],
   "source": [
    "import time\n",
    "\n",
    "def run_word(str_1):\n",
    "    n = 0\n",
    "    while n <10:# 防止程序跑死，所以设置数字10，无限循环的话“1==1”\n",
    "        for i in str_1:\n",
    "            time.sleep(0.4) # sleep函数支持小数,例如sleep(0.3),单位为秒\n",
    "            n +=1\n",
    "            print(i,end=\"\")\n",
    "\n",
    "run_word(\"北京欢迎你!!!\")"
   ]
  },
  {
   "cell_type": "markdown",
   "metadata": {},
   "source": [
    "### 练习2：设计一个函数产生指定长度的验证码，验证码由大小写字母和数字构成。"
   ]
  },
  {
   "cell_type": "code",
   "execution_count": 9,
   "metadata": {},
   "outputs": [
    {
     "data": {
      "text/plain": [
       "'6aED'"
      ]
     },
     "execution_count": 9,
     "metadata": {},
     "output_type": "execute_result"
    }
   ],
   "source": [
    "#  可使用string.ascii_lowercase代替敲入的字母\n",
    "import random\n",
    "\n",
    "def code():\n",
    "    a = \"0123456789abcdefghijklmnopqrstuvwxyzABCDEFGHIJKLMNOPQRSTUVWXYZ\"\n",
    "    b = len(a)\n",
    "    c = a[random.randint(0,b)]\n",
    "    d = a[random.randint(0,b)]\n",
    "    e = a[random.randint(0,b)]\n",
    "    f = a[random.randint(0,b)]\n",
    "    \n",
    "    n = c+d+e+f\n",
    "    return n\n",
    "\n",
    "code()"
   ]
  },
  {
   "cell_type": "markdown",
   "metadata": {},
   "source": [
    "### 附加练习1：判断一个用户输入的密码是否有效必须，至少一个大写字母，一个小写字母，一个特殊符号，一个数字，长度 不小于6位，不大于15位"
   ]
  },
  {
   "cell_type": "code",
   "execution_count": 8,
   "metadata": {},
   "outputs": [
    {
     "name": "stdout",
     "output_type": "stream",
     "text": [
      "请输入密码：wjejrke\n",
      "您的密码无效，请重新输入！\n"
     ]
    }
   ],
   "source": [
    "import string\n",
    "\n",
    "def is_code():\n",
    "    m = str(input(\"请输入密码：\"))\n",
    "    \n",
    "    if len(m) >=6 and len(m)<=15:\n",
    "        a = string.ascii_lowercase\n",
    "        b = string.ascii_uppercase\n",
    "        c = string.digits\n",
    "        d = string.punctuation \n",
    "        \n",
    "        i = [x for x in m if x in a]\n",
    "        j = [x for x in m if x in b]\n",
    "        h = [x for x in m if x in c]\n",
    "        p = [x for x in m if x in d]\n",
    "        if len(i)>0 and len(j) >0 and len(h)>0 and len(p)>0:\n",
    "            print(\"您的密码有效，请登录！\")\n",
    "        else:\n",
    "            print(\"您的密码无效，请重新输入！\")\n",
    "    else:\n",
    "        print(\"您的密码无效，请重新输入！\")\n",
    "        \n",
    "is_code()"
   ]
  },
  {
   "cell_type": "markdown",
   "metadata": {},
   "source": [
    "### 附加练习2：随机生成一个密码生成器，至少一个大写字母，一个小写字母，一个特殊符号，一个数字，长度 不小于6位，不大于15位"
   ]
  },
  {
   "cell_type": "code",
   "execution_count": 57,
   "metadata": {},
   "outputs": [
    {
     "name": "stdout",
     "output_type": "stream",
     "text": [
      "Y=8!4b'IG\"E\n"
     ]
    }
   ],
   "source": [
    "import random\n",
    "import string\n",
    "\n",
    "def di_code():\n",
    "    \"\"\"\n",
    "    随机生成函数\n",
    "    \"\"\"\n",
    "    i=random.randint(6,15)\n",
    "    a= string.printable\n",
    "    b =a[0:len(a)-6]\n",
    "    str_list = list(b) # 将字符串转换成列表\n",
    "    random.shuffle(str_list) # 调用random模块的shuffle函数打乱列表\n",
    "    c = ''.join(str_list)# 将列表转字符串\n",
    "    m =c[0:i]\n",
    "    return m\n",
    "\n",
    "\n",
    "def is_code(m):\n",
    "    \"\"\"\n",
    "    判断函数是否符合规则\n",
    "    \"\"\"\n",
    "    if len(m) >=6 and len(m)<=15:\n",
    "        a = string.ascii_lowercase\n",
    "        b = string.ascii_uppercase\n",
    "        c = string.digits\n",
    "        d = string.punctuation \n",
    "        \n",
    "        i = [x for x in m if x in a]\n",
    "        j = [x for x in m if x in b]\n",
    "        h = [x for x in m if x in c]\n",
    "        p = [x for x in m if x in d]\n",
    "        if len(i)>0 and len(j) >0 and len(h)>0 and len(p)>0:\n",
    "            return True\n",
    "        else:\n",
    "            return False\n",
    "    else:\n",
    "        return False\n",
    "        \n",
    "\n",
    "if __name__ == '__main__':\n",
    "    m = di_code()\n",
    "    while 1==1:\n",
    "        if is_code(m)==True:\n",
    "            print(m)\n",
    "            break\n",
    "        else:\n",
    "            continue"
   ]
  },
  {
   "cell_type": "code",
   "execution_count": 3,
   "metadata": {
    "scrolled": true
   },
   "outputs": [
    {
     "name": "stdout",
     "output_type": "stream",
     "text": [
      "iXpp0\\;,\n",
      "Thank you for your password\n",
      "aHGeuEy!H6z'.\n",
      "Thank you for your password\n",
      "CKYjm9wO<0T\n",
      "Thank you for your password\n",
      "|x\\Q4[S8JRSv6xW\n",
      "Thank you for your password\n",
      "8@I!&pnn~0_RXG\n",
      "Thank you for your password\n",
      "1OrvuK'CV6Q\n",
      "Thank you for your password\n",
      "5s<6*I^t\n",
      "Thank you for your password\n",
      "458%Z'$a\n",
      "Thank you for your password\n",
      "Nt08[ee9q\n",
      "Thank you for your password\n",
      "2g]xC\n",
      "Thank you for your password\n"
     ]
    }
   ],
   "source": [
    "import random\n",
    "import string\n",
    "\n",
    "d = string.digits\n",
    "low = string.ascii_lowercase\n",
    "up = string.ascii_uppercase\n",
    "p = string.punctuation\n",
    "\n",
    "def check_avaliable(s):\n",
    "    if any({*s} & {*d}) ==False: #{*s}是把列表转成集合｛｝，print(a & b)     # a 和 b 的交集\n",
    "        print('Please contain a digit')\n",
    "    elif any({*s} & {*low}) ==False:\n",
    "        print('Please contain a lower letter')\n",
    "    elif any({*s} & {*up}) ==False:\n",
    "        print('Please contain a upper letter')   \n",
    "    elif any({*s} & {*p}) ==False:\n",
    "        print('Please contain a punctuation')  \n",
    "    else:\n",
    "        print('Thank you for your password')\n",
    "        return True\n",
    "\n",
    "def psw_genertate():\n",
    "    length = random.choice(range(5,16))\n",
    "    res = []\n",
    "    res.append(random.choice(d)) # 随机选取一个元素\n",
    "    res.append(random.choice(low))\n",
    "    res.append(random.choice(up))\n",
    "    res.append(random.choice(p))\n",
    "    res += random.sample(set(d + low + up + p),length -4) # 集合（set）是一个无序的不重复元素序列,没解读出来意思\n",
    "    random.shuffle(res)\n",
    "    \n",
    "    return ''.join(res)\n",
    "\n",
    "i = 0\n",
    "while (i <10):\n",
    "    ps = psw_genertate()\n",
    "    print(ps)\n",
    "    check_avaliable(ps) #这里是只有真的才输出吗？\n",
    "    i +=1"
   ]
  },
  {
   "cell_type": "markdown",
   "metadata": {},
   "source": [
    "### 练习3：设计一个函数返回给定文件名的后缀名。"
   ]
  },
  {
   "cell_type": "code",
   "execution_count": 14,
   "metadata": {},
   "outputs": [
    {
     "name": "stdout",
     "output_type": "stream",
     "text": [
      "txt\n",
      "mp3\n",
      "md\n",
      " \n"
     ]
    }
   ],
   "source": [
    "def extract_extension(fileName):\n",
    "    # write your code here\n",
    "    if fileName.rfind(\".\") > 0:\n",
    "        rindex = fileName.rfind(\".\")\n",
    "        return fileName[rindex + 1:]\n",
    "    else:\n",
    "        return \" \"\n",
    "\n",
    "print(extract_extension('information.txt'))\n",
    "# output should be: txt\n",
    "print(extract_extension('My.heart.will.go.on.mp3'))\n",
    "# output should be: mp3\n",
    "print(extract_extension('data.md'))\n",
    "# output should be: md\n",
    "print(extract_extension('data'))"
   ]
  },
  {
   "cell_type": "code",
   "execution_count": 4,
   "metadata": {},
   "outputs": [
    {
     "name": "stdout",
     "output_type": "stream",
     "text": [
      "------------------------------\n",
      "pls input your password:  1234jjklf\n",
      "Please contain a upper letter\n",
      "------------------------------\n",
      "pls input your password:  1234jjkH.\n",
      "Thank you for your password\n",
      "------------------------------\n",
      "your password is:  1234jjkH.\n"
     ]
    }
   ],
   "source": [
    "import random\n",
    "import string\n",
    "\n",
    "d = string.digits\n",
    "low = string.ascii_lowercase\n",
    "up = string.ascii_uppercase\n",
    "p = string.punctuation\n",
    "\n",
    "def check_avaliable(s):\n",
    "    if any({*s} & {*d}) ==False: \n",
    "        print('Please contain a digit')\n",
    "        return False\n",
    "    elif any({*s} & {*low}) ==False:\n",
    "        print('Please contain a lower letter')\n",
    "        return False\n",
    "    elif any({*s} & {*up}) ==False:\n",
    "        print('Please contain a upper letter')\n",
    "        return False\n",
    "    elif any({*s} & {*p}) ==False:\n",
    "        print('Please contain a punctuation')\n",
    "        return False\n",
    "    elif len(s) < 5 or len(s) >15:\n",
    "        print('Please enter a password lenght between 5 and 15')\n",
    "        return False\n",
    "    else:\n",
    "        print('Thank you for your password')\n",
    "        return True\n",
    "    \n",
    "pass_la = False\n",
    "while(pass_la== False):\n",
    "    print('-' * 30)\n",
    "    psw = input('pls input your password:  ')\n",
    "    pass_la = check_avaliable(psw)\n",
    "\n",
    "print('-' * 30)\n",
    "print('your password is: ', psw)"
   ]
  },
  {
   "cell_type": "markdown",
   "metadata": {},
   "source": [
    "### 练习4：设计一个函数返回传入的列表中最大和第二大的元素的值。"
   ]
  },
  {
   "cell_type": "code",
   "execution_count": 7,
   "metadata": {
    "scrolled": true
   },
   "outputs": [
    {
     "name": "stdout",
     "output_type": "stream",
     "text": [
      "78 56\n"
     ]
    }
   ],
   "source": [
    "import string\n",
    "\n",
    "def top_two(l):\n",
    "    set(l)\n",
    "    l.sort(reverse = True)\n",
    "    m = l[0:2]\n",
    "    b = [str(i) for i in m]\n",
    "    return ' '.join(b)\n",
    "        \n",
    "l = [12,34,56,78,56]\n",
    "c = top_two(l)\n",
    "print(c)"
   ]
  },
  {
   "cell_type": "code",
   "execution_count": 3,
   "metadata": {},
   "outputs": [
    {
     "name": "stdout",
     "output_type": "stream",
     "text": [
      "txt\n",
      "mp3\n",
      "md\n",
      " \n",
      "txt\n",
      "mp3\n",
      "md\n",
      " \n",
      "txt\n",
      "mp3\n",
      "md\n",
      " \n"
     ]
    }
   ],
   "source": [
    "#  设计一个函数返回给定文件名的后缀名\n",
    "def extract_extension(fileName):\n",
    "    # write your code here\n",
    "    if fileName.rfind(\".\") > 0:\n",
    "        rindex = fileName.rfind(\".\")\n",
    "        return fileName[rindex + 1:]\n",
    "    else:\n",
    "        return \" \"\n",
    "\n",
    "print(extract_extension('information.txt'))\n",
    "# output should be: txt\n",
    "print(extract_extension('My.heart.will.go.on.mp3'))\n",
    "# output should be: mp3\n",
    "print(extract_extension('data.md'))\n",
    "# output should be: md\n",
    "print(extract_extension('data'))\n",
    "\n",
    "\n",
    "def extract_extension2(fileName):\n",
    "    l = fileName.split('.')\n",
    "    last = l[-1]\n",
    "    if last == fileName:\n",
    "        return \" \"\n",
    "    else:\n",
    "        return last\n",
    "\n",
    "print(extract_extension2('information.txt'))\n",
    "# output should be: txt\n",
    "print(extract_extension2('My.heart.will.go.on.mp3'))\n",
    "# output should be: mp3\n",
    "print(extract_extension2('data.md'))\n",
    "# output should be: md\n",
    "print(extract_extension2('data'))    \n",
    "    \n",
    "\n",
    "\n",
    "def extract_extension3(fileName):\n",
    "    try:\n",
    "        r_index = fileName.rindex('.')\n",
    "        return fileName[r_index + 1:]\n",
    "    except:\n",
    "        return ' '\n",
    "      \n",
    "print(extract_extension3('information.txt'))\n",
    "# output should be: txt\n",
    "print(extract_extension3('My.heart.will.go.on.mp3'))\n",
    "# output should be: mp3\n",
    "print(extract_extension3('data.md'))\n",
    "# output should be: md\n",
    "print(extract_extension3('data'))    "
   ]
  },
  {
   "cell_type": "code",
   "execution_count": null,
   "metadata": {},
   "outputs": [],
   "source": []
  },
  {
   "cell_type": "code",
   "execution_count": null,
   "metadata": {},
   "outputs": [],
   "source": []
  }
 ],
 "metadata": {
  "kernelspec": {
   "display_name": "Python 3",
   "language": "python",
   "name": "python3"
  },
  "language_info": {
   "codemirror_mode": {
    "name": "ipython",
    "version": 3
   },
   "file_extension": ".py",
   "mimetype": "text/x-python",
   "name": "python",
   "nbconvert_exporter": "python",
   "pygments_lexer": "ipython3",
   "version": "3.7.4"
  }
 },
 "nbformat": 4,
 "nbformat_minor": 2
}
