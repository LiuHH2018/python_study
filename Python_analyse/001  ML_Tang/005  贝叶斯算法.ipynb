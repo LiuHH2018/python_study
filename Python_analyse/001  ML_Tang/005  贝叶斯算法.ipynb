{
 "cells": [
  {
   "cell_type": "markdown",
   "metadata": {},
   "source": [
    "# 贝叶斯算法"
   ]
  },
  {
   "cell_type": "markdown",
   "metadata": {},
   "source": [
    "### 贝叶斯要解决的问题\n",
    "+ 正向概率\n",
    "+ 逆向概率  \n",
    " \n",
    "### 为什么要用贝叶斯 \n",
    "我们日常所观察到的只是事物表面上的结果，因此我们需要提供一个猜测 \n",
    " \n",
    "### 贝叶斯公式"
   ]
  },
  {
   "cell_type": "markdown",
   "metadata": {},
   "source": [
    "![微信截图_20200611221706.png](https://i.loli.net/2020/06/11/eLxokJ2GlTBMvb6.png)"
   ]
  },
  {
   "cell_type": "markdown",
   "metadata": {},
   "source": [
    "## 拼写纠正实例 \n",
    "![微信截图_20200611222307.png](https://i.loli.net/2020/06/11/dQhWHPgALKMuUXs.png) \n",
    "![微信截图_20200611222544.png](https://i.loli.net/2020/06/11/YGtsgnQpO48Kwi1.png) \n",
    "![微信截图_20200611222931.png](https://i.loli.net/2020/06/11/6EW3XxoNwdhlOR7.png) \n",
    "![微信截图_20200611223205.png](https://i.loli.net/2020/06/11/K3TEG1fxnCQojZs.png)"
   ]
  },
  {
   "cell_type": "markdown",
   "metadata": {},
   "source": [
    "注：先验概率，就是不同事情的首先发生的概率"
   ]
  },
  {
   "cell_type": "code",
   "execution_count": null,
   "metadata": {},
   "outputs": [],
   "source": []
  }
 ],
 "metadata": {
  "kernelspec": {
   "display_name": "Python 3",
   "language": "python",
   "name": "python3"
  },
  "language_info": {
   "codemirror_mode": {
    "name": "ipython",
    "version": 3
   },
   "file_extension": ".py",
   "mimetype": "text/x-python",
   "name": "python",
   "nbconvert_exporter": "python",
   "pygments_lexer": "ipython3",
   "version": "3.7.5"
  }
 },
 "nbformat": 4,
 "nbformat_minor": 2
}
