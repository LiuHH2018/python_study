{
 "cells": [
  {
   "cell_type": "markdown",
   "metadata": {},
   "source": [
    "# 线性回归算法\n"
   ]
  },
  {
   "cell_type": "markdown",
   "metadata": {},
   "source": [
    "+ 线性回归结果一般为连续性数据，逻辑回归结果一般为二分类数据\n",
    "+ 梯度下降：梯度下降就是当得到目标函数之后，不断对函数进行优化，可分成2个步骤，一是找到前行目标的方向，二是前行一小步后，调整前行的方向"
   ]
  },
  {
   "cell_type": "markdown",
   "metadata": {},
   "source": [
    "---------------------------------------------------------------------------------------------------------------------------------------"
   ]
  },
  {
   "cell_type": "markdown",
   "metadata": {},
   "source": [
    "## 线性回归得出来连续性数据，找到一个合适的线或者面尽可能多的拟合数据\n",
    "+ 系数称为权重项\n",
    "+ 常数称为偏置项，微调结果值，用于矩阵时，会用1进行补位\n",
    "\n",
    "## 误差\n",
    "+ 误差是真实值与预测值之间存在的差异\n",
    "+ 误差是独立并且具有相同的分布，并且服从均值为0方差为θ平方的高斯分布  \n",
    "注：拿到数据先进行随机打乱数据"
   ]
  },
  {
   "cell_type": "markdown",
   "metadata": {},
   "source": [
    "![微信截图_20200330205446.png](https://i.loli.net/2020/03/30/tiw1bX94IAlRCmQ.png)"
   ]
  },
  {
   "cell_type": "markdown",
   "metadata": {},
   "source": [
    "## 似然函数\n",
    "+ 似然函数的解释：什么样的参数跟我们的数据组合后恰好是真实值\n",
    "+ 对数似然的解释：乘法难解，加法就容易了，对数里面乘法可以转换成加法"
   ]
  },
  {
   "cell_type": "markdown",
   "metadata": {},
   "source": [
    "## 梯度下降\n",
    "梯度下降就是当得到目标函数之后，不断对函数进行优化，可分成2个步骤，一是找到前行目标的方向，二是前行一小步后，调整前行的方向"
   ]
  },
  {
   "cell_type": "markdown",
   "metadata": {},
   "source": [
    "![微信截图_20200330211706.png](https://i.loli.net/2020/03/30/unDiFWEgYcGbpwo.png)"
   ]
  },
  {
   "cell_type": "markdown",
   "metadata": {},
   "source": [
    "![微信截图_20200330211902.png](https://i.loli.net/2020/03/30/b8dWaqosjhYuM5F.png)"
   ]
  },
  {
   "cell_type": "markdown",
   "metadata": {},
   "source": [
    "## 逻辑回归\n",
    "+ 逻辑回归是分类的算法，经典的二分类算法 \n",
    "+ 逻辑回归思想先用简单的再用复杂的，能用简单的就用简单的\n",
    "+ 逻辑回归可用于多分类，softmax\n",
    "+ 逻辑回归可解释性强"
   ]
  },
  {
   "cell_type": "markdown",
   "metadata": {},
   "source": [
    "![微信截图_20200330213412.png](https://i.loli.net/2020/03/30/GMmwYvTSL2Xykdl.png)"
   ]
  }
 ],
 "metadata": {
  "kernelspec": {
   "display_name": "Python 3",
   "language": "python",
   "name": "python3"
  },
  "language_info": {
   "codemirror_mode": {
    "name": "ipython",
    "version": 3
   },
   "file_extension": ".py",
   "mimetype": "text/x-python",
   "name": "python",
   "nbconvert_exporter": "python",
   "pygments_lexer": "ipython3",
   "version": "3.7.5"
  }
 },
 "nbformat": 4,
 "nbformat_minor": 2
}
