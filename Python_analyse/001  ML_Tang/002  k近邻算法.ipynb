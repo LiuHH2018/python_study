{
 "cells": [
  {
   "cell_type": "markdown",
   "metadata": {},
   "source": [
    "# K近邻算法\n",
    "+ 既可以是分类（类别），也可以是回归（具体值）\n",
    "\n",
    "### Kmeans（K均值）与KNN（K近邻）的区别\n",
    "Kmeans是把数据分成K类，KNN是把K个相邻近的数据归为一组\n",
    "+ Kmeans它把n个对象根据他们的属性分为k个聚类以便使得所获得的聚类满足：同一聚类中的对象相似度较高；而不同聚类中的对象相似度较小\n",
    "+ KNN如果一个样本在特征空间中的k个最相似(即特征空间中最邻近)的样本中的大多数属于某一个类别，则该样本也属于这个类别。该方法在定类决策上只依据最邻近的一个或者几个样本的类别来决定待分样本所属的类别\n",
    "\n",
    "### 数据结构--数据框dataframe"
   ]
  },
  {
   "cell_type": "code",
   "execution_count": null,
   "metadata": {},
   "outputs": [],
   "source": [
    "import numpy as np\n",
    "import pandas as pd\n",
    "from pandas import Sereis, DataFrame\n",
    "ser = Series(np.arange(3.))\n",
    "data = DataFrame(np.arange(16).reshape(4,4),index=list('abcd'),columns=list('wxyz'))\n",
    "data['w']  #选择表格中的'w'列，使用类字典属性,返回的是Series类型\n",
    "data.w    #选择表格中的'w'列，使用点属性,返回的是Series类型\n",
    "data[['w']]  #选择表格中的'w'列，返回的是DataFrame类型\n",
    "data[['w','z']]  #选择表格中的'w'、'z'列\n",
    "data[0:2]  #返回第1行到第2行的所有行，前闭后开，包括前不包括后\n",
    "data[1:2]  #返回第2行，从0计，返回的是单行，通过有前后值的索引形式 如果采用data[1]则报错\n",
    "data.ix[1:2] #返回第2行的第三种方法，返回的是DataFrame，跟data[1:2]同\n",
    "data['a':'b']  #利用index值进行切片，返回的是**前闭后闭**的DataFrame 即末端是包含的  \n",
    "data.irow(0)   #取data的第一行\n",
    "data.icol(0)   #取data的第一列\n",
    "data.head()  #返回data的前几行数据，默认为前五行，需要前十行则data.head(10)\n",
    "data.tail()  #返回data的后几行数据，默认为后五行，需要后十行则data.tail(10)\n",
    "ser.iget_value(0)  #选取ser序列中的第一个\n",
    "ser.iget_value(-1) #选取ser序列中的最后一个，这种轴索引包含索引器的series不能采用ser[-1]去获取最后一个，这会引起歧义。\n",
    "data.iloc[-1]   #选取DataFrame最后一行，返回的是Series\n",
    "data.iloc[-1:]   #选取DataFrame最后一行，返回的是DataFrame\n",
    "data.loc['a',['w','x']]   #返回‘a’行'w'、'x'列，这种用于选取行索引列索引已知\n",
    "data.iat[1,1]   #选取第二行第二列，用于已知行、列位置的选取。"
   ]
  },
  {
   "cell_type": "markdown",
   "metadata": {},
   "source": [
    "### Pandas库中的sample--随机抽样\n",
    "DataFrame.sample(n=None, frac=None, replace=False, weights=None, random_state=None, axis=None)\n",
    "+ n：要抽取的行数\n",
    "+ frac：抽取行的比例，例如frac=0.8，就是抽取其中80%\n",
    "+ replace：是否为有放回抽样，True:有放回抽样，False:未放回抽样\n",
    "+ weights：字符索引或概率数组，xis=0:为行字符索引或概率数组，axis=1:为列字符索引或概率数组\n",
    "+ random_state：int: 随机数发生器种子，或numpy.random.RandomState。random_state=None,取得数据不重复，random_state=1,可以取得重复数据\n",
    "+ axis：选择抽取数据的行还是列，axis=0:抽取行，axis=1:抽取列"
   ]
  },
  {
   "cell_type": "markdown",
   "metadata": {},
   "source": [
    "### 替换replace\n",
    "str.replace(old, new[, max]) \n",
    "\n",
    "参数解读\n",
    "+ old -- 将被替换的子字符串。\n",
    "+ new -- 新字符串，用于替换old子字符串。\n",
    "+ max -- 可选字符串, 替换不超过 max 次\n",
    " \n",
    "替换字符含义：\n",
    "+ ^ 表示以什么开头\n",
    "+ \\s 代表匹配一些空白符     包括：空格、Tab、换行、回车,等价于 [\\t\\r\\n ]\n",
    "+ *表示有一个或者多个\n",
    "+ | 表示或者\n",
    "+ $ 代表以什么结尾"
   ]
  },
  {
   "cell_type": "code",
   "execution_count": 4,
   "metadata": {},
   "outputs": [
    {
     "name": "stdout",
     "output_type": "stream",
     "text": [
      "(3723, 8)\n"
     ]
    },
    {
     "data": {
      "text/html": [
       "<div>\n",
       "<style scoped>\n",
       "    .dataframe tbody tr th:only-of-type {\n",
       "        vertical-align: middle;\n",
       "    }\n",
       "\n",
       "    .dataframe tbody tr th {\n",
       "        vertical-align: top;\n",
       "    }\n",
       "\n",
       "    .dataframe thead th {\n",
       "        text-align: right;\n",
       "    }\n",
       "</style>\n",
       "<table border=\"1\" class=\"dataframe\">\n",
       "  <thead>\n",
       "    <tr style=\"text-align: right;\">\n",
       "      <th></th>\n",
       "      <th>accommodates</th>\n",
       "      <th>bedrooms</th>\n",
       "      <th>bathrooms</th>\n",
       "      <th>beds</th>\n",
       "      <th>price</th>\n",
       "      <th>minimum_nights</th>\n",
       "      <th>maximum_nights</th>\n",
       "      <th>number_of_reviews</th>\n",
       "    </tr>\n",
       "  </thead>\n",
       "  <tbody>\n",
       "    <tr>\n",
       "      <th>0</th>\n",
       "      <td>4</td>\n",
       "      <td>1.0</td>\n",
       "      <td>1.0</td>\n",
       "      <td>2.0</td>\n",
       "      <td>$160.00</td>\n",
       "      <td>1</td>\n",
       "      <td>1125</td>\n",
       "      <td>0</td>\n",
       "    </tr>\n",
       "    <tr>\n",
       "      <th>1</th>\n",
       "      <td>6</td>\n",
       "      <td>3.0</td>\n",
       "      <td>3.0</td>\n",
       "      <td>3.0</td>\n",
       "      <td>$350.00</td>\n",
       "      <td>2</td>\n",
       "      <td>30</td>\n",
       "      <td>65</td>\n",
       "    </tr>\n",
       "    <tr>\n",
       "      <th>2</th>\n",
       "      <td>1</td>\n",
       "      <td>1.0</td>\n",
       "      <td>2.0</td>\n",
       "      <td>1.0</td>\n",
       "      <td>$50.00</td>\n",
       "      <td>2</td>\n",
       "      <td>1125</td>\n",
       "      <td>1</td>\n",
       "    </tr>\n",
       "    <tr>\n",
       "      <th>3</th>\n",
       "      <td>2</td>\n",
       "      <td>1.0</td>\n",
       "      <td>1.0</td>\n",
       "      <td>1.0</td>\n",
       "      <td>$95.00</td>\n",
       "      <td>1</td>\n",
       "      <td>1125</td>\n",
       "      <td>0</td>\n",
       "    </tr>\n",
       "    <tr>\n",
       "      <th>4</th>\n",
       "      <td>4</td>\n",
       "      <td>1.0</td>\n",
       "      <td>1.0</td>\n",
       "      <td>1.0</td>\n",
       "      <td>$50.00</td>\n",
       "      <td>7</td>\n",
       "      <td>1125</td>\n",
       "      <td>0</td>\n",
       "    </tr>\n",
       "  </tbody>\n",
       "</table>\n",
       "</div>"
      ],
      "text/plain": [
       "   accommodates  bedrooms  bathrooms  beds    price  minimum_nights  \\\n",
       "0             4       1.0        1.0   2.0  $160.00               1   \n",
       "1             6       3.0        3.0   3.0  $350.00               2   \n",
       "2             1       1.0        2.0   1.0   $50.00               2   \n",
       "3             2       1.0        1.0   1.0   $95.00               1   \n",
       "4             4       1.0        1.0   1.0   $50.00               7   \n",
       "\n",
       "   maximum_nights  number_of_reviews  \n",
       "0            1125                  0  \n",
       "1              30                 65  \n",
       "2            1125                  1  \n",
       "3            1125                  0  \n",
       "4            1125                  0  "
      ]
     },
     "execution_count": 4,
     "metadata": {},
     "output_type": "execute_result"
    }
   ],
   "source": [
    "import pandas as pd\n",
    "\n",
    "# 选取数据的字段\n",
    "features = ['accommodates','bedrooms','bathrooms','beds','price','minimum_nights','maximum_nights','number_of_reviews'] \n",
    "\n",
    "# 读取数据\n",
    "dc_listings = pd.read_csv(r'D:/001  学习文件/001  学习笔记/020  唐宇迪机器学习实战_20200326/机器学习文件/006 K近邻实例/KNN/listings.csv') \n",
    "\n",
    "# 数据框取值\n",
    "dc_listings = dc_listings[features] \n",
    "# 数据行列数\n",
    "print(dc_listings.shape) \n",
    "\n",
    "# 查看对象的前n行数据\n",
    "dc_listings.head()"
   ]
  },
  {
   "cell_type": "markdown",
   "metadata": {},
   "source": [
    "#### 数据特征：\n",
    "\n",
    "* accommodates: 可以容纳的旅客\n",
    "* bedrooms: 卧室的数量\n",
    "* bathrooms: 厕所的数量\n",
    "* beds: 床的数量\n",
    "* price: 每晚的费用\n",
    "* minimum_nights: 客人最少租了几天\n",
    "* maximum_nights: 客人最多租了几天\n",
    "* number_of_reviews: 评论的数量"
   ]
  },
  {
   "cell_type": "markdown",
   "metadata": {},
   "source": [
    "## K近邻原理"
   ]
  },
  {
   "cell_type": "markdown",
   "metadata": {},
   "source": [
    "### 如果我有一个3个房间的房子，我能租多少钱呢？\n",
    "讲道理，咱是不是得看一看3个房间的别人都租到多少钱啊？--货比三家"
   ]
  },
  {
   "cell_type": "markdown",
   "metadata": {},
   "source": [
    "K代表我们的候选对象个数，也就是我和我房间数量最相近的其他房子的价格"
   ]
  },
  {
   "cell_type": "markdown",
   "metadata": {},
   "source": [
    "### 疑问：为什么取的是最大的3个？？？--似乎是随机选取"
   ]
  },
  {
   "cell_type": "markdown",
   "metadata": {},
   "source": [
    "## 距离的定义\n",
    "如何让才能知道哪些数据样本跟我最相近呢？   \n",
    "通过[欧式距离](https://baike.baidu.com/item/%E6%AC%A7%E5%87%A0%E9%87%8C%E5%BE%97%E5%BA%A6%E9%87%8F/1274107?fromtitle=%E6%AC%A7%E5%BC%8F%E8%B7%9D%E7%A6%BB&fromid=2809635&fr=aladdin) 进行计算，详细公式如下： "
   ]
  },
  {
   "cell_type": "markdown",
   "metadata": {},
   "source": [
    "![欧式距离](http://note.youdao.com/yws/public/resource/882a672748c498993685201f96a6c217/xmlnote/C877D0753C444631AA9A7E8591A12824/23542)"
   ]
  },
  {
   "cell_type": "markdown",
   "metadata": {},
   "source": [
    "其中Q1到Qn是一条数据的所有特征信息，P1到Pn是另一条数据的所有特征信息"
   ]
  },
  {
   "cell_type": "markdown",
   "metadata": {},
   "source": [
    "假设我的房间数量是3个："
   ]
  },
  {
   "cell_type": "code",
   "execution_count": 9,
   "metadata": {},
   "outputs": [
    {
     "data": {
      "text/plain": [
       "0      461\n",
       "1     2294\n",
       "2      503\n",
       "3      279\n",
       "4       35\n",
       "5       73\n",
       "6       17\n",
       "7       22\n",
       "8        7\n",
       "9       12\n",
       "10       2\n",
       "11       4\n",
       "12       6\n",
       "13       8\n",
       "Name: distance, dtype: int64"
      ]
     },
     "execution_count": 9,
     "metadata": {},
     "output_type": "execute_result"
    }
   ],
   "source": [
    "import numpy as np\n",
    "\n",
    "our_acc_value = 3\n",
    "\n",
    "# 用所有数据房间数减去3，然后结果取绝对值\n",
    "dc_listings['distance'] = np.abs(dc_listings.accommodates - our_acc_value)\n",
    "\n",
    "# 按差值分组统计，并排序\n",
    "dc_listings.distance.value_counts().sort_index()"
   ]
  },
  {
   "cell_type": "markdown",
   "metadata": {},
   "source": [
    "这里我们只用了绝对值来计算，和我们距离为0的（同样数量的房间）有461个"
   ]
  },
  {
   "cell_type": "markdown",
   "metadata": {},
   "source": [
    "#### sample操作可以得到洗牌后数据--随机抽样"
   ]
  },
  {
   "cell_type": "code",
   "execution_count": 14,
   "metadata": {},
   "outputs": [
    {
     "data": {
      "text/plain": [
       "2811    $120.00\n",
       "408      $95.00\n",
       "316     $155.00\n",
       "1040    $299.00\n",
       "1682    $165.00\n",
       "Name: price, dtype: object"
      ]
     },
     "execution_count": 14,
     "metadata": {},
     "output_type": "execute_result"
    }
   ],
   "source": [
    "# 随机打乱数据\n",
    "dc_listings = dc_listings.sample(frac=1,random_state=0) \n",
    "\n",
    "# 按距离排序\n",
    "dc_listings = dc_listings.sort_values('distance')\n",
    "\n",
    "# 显示前5行\n",
    "dc_listings.price.head()"
   ]
  },
  {
   "cell_type": "markdown",
   "metadata": {},
   "source": [
    "需要注意的是，这里面的数据现在是字符串，如果想进行计算，需要转换一下。"
   ]
  },
  {
   "cell_type": "code",
   "execution_count": 15,
   "metadata": {},
   "outputs": [
    {
     "data": {
      "text/plain": [
       "166.8"
      ]
     },
     "execution_count": 15,
     "metadata": {},
     "output_type": "execute_result"
    }
   ],
   "source": [
    "# 替换“$”或者，为空\n",
    "dc_listings['price'] = dc_listings.price.str.replace(\"\\$|,\",\"\").astype(float)\n",
    "\n",
    "# 取前5的数据的平均值\n",
    "mean_price = dc_listings.price.iloc[:5].mean()\n",
    "\n",
    "mean_price"
   ]
  },
  {
   "cell_type": "markdown",
   "metadata": {},
   "source": [
    "得到了平均价格，也就是我们房子的大致价格。"
   ]
  },
  {
   "cell_type": "markdown",
   "metadata": {},
   "source": [
    "## 模型评估"
   ]
  },
  {
   "cell_type": "markdown",
   "metadata": {},
   "source": [
    "![模型评估](http://note.youdao.com/yws/public/resource/882a672748c498993685201f96a6c217/xmlnote/3BE562C6F1F54727B4896152CE902873/23546)"
   ]
  },
  {
   "cell_type": "markdown",
   "metadata": {},
   "source": [
    "首先制定好训练集和测试集，训练集训练模型，出现的模型尽量贴合训练数据；测试集是新的数据，来衡量模型的结果"
   ]
  },
  {
   "cell_type": "code",
   "execution_count": null,
   "metadata": {},
   "outputs": [],
   "source": []
  }
 ],
 "metadata": {
  "kernelspec": {
   "display_name": "Python 3",
   "language": "python",
   "name": "python3"
  },
  "language_info": {
   "codemirror_mode": {
    "name": "ipython",
    "version": 3
   },
   "file_extension": ".py",
   "mimetype": "text/x-python",
   "name": "python",
   "nbconvert_exporter": "python",
   "pygments_lexer": "ipython3",
   "version": "3.7.5"
  }
 },
 "nbformat": 4,
 "nbformat_minor": 2
}
