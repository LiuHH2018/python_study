{
 "cells": [
  {
   "cell_type": "markdown",
   "metadata": {},
   "source": [
    "# 决策树"
   ]
  },
  {
   "cell_type": "markdown",
   "metadata": {},
   "source": [
    "### 树模型\n",
    "+ 决策树：从根节点开始一步步走到叶子节点（决策），所有数据最终都会落到叶子节点，既可以做分类也可以做回归\n",
    "+ 决策树的节点顺序对结果有影响，不可随意调整\n",
    "\n",
    "### 树组成\n",
    "+ 根节点：第一个选择点\n",
    "+ 非叶子节点与分支：中间过程\n",
    "+ 叶子节点：叶子节点\n",
    "\n",
    "### 决策树的训练与测试"
   ]
  },
  {
   "cell_type": "markdown",
   "metadata": {},
   "source": [
    "![微信截图_20200331201644.png](https://i.loli.net/2020/03/31/RnNE76cB4QdjlYs.png)"
   ]
  },
  {
   "cell_type": "markdown",
   "metadata": {},
   "source": [
    "### 如何切分特征（选择节点）\n",
    "也就是选择差异较大的分类"
   ]
  },
  {
   "cell_type": "markdown",
   "metadata": {},
   "source": [
    "![微信截图_20200331202843.png](https://i.loli.net/2020/03/31/WkKztrIjCDyJmHN.png)"
   ]
  },
  {
   "cell_type": "markdown",
   "metadata": {},
   "source": [
    "### 衡量标准--熵\n",
    "也就是数据的混乱程度，越混乱熵越大"
   ]
  },
  {
   "cell_type": "markdown",
   "metadata": {},
   "source": [
    "![微信截图_20200331203014.png](https://i.loli.net/2020/03/31/5cxXNkBv4t6LsoY.png)"
   ]
  },
  {
   "cell_type": "code",
   "execution_count": null,
   "metadata": {},
   "outputs": [],
   "source": []
  }
 ],
 "metadata": {
  "kernelspec": {
   "display_name": "Python 3",
   "language": "python",
   "name": "python3"
  },
  "language_info": {
   "codemirror_mode": {
    "name": "ipython",
    "version": 3
   },
   "file_extension": ".py",
   "mimetype": "text/x-python",
   "name": "python",
   "nbconvert_exporter": "python",
   "pygments_lexer": "ipython3",
   "version": "3.7.5"
  }
 },
 "nbformat": 4,
 "nbformat_minor": 2
}
