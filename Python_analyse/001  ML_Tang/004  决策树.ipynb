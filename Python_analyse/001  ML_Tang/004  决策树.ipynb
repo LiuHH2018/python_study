{
 "cells": [
  {
   "cell_type": "markdown",
   "metadata": {},
   "source": [
    "# 决策树"
   ]
  },
  {
   "cell_type": "markdown",
   "metadata": {},
   "source": [
    "决策树的特征选择通过分类结果的信息增益进行选择，选择信息增益大的"
   ]
  },
  {
   "cell_type": "markdown",
   "metadata": {},
   "source": [
    "### 树模型\n",
    "+ 决策树：从根节点开始一步步走到叶子节点（决策），所有数据最终都会落到叶子节点，既可以做分类也可以做回归\n",
    "+ 决策树的节点顺序对结果有影响，不可随意调整\n",
    "\n",
    "### 树组成\n",
    "+ 根节点：第一个选择点\n",
    "+ 非叶子节点与分支：中间过程\n",
    "+ 叶子节点：叶子节点\n",
    "\n",
    "### 决策树的训练与测试"
   ]
  },
  {
   "cell_type": "markdown",
   "metadata": {},
   "source": [
    "![微信截图_20200331201644.png](https://i.loli.net/2020/03/31/RnNE76cB4QdjlYs.png)"
   ]
  },
  {
   "cell_type": "markdown",
   "metadata": {},
   "source": [
    "### 如何切分特征（选择节点）\n",
    "也就是选择差异较大的分类"
   ]
  },
  {
   "cell_type": "markdown",
   "metadata": {},
   "source": [
    "![微信截图_20200331202843.png](https://i.loli.net/2020/03/31/WkKztrIjCDyJmHN.png)"
   ]
  },
  {
   "cell_type": "markdown",
   "metadata": {},
   "source": [
    "### 衡量标准--熵\n",
    "也就是数据的混乱程度，越混乱熵越大"
   ]
  },
  {
   "cell_type": "markdown",
   "metadata": {},
   "source": [
    "![微信截图_20200331203014.png](https://i.loli.net/2020/03/31/5cxXNkBv4t6LsoY.png)"
   ]
  },
  {
   "cell_type": "markdown",
   "metadata": {},
   "source": [
    "![微信截图_20200401230903.png](https://i.loli.net/2020/04/01/Nrbk92CnZiyBswD.png)"
   ]
  },
  {
   "cell_type": "markdown",
   "metadata": {},
   "source": [
    "特征的选择是通过结果分类的信息增益完成，也就是分类前的熵值与分类后的熵值和进行比较"
   ]
  },
  {
   "cell_type": "markdown",
   "metadata": {},
   "source": [
    "![微信截图_20200401232428.png](https://i.loli.net/2020/04/01/RbovUstECfQJ4ed.png)"
   ]
  },
  {
   "cell_type": "markdown",
   "metadata": {},
   "source": [
    "![微信截图_20200401232456.png](https://i.loli.net/2020/04/01/DmSI1NCd7rYfB2b.png)"
   ]
  },
  {
   "cell_type": "markdown",
   "metadata": {},
   "source": [
    "![微信截图_20200401232506.png](https://i.loli.net/2020/04/01/vZmWAQis6NTkxBE.png)"
   ]
  },
  {
   "cell_type": "markdown",
   "metadata": {},
   "source": [
    "![微信截图_20200401232808.png](https://i.loli.net/2020/04/01/iEoHR6L4ylpJ1jx.png)"
   ]
  },
  {
   "cell_type": "markdown",
   "metadata": {},
   "source": [
    "![微信截图_20200401233015.png](https://i.loli.net/2020/04/01/shyLXxSvTfGeJqM.png)"
   ]
  },
  {
   "cell_type": "markdown",
   "metadata": {},
   "source": [
    "ID3不适合解决像ID这样有序的数据，也就是数据种类较多的数据"
   ]
  },
  {
   "cell_type": "markdown",
   "metadata": {},
   "source": [
    "![微信截图_20200401233828.png](https://i.loli.net/2020/04/01/4bRuHa1x3LdmI9N.png)"
   ]
  },
  {
   "cell_type": "markdown",
   "metadata": {},
   "source": [
    "过拟合也就是数据在训练集的结果较好，但在测试集结果较差"
   ]
  },
  {
   "cell_type": "markdown",
   "metadata": {},
   "source": [
    "![微信截图_20200401234104.png](https://i.loli.net/2020/04/01/BHRxbo7j8PFKLfr.png)"
   ]
  },
  {
   "cell_type": "markdown",
   "metadata": {},
   "source": [
    "分类问题用熵值区分特征；回归问题用方差区分特征，具体值等于这一类数据的平均值"
   ]
  }
 ],
 "metadata": {
  "kernelspec": {
   "display_name": "Python 3",
   "language": "python",
   "name": "python3"
  },
  "language_info": {
   "codemirror_mode": {
    "name": "ipython",
    "version": 3
   },
   "file_extension": ".py",
   "mimetype": "text/x-python",
   "name": "python",
   "nbconvert_exporter": "python",
   "pygments_lexer": "ipython3",
   "version": "3.7.5"
  }
 },
 "nbformat": 4,
 "nbformat_minor": 2
}
