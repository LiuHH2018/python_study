{
 "cells": [
  {
   "cell_type": "code",
   "execution_count": 1,
   "metadata": {},
   "outputs": [
    {
     "name": "stdout",
     "output_type": "stream",
     "text": [
      "input:8\n",
      "{1: 1, 2: 4, 3: 9, 4: 16, 5: 25, 6: 36, 7: 49, 8: 64}\n"
     ]
    }
   ],
   "source": [
    "# Q003\n",
    "# 2019.11.09\n",
    "# Tag: dictionary\n",
    "# Description: With a given integral number n, write a program to generate a dictionary that contains (i, i*i) such\n",
    "#              that is an integral number between 1 and n (both included). and then the program should print the\n",
    "#              dictionary.\n",
    "#\n",
    "# Suppose the following input is supplied to the program:\n",
    "# 8\n",
    "# Then, the output should be:\n",
    "# {1: 1, 2: 4, 3: 9, 4: 16, 5: 25, 6: 36, 7: 49, 8: 64}\n",
    "\n",
    "# 描述：用一个给定的整数n，编写一个程序来生成一个包含（i，i*i）的字典一个介于1和n之间的整数（两者都包括在内）。然后程序应该打印字典。\n",
    "\n",
    "n = int(input(\"input:\"))\n",
    "dict ={}\n",
    "for i in range(n):\n",
    "    if i <= n:\n",
    "        a =i+1\n",
    "        dict[a]=a*a\n",
    "print(dict);"
   ]
  }
 ],
 "metadata": {
  "kernelspec": {
   "display_name": "Python 3",
   "language": "python",
   "name": "python3"
  },
  "language_info": {
   "codemirror_mode": {
    "name": "ipython",
    "version": 3
   },
   "file_extension": ".py",
   "mimetype": "text/x-python",
   "name": "python",
   "nbconvert_exporter": "python",
   "pygments_lexer": "ipython3",
   "version": "3.7.4"
  }
 },
 "nbformat": 4,
 "nbformat_minor": 2
}
