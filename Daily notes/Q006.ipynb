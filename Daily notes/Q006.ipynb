{
 "cells": [
  {
   "cell_type": "code",
   "execution_count": 2,
   "metadata": {},
   "outputs": [
    {
     "name": "stdout",
     "output_type": "stream",
     "text": [
      "input:100,150,180\n",
      "[18, 22, 24]\n"
     ]
    }
   ],
   "source": [
    "# Q006\n",
    "# 2019.11.13\n",
    "# Tag: math\n",
    "# Description: Write a program that calculates and prints the value according to the given formula:\n",
    "#                       Q = Square root of [(2 * C * D)/H]\n",
    "#              Following are the fixed values of C and H: C is 50. H is 30.\n",
    "#              D is the variable whose values should be input to your program in a comma-separated sequence.\n",
    "#\n",
    "#              Example\n",
    "#              Let us assume the following comma separated input sequence is given to the program:\n",
    "#              100,150,180\n",
    "#              The output of the program should be:\n",
    "#              18,22,24\n",
    "\n",
    "# 描述：编写一个程序，根据给定的公式计算并打印值：\n",
    "# Q=平方根[（2*C*D）/H]\n",
    "# 以下是C和H的固定值：C是50。H是30。\n",
    "# D是一个变量，其值应以逗号分隔的顺序输入到程序中。\n",
    "\n",
    "# 例子\n",
    "# 假设程序有以下逗号分隔的输入序列：\n",
    "# 100,150,180\n",
    "# 程序的输出应为：\n",
    "# 18,22,24\n",
    "\n",
    "import math\n",
    "li = []\n",
    "aa = str(input(\"input:\")).split(',')\n",
    "number = [int(x) for x in aa]\n",
    "\n",
    "C = 50\n",
    "H = 30\n",
    "\n",
    "for D in number:\n",
    "    Q = math.sqrt((2*C*D)/H)    # Q = ((2*C*D)/H) **0.5\n",
    "    li.append(int(Q))\n",
    "\n",
    "print(li);"
   ]
  },
  {
   "cell_type": "markdown",
   "metadata": {},
   "source": [
    "##日常笔记--import\\split"
   ]
  },
  {
   "cell_type": "markdown",
   "metadata": {},
   "source": [
    "### import\n",
    "\n",
    "* 导入一个模块\n",
    "```python\n",
    "import model_name\n",
    "```\n",
    "\n",
    "* 导入多个模块\n",
    "```python\n",
    "import module_name1,module_name2\n",
    "```\n",
    "\n",
    "* 导入模块中的指定的属性、方法（不加括号）、类\n",
    "```python\n",
    "from moudule_name import moudule_element [as new_name]\n",
    "```"
   ]
  },
  {
   "cell_type": "markdown",
   "metadata": {},
   "source": [
    "### split\n",
    "\n",
    "+ 语法：\n",
    "\n",
    "```python\n",
    "str.split(str=\"\", num=string.count(str))\n",
    "```\n",
    "\n",
    "+ 参数\n",
    "str -- 分隔符，默认为所有的空字符，包括空格、换行(\\n)、制表符(\\t)等\n",
    "num -- 分割次数。默认为 -1, 即分隔所有\n",
    "\n",
    "+ 注意\n",
    "仅能能在字符数据中使用"
   ]
  },
  {
   "cell_type": "markdown",
   "metadata": {},
   "source": [
    "#### 在Python中我们都知道单引号和双引号都可以用来表示一个字符串\n",
    "#### 列表解析式：[int(x) for x in aa]"
   ]
  },
  {
   "cell_type": "markdown",
   "metadata": {},
   "source": []
  }
 ],
 "metadata": {
  "kernelspec": {
   "display_name": "Python 3",
   "language": "python",
   "name": "python3"
  },
  "language_info": {
   "codemirror_mode": {
    "name": "ipython",
    "version": 3
   },
   "file_extension": ".py",
   "mimetype": "text/x-python",
   "name": "python",
   "nbconvert_exporter": "python",
   "pygments_lexer": "ipython3",
   "version": "3.7.4"
  }
 },
 "nbformat": 4,
 "nbformat_minor": 2
}
