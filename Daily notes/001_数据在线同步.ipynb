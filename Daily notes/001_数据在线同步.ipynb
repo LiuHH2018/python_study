{
 "cells": [
  {
   "cell_type": "markdown",
   "metadata": {},
   "source": [
    "# jupyter 与 github 数据互相同步,通过windowa+R的cmd,媒介本地文件夹"
   ]
  },
  {
   "cell_type": "raw",
   "metadata": {},
   "source": [
    "# 通过cd c:\\github>jupyter notebook打开jupyter软件\n",
    "\n",
    "# 一、媒介：本地文件夹 C:\\Users\\11876\\python_study\n",
    "# 文件夹数据从github下载，用命令\n",
    "\"\"\" c:github\n",
    "    git clone + github地址\"\"\"\n",
    "\n",
    "# 二、github 同步数据 jupyter\n",
    "\"\"\" git pull\"\"\"\n",
    "\n",
    "# 三、jupyter 同步数据 github\n",
    "# 1. 更改目录到你的github文件夹，使用cd命令\n",
    "# 2. 添加文件到缓存区 使用 git add 《文件名》，如果要添加所有就是 git add --all\n",
    "# 3. 对更改进行备注 使用 git commit -m \"备注内容\"\n",
    "# 4. 推送到GitHub上去，使用 git push origin master"
   ]
  },
  {
   "cell_type": "code",
   "execution_count": null,
   "metadata": {},
   "outputs": [],
   "source": []
  }
 ],
 "metadata": {
  "kernelspec": {
   "display_name": "Python 3",
   "language": "python",
   "name": "python3"
  },
  "language_info": {
   "codemirror_mode": {
    "name": "ipython",
    "version": 3
   },
   "file_extension": ".py",
   "mimetype": "text/x-python",
   "name": "python",
   "nbconvert_exporter": "python",
   "pygments_lexer": "ipython3",
   "version": "3.7.4"
  }
 },
 "nbformat": 4,
 "nbformat_minor": 2
}
