{
 "cells": [
  {
   "cell_type": "code",
   "execution_count": 1,
   "metadata": {},
   "outputs": [
    {
     "name": "stdout",
     "output_type": "stream",
     "text": [
      "input:8\n",
      "40320\n"
     ]
    }
   ],
   "source": [
    "# Q002\n",
    "# 2019.11.09\n",
    "# Tag: recursion\n",
    "# Description: Write a program which can compute the factorial of a given numbers.\n",
    "#              The results should be printed in a comma-separated sequence on a single line.\n",
    "#              Suppose the following input is supplied to the program:\n",
    "#\n",
    "# Suppose the following input is supplied to the program:\n",
    "# 8\n",
    "# Then, the output should be:\n",
    "# 40320\n",
    "\n",
    "# 描述：编写一个能计算给定数的阶乘的程序。结果应以逗号分隔的顺序打印在一行上。假设向程序提供了以下输入：\n",
    "# 假设向程序提供了以下输入：8\n",
    "# 那么，输出应该是：40320个\n",
    "\n",
    "a = int(input(\"input:\"))\n",
    "sum =1\n",
    "if a==0:\n",
    "    sum=1\n",
    "else:\n",
    "    for i in range(a):\n",
    "        if i <= a:\n",
    "            sum=sum*(i+1)\n",
    "print(sum);"
   ]
  }
 ],
 "metadata": {
  "kernelspec": {
   "display_name": "Python 3",
   "language": "python",
   "name": "python3"
  },
  "language_info": {
   "codemirror_mode": {
    "name": "ipython",
    "version": 3
   },
   "file_extension": ".py",
   "mimetype": "text/x-python",
   "name": "python",
   "nbconvert_exporter": "python",
   "pygments_lexer": "ipython3",
   "version": "3.7.4"
  }
 },
 "nbformat": 4,
 "nbformat_minor": 2
}
