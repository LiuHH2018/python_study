{
 "cells": [
  {
   "cell_type": "code",
   "execution_count": 1,
   "metadata": {},
   "outputs": [
    {
     "name": "stdout",
     "output_type": "stream",
     "text": [
      "input:asdf\n",
      "ASDF\n"
     ]
    }
   ],
   "source": [
    "# Q005\n",
    "# 2019.11.10\n",
    "# Tag: class\n",
    "# Description: Define a class which has at least two methods:\n",
    "#              getString: to get a string from console input # printString: to print the string in upper case.\n",
    "#              Also please include simple test function to test the class methods.\n",
    "\n",
    "# 描述：定义至少有两个方法的类：\n",
    "# getString：从控制台输入获取字符串\n",
    "# printString：以大写形式打印字符串。\n",
    "# 同时请包含简单的测试函数来测试类方法。\n",
    "\n",
    "class Capitalization(object):\n",
    "    \"\"\"\"大写输出字符串\"\"\"\n",
    "    def __init__(self):\n",
    "        self.input_str = ''\n",
    "\n",
    "    def get_string(self):\n",
    "        self.input_str = str(input('input:'))\n",
    "\n",
    "    def print_string(self):\n",
    "        print(self.input_str.upper())\n",
    "\n",
    "test = Capitalization()\n",
    "test.get_string()\n",
    "test.print_string();"
   ]
  },
  {
   "cell_type": "markdown",
   "metadata": {},
   "source": [
    "##代码优化"
   ]
  },
  {
   "cell_type": "code",
   "execution_count": 2,
   "metadata": {},
   "outputs": [
    {
     "name": "stdout",
     "output_type": "stream",
     "text": [
      "input:asdf\n",
      "ASDF\n"
     ]
    }
   ],
   "source": [
    "# 001\n",
    "class Iostring():\n",
    "    \"\"\"\"输出大写字符串\"\"\"\n",
    "    s = ''\n",
    "    \n",
    "    def getstring(self):\n",
    "        Iostring.s = input('input:')\n",
    "        \n",
    "    def cap(self):\n",
    "        return Iostring.s.upper()\n",
    "    \n",
    "d = Iostring()\n",
    "d.getstring()\n",
    "print(d.cap())"
   ]
  },
  {
   "cell_type": "code",
   "execution_count": 11,
   "metadata": {},
   "outputs": [
    {
     "name": "stdout",
     "output_type": "stream",
     "text": [
      "noitamrofni\n",
      "information\n"
     ]
    }
   ],
   "source": [
    "# 002\n",
    "class Converter():\n",
    "    def __init__(self,input_string):\n",
    "        self.input_string = input_string\n",
    "\n",
    "    def reverse(self):\n",
    "        return ''.join(self.input_string[::-1])\n",
    "\n",
    "    def print_string(self):\n",
    "        print(self.input_string)\n",
    "\n",
    "test = Converter('information')\n",
    "r = test.reverse()\n",
    "print(r)\n",
    "test.print_string()"
   ]
  }
 ],
 "metadata": {
  "kernelspec": {
   "display_name": "Python 3",
   "language": "python",
   "name": "python3"
  },
  "language_info": {
   "codemirror_mode": {
    "name": "ipython",
    "version": 3
   },
   "file_extension": ".py",
   "mimetype": "text/x-python",
   "name": "python",
   "nbconvert_exporter": "python",
   "pygments_lexer": "ipython3",
   "version": "3.7.4"
  }
 },
 "nbformat": 4,
 "nbformat_minor": 2
}
