{
 "cells": [
  {
   "cell_type": "code",
   "execution_count": 7,
   "metadata": {},
   "outputs": [
    {
     "ename": "IndexError",
     "evalue": "tuple index out of range",
     "output_type": "error",
     "traceback": [
      "\u001b[1;31m---------------------------------------------------------------------------\u001b[0m",
      "\u001b[1;31mIndexError\u001b[0m                                Traceback (most recent call last)",
      "\u001b[1;32m<ipython-input-7-c0f264a7239e>\u001b[0m in \u001b[0;36m<module>\u001b[1;34m\u001b[0m\n\u001b[0;32m     31\u001b[0m     \u001b[1;31m# 因为只需要文件名，这样也行\u001b[0m\u001b[1;33m\u001b[0m\u001b[1;33m\u001b[0m\u001b[1;33m\u001b[0m\u001b[0m\n\u001b[0;32m     32\u001b[0m     \u001b[1;31m# ppt_names = (fns.split('.')[0] for fns in ppt_file_names)\u001b[0m\u001b[1;33m\u001b[0m\u001b[1;33m\u001b[0m\u001b[1;33m\u001b[0m\u001b[0m\n\u001b[1;32m---> 33\u001b[1;33m     \u001b[1;32mfor\u001b[0m \u001b[0mppt_file_name\u001b[0m\u001b[1;33m,\u001b[0m\u001b[0mppt_name\u001b[0m \u001b[1;32min\u001b[0m \u001b[0mzip\u001b[0m\u001b[1;33m(\u001b[0m\u001b[0mppt_file_names\u001b[0m\u001b[1;33m,\u001b[0m\u001b[0mppt_names\u001b[0m\u001b[1;33m)\u001b[0m\u001b[1;33m:\u001b[0m\u001b[1;33m\u001b[0m\u001b[1;33m\u001b[0m\u001b[0m\n\u001b[0m\u001b[0;32m     34\u001b[0m         \u001b[1;31m# 该PPT的完整路径文件名，eg: F:\\\\test\\\\ppt_name.ppt\u001b[0m\u001b[1;33m\u001b[0m\u001b[1;33m\u001b[0m\u001b[1;33m\u001b[0m\u001b[0m\n\u001b[0;32m     35\u001b[0m         \u001b[0mppt_file_name\u001b[0m \u001b[1;33m=\u001b[0m \u001b[0mos\u001b[0m\u001b[1;33m.\u001b[0m\u001b[0mpath\u001b[0m\u001b[1;33m.\u001b[0m\u001b[0mjoin\u001b[0m\u001b[1;33m(\u001b[0m\u001b[0mcurrent_dir\u001b[0m\u001b[1;33m,\u001b[0m\u001b[0mppt_file_name\u001b[0m\u001b[1;33m)\u001b[0m\u001b[1;33m\u001b[0m\u001b[1;33m\u001b[0m\u001b[0m\n",
      "\u001b[1;32m<ipython-input-7-c0f264a7239e>\u001b[0m in \u001b[0;36m<genexpr>\u001b[1;34m(.0)\u001b[0m\n\u001b[0;32m     28\u001b[0m     \u001b[1;31m# 当前目录下所有的PPT文件名，这两者的区别在于有无后缀名,eg: ppt_name\u001b[0m\u001b[1;33m\u001b[0m\u001b[1;33m\u001b[0m\u001b[1;33m\u001b[0m\u001b[0m\n\u001b[0;32m     29\u001b[0m     \u001b[1;31m# splitext的作用是，'xx.jpg',会分成'xx'和'.jpg'\u001b[0m\u001b[1;33m\u001b[0m\u001b[1;33m\u001b[0m\u001b[1;33m\u001b[0m\u001b[0m\n\u001b[1;32m---> 30\u001b[1;33m     \u001b[0mppt_names\u001b[0m \u001b[1;33m=\u001b[0m \u001b[1;33m(\u001b[0m\u001b[0mos\u001b[0m\u001b[1;33m.\u001b[0m\u001b[0mpath\u001b[0m\u001b[1;33m.\u001b[0m\u001b[0msplitext\u001b[0m\u001b[1;33m(\u001b[0m\u001b[0mfns\u001b[0m\u001b[1;33m)\u001b[0m\u001b[1;33m[\u001b[0m\u001b[1;36m3\u001b[0m\u001b[1;33m]\u001b[0m \u001b[1;32mfor\u001b[0m \u001b[0mfns\u001b[0m \u001b[1;32min\u001b[0m \u001b[0mdir_list\u001b[0m \u001b[1;32mif\u001b[0m \u001b[0mfns\u001b[0m\u001b[1;33m.\u001b[0m\u001b[0mendswith\u001b[0m\u001b[1;33m(\u001b[0m\u001b[1;33m(\u001b[0m\u001b[1;34m'.ppt'\u001b[0m\u001b[1;33m,\u001b[0m\u001b[1;34m'.pptx'\u001b[0m\u001b[1;33m)\u001b[0m\u001b[1;33m)\u001b[0m\u001b[1;33m)\u001b[0m\u001b[1;33m\u001b[0m\u001b[1;33m\u001b[0m\u001b[0m\n\u001b[0m\u001b[0;32m     31\u001b[0m     \u001b[1;31m# 因为只需要文件名，这样也行\u001b[0m\u001b[1;33m\u001b[0m\u001b[1;33m\u001b[0m\u001b[1;33m\u001b[0m\u001b[0m\n\u001b[0;32m     32\u001b[0m     \u001b[1;31m# ppt_names = (fns.split('.')[0] for fns in ppt_file_names)\u001b[0m\u001b[1;33m\u001b[0m\u001b[1;33m\u001b[0m\u001b[1;33m\u001b[0m\u001b[0m\n",
      "\u001b[1;31mIndexError\u001b[0m: tuple index out of range"
     ]
    }
   ],
   "source": [
    "# -*- coding: utf-8 -*-\n",
    "import os\n",
    "import win32com\n",
    "import win32com.client\n",
    "\n",
    "# 存储PPT为JPG格式的类型，所对应的数值\n",
    "ppSaveAsJPG = 17\n",
    "\n",
    "def ppt_to_jpg(ppt_file_name,output_dir_name):\n",
    "    # 启动PPT\n",
    "    ppt_app = win32com.client.Dispatch('PowerPoint.Application')\n",
    "    # 设置为0表示后台运行，不显示，1则显示\n",
    "    ppt_app.Visible = 1\n",
    "    # 打开PPT文件\n",
    "    ppt = ppt_app.Presentations.Open(ppt_file_name)\n",
    "    # 另存为，第一个参数为报存图片的目录，第二个是报存的格式。\n",
    "    ppt.SaveAs(output_dir_name, ppSaveAsJPG)\n",
    "    # 退出PPT\n",
    "    ppt_app.Quit()\n",
    "\n",
    "if __name__ == '__main__':\n",
    "    # 当前文件所在目录，eg: F:\\\\test，如果你要指定某个目录，则手动指定current_dir 即可\n",
    "    current_dir = 'D:\\\\PPT图片'\n",
    "    # 当前目录下所有文件，遍历的结果是文件名。\n",
    "    dir_list = os.listdir(current_dir)\n",
    "    # 当前目录下所有的PPT文件,eg: ppt_name.ppt\n",
    "    ppt_file_names = (fns for fns in dir_list if fns.endswith(('.ppt','.pptx')))\n",
    "    # 当前目录下所有的PPT文件名，这两者的区别在于有无后缀名,eg: ppt_name\n",
    "    # splitext的作用是，'xx.jpg',会分成'xx'和'.jpg'\n",
    "    ppt_names = (os.path.splitext(fns)[0] for fns in dir_list if fns.endswith(('.ppt','.pptx')))\n",
    "    # 因为只需要文件名，这样也行\n",
    "    # ppt_names = (fns.split('.')[0] for fns in ppt_file_names)\n",
    "    for ppt_file_name,ppt_name in zip(ppt_file_names,ppt_names):\n",
    "        # 该PPT的完整路径文件名，eg: F:\\\\test\\\\ppt_name.ppt\n",
    "        ppt_file_name = os.path.join(current_dir,ppt_file_name)\n",
    "        # 需要新建一个与PPT同名的文件，获取完整路径,eg:  F:\\\\test\\\\ppt_name\n",
    "        ppt_dir_path = os.path.join(current_dir,ppt_name)\n",
    "        # 创建新目录\n",
    "        os.mkdir(ppt_dir_path)\n",
    "        # print ppt_file_name, ppt_dir_path\n",
    "        ppt_to_jpg(ppt_file_name,ppt_dir_path)"
   ]
  },
  {
   "cell_type": "code",
   "execution_count": null,
   "metadata": {},
   "outputs": [],
   "source": []
  }
 ],
 "metadata": {
  "kernelspec": {
   "display_name": "Python 3",
   "language": "python",
   "name": "python3"
  },
  "language_info": {
   "codemirror_mode": {
    "name": "ipython",
    "version": 3
   },
   "file_extension": ".py",
   "mimetype": "text/x-python",
   "name": "python",
   "nbconvert_exporter": "python",
   "pygments_lexer": "ipython3",
   "version": "3.7.5"
  }
 },
 "nbformat": 4,
 "nbformat_minor": 2
}
