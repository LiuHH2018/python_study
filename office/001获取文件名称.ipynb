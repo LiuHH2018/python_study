{
 "cells": [
  {
   "cell_type": "markdown",
   "metadata": {},
   "source": [
    "## 获取文件名称\n",
    "+ task1: 列出LHH文件夹中的所有文件，包括子文件夹里的文件\n",
    "+ task2: 只列出文件，不包含文件夹的名字 （不包括study， entertainment，Machine learning这类）\n",
    "+ task3: 设置过滤器，列出所有指定文件，比如我要求你列出所有 txt 文件\n",
    "+ task4：列出指定文件夹里的所有指定文件， 比如我要你列出，Machine Learning 中所有 txt文件\n",
    "+ task5: 文件读取， 列出Machine learning 中所有的txt文件，并打印出他们的内容\n",
    "+ task6: 将 Machine learning 中所有的txt文件 合并成一个大的 txt文件， 并保存成一个大的文件， 重命名为 combine.txt"
   ]
  },
  {
   "cell_type": "code",
   "execution_count": 1,
   "metadata": {},
   "outputs": [
    {
     "name": "stdout",
     "output_type": "stream",
     "text": [
      "C:\\github\\python_study\\resources\\LHH\\Study\\Machine Learning\\Chapter 1.txt\n",
      "C:\\github\\python_study\\resources\\LHH\\Study\\Machine Learning\\Chapter 11.txt\n",
      "C:\\github\\python_study\\resources\\LHH\\Study\\Machine Learning\\Chapter 2.txt\n",
      "C:\\github\\python_study\\resources\\LHH\\Study\\Machine Learning\\Chapter 3.txt\n",
      "C:\\github\\python_study\\resources\\LHH\\Study\\Machine Learning\\m data.txt\n"
     ]
    }
   ],
   "source": [
    "import os\n",
    "path = 'C:\\\\github\\\\python_study\\\\resources\\\\LHH\\Study\\\\Machine Learning'\n",
    "for parent,dirnames,filenames in os.walk(path):\n",
    "    for filename in filenames:\n",
    "        print(os.path.join(parent,filename))"
   ]
  },
  {
   "cell_type": "code",
   "execution_count": 2,
   "metadata": {},
   "outputs": [
    {
     "data": {
      "text/plain": [
       "['Entertainment', 'Study']"
      ]
     },
     "execution_count": 2,
     "metadata": {},
     "output_type": "execute_result"
    }
   ],
   "source": [
    "import os\n",
    "filePath = 'C:\\\\github\\\\python_study\\\\resources\\\\LHH' \n",
    "# 用于返回指定的文件夹下包含的文件或文件夹名字的列表\n",
    "os.listdir(filePath)"
   ]
  },
  {
   "cell_type": "markdown",
   "metadata": {},
   "source": [
    "### task1: 列出LHH文件夹中的所有文件，包括子文件夹里的文件"
   ]
  },
  {
   "cell_type": "code",
   "execution_count": 3,
   "metadata": {},
   "outputs": [
    {
     "data": {
      "text/plain": [
       "['Entertainment',\n",
       " 'Study',\n",
       " 'Movie',\n",
       " 'Music',\n",
       " 'Data analysis',\n",
       " 'Information retrieval',\n",
       " 'Machine Learning',\n",
       " 'Python',\n",
       " 'lalal.movb',\n",
       " 'lalal2.movb',\n",
       " 'lalal.mpp3',\n",
       " 'lalal.mpp3 copy',\n",
       " 'lalal.mpp3 copy 2',\n",
       " 'lalal.mpp3 copy 3',\n",
       " 'lalal.mpp3 copy 4',\n",
       " 'lalal.mpp3 copy 5',\n",
       " 'lalal.mpp3 copy 6',\n",
       " 'lalal.mpp3 copy 7',\n",
       " 'lalal2.mpp3',\n",
       " 'lalal2.mpp3 copy',\n",
       " 'lalal2.mpp3 copy 2',\n",
       " 'lalal2.mpp3 copy 3',\n",
       " 'lalal2.mpp3 copy 4',\n",
       " 'lalal2.mpp3 copy 5',\n",
       " 'lalal2.mpp3 copy 6',\n",
       " 'lalal2.mpp3 copy 7',\n",
       " 'D data.txt',\n",
       " 'i data.txt',\n",
       " 'Chapter 1.txt',\n",
       " 'Chapter 11.txt',\n",
       " 'Chapter 2.txt',\n",
       " 'Chapter 3.txt',\n",
       " 'm data.txt',\n",
       " 'p data.txt']"
      ]
     },
     "execution_count": 3,
     "metadata": {},
     "output_type": "execute_result"
    }
   ],
   "source": [
    "import os\n",
    "def file_name_walk(file_dir):\n",
    "    dirs_1 = []\n",
    "    files_1 = []\n",
    "    for root, dirs, files in os.walk(file_dir):\n",
    "        if dirs !=[]:\n",
    "            dirs_1 += dirs\n",
    "        if files !=[]:\n",
    "            files_1 += files\n",
    "            \n",
    "    out = dirs_1 +  files_1  \n",
    "    return out\n",
    "         \n",
    "file_name_walk('C:\\\\github\\\\python_study\\\\resources\\\\LHH')"
   ]
  },
  {
   "cell_type": "markdown",
   "metadata": {},
   "source": [
    "### task2: 只列出文件，不包含文件夹的名字 （不包括study， entertainment，Machine learning这类）"
   ]
  },
  {
   "cell_type": "code",
   "execution_count": 5,
   "metadata": {},
   "outputs": [
    {
     "data": {
      "text/plain": [
       "['lalal.movb',\n",
       " 'lalal2.movb',\n",
       " 'lalal.mpp3',\n",
       " 'lalal.mpp3 copy',\n",
       " 'lalal.mpp3 copy 2',\n",
       " 'lalal.mpp3 copy 3',\n",
       " 'lalal.mpp3 copy 4',\n",
       " 'lalal.mpp3 copy 5',\n",
       " 'lalal.mpp3 copy 6',\n",
       " 'lalal.mpp3 copy 7',\n",
       " 'lalal2.mpp3',\n",
       " 'lalal2.mpp3 copy',\n",
       " 'lalal2.mpp3 copy 2',\n",
       " 'lalal2.mpp3 copy 3',\n",
       " 'lalal2.mpp3 copy 4',\n",
       " 'lalal2.mpp3 copy 5',\n",
       " 'lalal2.mpp3 copy 6',\n",
       " 'lalal2.mpp3 copy 7',\n",
       " 'D data.txt',\n",
       " 'i data.txt',\n",
       " 'Chapter 1.txt',\n",
       " 'Chapter 11.txt',\n",
       " 'Chapter 2.txt',\n",
       " 'Chapter 3.txt',\n",
       " 'm data.txt',\n",
       " 'p data.txt']"
      ]
     },
     "execution_count": 5,
     "metadata": {},
     "output_type": "execute_result"
    }
   ],
   "source": [
    "import os\n",
    "def file_name_walk_1(file_dir):\n",
    "    files_1 = []\n",
    "    for root, dirs, files in os.walk(file_dir):\n",
    "        if files !=[]:\n",
    "            files_1 += files\n",
    "    return files_1\n",
    "        \n",
    "file_name_walk_1('C:\\\\github\\\\python_study\\\\resources\\\\LHH')"
   ]
  },
  {
   "cell_type": "markdown",
   "metadata": {},
   "source": [
    "### task3: 设置过滤器，列出所有指定文件，比如我要求你列出所有 txt 文件"
   ]
  },
  {
   "cell_type": "code",
   "execution_count": 6,
   "metadata": {},
   "outputs": [
    {
     "data": {
      "text/plain": [
       "['D data.txt',\n",
       " 'i data.txt',\n",
       " 'Chapter 1.txt',\n",
       " 'Chapter 11.txt',\n",
       " 'Chapter 2.txt',\n",
       " 'Chapter 3.txt',\n",
       " 'm data.txt',\n",
       " 'p data.txt']"
      ]
     },
     "execution_count": 6,
     "metadata": {},
     "output_type": "execute_result"
    }
   ],
   "source": [
    "def filter_1(letter_1,files_1):\n",
    "    out_file = []\n",
    "    for i in files_1:\n",
    "        if letter_1 in i:\n",
    "            out_file.append(i)\n",
    "    return out_file\n",
    "\n",
    "files_1 = file_name_walk_1('C:\\\\github\\\\python_study\\\\resources\\\\LHH')\n",
    "filter_1('.txt',files_1)"
   ]
  },
  {
   "cell_type": "markdown",
   "metadata": {},
   "source": [
    "### task4：列出指定文件夹里的所有指定文件， 比如我要你列出，Machine Learning 中所有 txt文件"
   ]
  },
  {
   "cell_type": "code",
   "execution_count": 7,
   "metadata": {},
   "outputs": [
    {
     "data": {
      "text/plain": [
       "['Chapter 1.txt',\n",
       " 'Chapter 11.txt',\n",
       " 'Chapter 2.txt',\n",
       " 'Chapter 3.txt',\n",
       " 'm data.txt']"
      ]
     },
     "execution_count": 7,
     "metadata": {},
     "output_type": "execute_result"
    }
   ],
   "source": [
    "def dirs_file(a,c):\n",
    "    files_2 = file_name_walk_1(c)\n",
    "    out2 = filter_1(a,files_2)\n",
    "    return out2\n",
    "\n",
    "a = '.txt'    \n",
    "c = 'C:\\\\github\\\\python_study\\\\resources\\\\LHH\\Study\\\\Machine Learning'\n",
    "dirs_file(a,c)"
   ]
  },
  {
   "cell_type": "markdown",
   "metadata": {},
   "source": [
    "### task5: 文件读取， 列出Machine learning 中所有的txt文件，并打印出他们的内容"
   ]
  },
  {
   "cell_type": "code",
   "execution_count": 8,
   "metadata": {},
   "outputs": [
    {
     "data": {
      "text/plain": [
       "['Hello there, this is Chapter 1',\n",
       " 'HI, This is content of Chapter 11',\n",
       " 'Hello, this is Chap 2',\n",
       " '',\n",
       " '']"
      ]
     },
     "execution_count": 8,
     "metadata": {},
     "output_type": "execute_result"
    }
   ],
   "source": [
    "import os\n",
    "\n",
    "def filepath(a,c):\n",
    "    path_out =[]\n",
    "    filename = dirs_file(a,c)\n",
    "    for i in filename:\n",
    "        d = c+'\\\\'+i\n",
    "        path_out.append(d)\n",
    "    return path_out\n",
    "\n",
    "def openfile(f):\n",
    "    with open(f, encoding=\"utf-8\") as file:\n",
    "        out_3 = file.read()\n",
    "        return out_3\n",
    "\n",
    "def fileword(a,c):\n",
    "    f = filepath(a,c)\n",
    "    word_1 = []\n",
    "    for i in f:\n",
    "        c = openfile(i)\n",
    "        word_1.append(c)\n",
    "    return word_1\n",
    "    \n",
    "a = '.txt'    \n",
    "c = 'C:\\\\github\\\\python_study\\\\resources\\\\LHH\\Study\\\\Machine Learning'  \n",
    "fileword(a,c)"
   ]
  },
  {
   "cell_type": "markdown",
   "metadata": {},
   "source": [
    "### task6: 将 Machine learning 中所有的txt文件 合并成一个大的 txt文件,并保存成一个大的文件,重命名为 combine.txt"
   ]
  },
  {
   "cell_type": "code",
   "execution_count": 9,
   "metadata": {},
   "outputs": [],
   "source": [
    "def text_create(name, msg):\n",
    "    desktop_path = \"D:\\\\\"\n",
    "    full_path = desktop_path + name + '.txt'\n",
    "    file = open(full_path, 'w')\n",
    "    for i in msg:\n",
    "        file.write('\\n'+str(i))  \n",
    "\n",
    "a = '.txt'    \n",
    "c = 'C:\\\\github\\\\python_study\\\\resources\\\\LHH\\Study\\\\Machine Learning'  \n",
    "msg = fileword(a,c) \n",
    "text_create('combine', msg)"
   ]
  }
 ],
 "metadata": {
  "kernelspec": {
   "display_name": "Python 3",
   "language": "python",
   "name": "python3"
  },
  "language_info": {
   "codemirror_mode": {
    "name": "ipython",
    "version": 3
   },
   "file_extension": ".py",
   "mimetype": "text/x-python",
   "name": "python",
   "nbconvert_exporter": "python",
   "pygments_lexer": "ipython3",
   "version": "3.7.4"
  }
 },
 "nbformat": 4,
 "nbformat_minor": 2
}
