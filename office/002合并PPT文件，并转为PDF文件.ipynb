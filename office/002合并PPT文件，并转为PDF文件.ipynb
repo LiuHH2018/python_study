{
 "cells": [
  {
   "cell_type": "code",
   "execution_count": 2,
   "metadata": {
    "scrolled": true
   },
   "outputs": [
    {
     "ename": "NameError",
     "evalue": "name 'Presentation' is not defined",
     "output_type": "error",
     "traceback": [
      "\u001b[1;31m---------------------------------------------------------------------------\u001b[0m",
      "\u001b[1;31mNameError\u001b[0m                                 Traceback (most recent call last)",
      "\u001b[1;32m<ipython-input-2-28927c50513a>\u001b[0m in \u001b[0;36m<module>\u001b[1;34m\u001b[0m\n\u001b[0;32m     22\u001b[0m \u001b[1;33m\u001b[0m\u001b[0m\n\u001b[0;32m     23\u001b[0m \u001b[1;32mif\u001b[0m \u001b[0m__name__\u001b[0m \u001b[1;33m==\u001b[0m \u001b[1;34m'__main__'\u001b[0m\u001b[1;33m:\u001b[0m\u001b[1;33m\u001b[0m\u001b[1;33m\u001b[0m\u001b[0m\n\u001b[1;32m---> 24\u001b[1;33m     \u001b[0mjoin_ppt\u001b[0m\u001b[1;33m(\u001b[0m\u001b[0msys\u001b[0m\u001b[1;33m.\u001b[0m\u001b[0margv\u001b[0m\u001b[1;33m[\u001b[0m\u001b[1;36m1\u001b[0m\u001b[1;33m]\u001b[0m\u001b[1;33m)\u001b[0m\u001b[1;33m\u001b[0m\u001b[1;33m\u001b[0m\u001b[0m\n\u001b[0m",
      "\u001b[1;32m<ipython-input-2-28927c50513a>\u001b[0m in \u001b[0;36mjoin_ppt\u001b[1;34m(ppt_folder)\u001b[0m\n\u001b[0;32m     17\u001b[0m         \u001b[0mnum\u001b[0m \u001b[1;33m=\u001b[0m \u001b[0mnew_ppt\u001b[0m\u001b[1;33m.\u001b[0m\u001b[0mSlides\u001b[0m\u001b[1;33m.\u001b[0m\u001b[0mInsertFromFile\u001b[0m\u001b[1;33m(\u001b[0m\u001b[0mf\u001b[0m\u001b[1;33m,\u001b[0m\u001b[0mnew_ppt\u001b[0m\u001b[1;33m.\u001b[0m\u001b[0mSlides\u001b[0m\u001b[1;33m.\u001b[0m\u001b[0mCount\u001b[0m\u001b[1;33m,\u001b[0m\u001b[1;36m1\u001b[0m\u001b[1;33m,\u001b[0m\u001b[0mpage_num\u001b[0m\u001b[1;33m)\u001b[0m\u001b[1;33m\u001b[0m\u001b[1;33m\u001b[0m\u001b[0m\n\u001b[0;32m     18\u001b[0m \u001b[1;33m\u001b[0m\u001b[0m\n\u001b[1;32m---> 19\u001b[1;33m     \u001b[0mPresentation\u001b[0m\u001b[1;33m.\u001b[0m\u001b[0mSave\u001b[0m\u001b[1;33m(\u001b[0m\u001b[1;33m)\u001b[0m\u001b[1;33m\u001b[0m\u001b[1;33m\u001b[0m\u001b[0m\n\u001b[0m\u001b[0;32m     20\u001b[0m     \u001b[0mApplication\u001b[0m\u001b[1;33m.\u001b[0m\u001b[0mQuit\u001b[0m\u001b[1;33m(\u001b[0m\u001b[1;33m)\u001b[0m\u001b[1;33m\u001b[0m\u001b[1;33m\u001b[0m\u001b[0m\n\u001b[0;32m     21\u001b[0m \u001b[1;33m\u001b[0m\u001b[0m\n",
      "\u001b[1;31mNameError\u001b[0m: name 'Presentation' is not defined"
     ]
    }
   ],
   "source": [
    "# 合并文件\n",
    "import win32com.client, sys\n",
    "from glob import glob\n",
    " \n",
    "def join_ppt(ppt_folder):\n",
    "    Application = win32com.client.Dispatch(\"PowerPoint.Application\")\n",
    "    Application.Visible = True\n",
    "    # Create new presentation\n",
    "    new_ppt = Application.Presentations.Add()\n",
    "     \n",
    "    files = glob(ppt_folder)\n",
    "    for f in files:\n",
    "        # Open and read page numbers\n",
    "        exit_ppt = Application.Presentations.Open(f)\n",
    "        page_num = exit_ppt.Slides.Count\n",
    "        exit_ppt.Close()\n",
    "        num = new_ppt.Slides.InsertFromFile(f,new_ppt.Slides.Count,1,page_num)\n",
    " \n",
    "    Presentation.Save()\n",
    "    Application.Quit()\n",
    " \n",
    " \n",
    "if __name__ == '__main__':\n",
    "    join_ppt(sys.argv[1])"
   ]
  },
  {
   "cell_type": "code",
   "execution_count": null,
   "metadata": {},
   "outputs": [],
   "source": [
    "def joinPPT():\n",
    "    '''\n",
    "    http://www.s-anand.net/blog/automating-powerpoint-with-python/\n",
    "    http://support.microsoft.com/kb/161661 太废了，此法不可取\n",
    "    '''\n",
    "    import win32com.client, sys\n",
    "    Application = win32com.client.Dispatch(\"PowerPoint.Application\")\n",
    "    Application.Visible = True\n",
    "    # Create new presentation\n",
    "    new_ppt = Application.Presentations.Add()\n",
    "    \n",
    "    from jhl_utils.file_dir import listFiles\n",
    "    files = listFiles('E:\\\\QA1110',patterns = \"*.ppt\",recurse=0)\n",
    "    for f in files:\n",
    "        # 先打开一遍读页数\n",
    "        exit_ppt = Application.Presentations.Open(f)\n",
    "        page_num = exit_ppt.Slides.Count\n",
    "        exit_ppt.Close()\n",
    "        #http://msdn.microsoft.com/en-us/library/microsoft.office.interop.powerpoint.slides.insertfromfile.aspx\n",
    "        num = new_ppt.Slides.InsertFromFile(f,new_ppt.Slides.Count,1,page_num)\n",
    "     \n",
    "    #for Slide in Presentation.Slides:\n",
    "         #for Shape in Slide.Shapes:\n",
    "                 #Shape.TextFrame.TextRange.Font.Name = \"Arial\"                \n",
    "    Presentation.Save()\n",
    "    Application.Quit()"
   ]
  },
  {
   "cell_type": "code",
   "execution_count": 1,
   "metadata": {},
   "outputs": [
    {
     "ename": "IndentationError",
     "evalue": "expected an indented block (<ipython-input-1-9d90d71ed139>, line 13)",
     "output_type": "error",
     "traceback": [
      "\u001b[1;36m  File \u001b[1;32m\"<ipython-input-1-9d90d71ed139>\"\u001b[1;36m, line \u001b[1;32m13\u001b[0m\n\u001b[1;33m    outputFileName = outputFileName + \".pdf\"\u001b[0m\n\u001b[1;37m                 ^\u001b[0m\n\u001b[1;31mIndentationError\u001b[0m\u001b[1;31m:\u001b[0m expected an indented block\n"
     ]
    }
   ],
   "source": [
    "# ppt转为PDF\n",
    "\n",
    "import comtypes.client\n",
    "import os\n",
    " \n",
    "def init_powerpoint():\n",
    "    powerpoint = comtypes.client.CreateObject(\"Powerpoint.Application\")\n",
    "    powerpoint.Visible = 1\n",
    "    return powerpoint\n",
    " \n",
    "def ppt_to_pdf(powerpoint, inputFileName, outputFileName, formatType = 32):\n",
    "    if outputFileName[-3:] != 'pdf':\n",
    "    outputFileName = outputFileName + \".pdf\"\n",
    "    deck = powerpoint.Presentations.Open(inputFileName)\n",
    "    deck.SaveAs(outputFileName, formatType) # formatType = 32 for ppt to pdf\n",
    "    deck.Close()\n",
    "\n",
    "def convert_files_in_folder(powerpoint, folder):\n",
    "    files = os.listdir(folder)\n",
    "    pptfiles = [f for f in files if f.endswith((\".ppt\", \".pptx\"))]\n",
    "    for pptfile in pptfiles:\n",
    "    fullpath = os.path.join(cwd, pptfile)\n",
    "    ppt_to_pdf(powerpoint, fullpath, fullpath)\n",
    "\n",
    "if __name__ == \"__main__\":\n",
    "    powerpoint = init_powerpoint()\n",
    "    cwd = os.getcwd()\n",
    "    convert_files_in_folder(powerpoint, cwd)\n",
    "    powerpoint.Quit()"
   ]
  },
  {
   "cell_type": "code",
   "execution_count": null,
   "metadata": {},
   "outputs": [],
   "source": []
  }
 ],
 "metadata": {
  "kernelspec": {
   "display_name": "Python 3",
   "language": "python",
   "name": "python3"
  },
  "language_info": {
   "codemirror_mode": {
    "name": "ipython",
    "version": 3
   },
   "file_extension": ".py",
   "mimetype": "text/x-python",
   "name": "python",
   "nbconvert_exporter": "python",
   "pygments_lexer": "ipython3",
   "version": "3.7.4"
  }
 },
 "nbformat": 4,
 "nbformat_minor": 2
}
