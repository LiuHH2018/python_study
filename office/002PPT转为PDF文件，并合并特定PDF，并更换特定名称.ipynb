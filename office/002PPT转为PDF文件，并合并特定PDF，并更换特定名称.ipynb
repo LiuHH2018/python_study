{
 "cells": [
  {
   "cell_type": "markdown",
   "metadata": {},
   "source": [
    "## PPT转为PDF文件，合并特定PDF文件，并更换特定名称\n",
    "1. 把 PPT 文件转成 PDF\n",
    "2. 把指定文件合并，返回原来的名字\n",
    "3. 把前程无忧的进行特殊命名"
   ]
  },
  {
   "cell_type": "code",
   "execution_count": 10,
   "metadata": {},
   "outputs": [
    {
     "name": "stdout",
     "output_type": "stream",
     "text": [
      "['1.1  课程介绍.pptx', '1.2  课程指南.pptx', '10.1  课程总结.pptx', '2.1  什么是数据分析.pptx', '2.2  为什么要学数据分析.pptx', '2.3  数据分析流程.pptx', '2.4  数据分析师从业现状.pptx', '2.5  数据分析师技能要求.pptx', '2.6  如何制定入门学习计划.pptx', '2.7 「基本概念」小结.pptx', '3.1  金字塔原理.pptx', '3.2  描述分析.pptx', '3.3  对比分析.pptx', '3.4  分类分析.pptx', '3.5  结构分析.pptx', '3.6  相关分析.pptx', '3.7  预测分析.pptx', '3.8 「分析方法」小结.pptx', '4.1  AARRR模型.pptx', '4.2  RFM模型.pptx', '4.3  5W2H模型.pptx', '4.4  AB测试模型.pptx', '4.5  逻辑树模型.pptx', '4.6  生命周期模型.pptx', '4.7  企业战略模型.pptx', '4.8 「分析模型」小结.pptx', '5.1 【Excel】常用操作.pptx', '5.2 【Excel】基础函数（学员版）.pptx', '5.3 【Excel】进阶函数（学员版）.pptx', '5.4 【Excel】数据透视表.pptx', '5.5 【Excel】小技巧.pptx', '5.6 「Excel」小结.pptx', '6.8 「SQL」小结.pptx', '7.2 【PPT】初识图表（学员版）.pptx', '7.4 【PPT】高级图表介绍.pptx', '7.5 【PPT】素材资源.pptx', '7.6 「PPT」小结.pptx', '8.1  基本概念.pptx', '8.2  报告结构.pptx', '8.3  布局排版.pptx', '8.4  案例解读.pptx', '8.5  课程小结.pptx', '9.1  指标体系.pptx', '9.2  用户画像.pptx']\n",
      "['讲义首页.pptx', '讲师微信二维码_云课堂.pptx', '讲师微信二维码_前程无忧.pptx']\n"
     ]
    }
   ],
   "source": [
    "# 获取文件目录\n",
    "import os\n",
    "files1 = [i for i in os.listdir(\"D:\\\\课程讲义\") if os.path.splitext(i)[1]=='.pptx']\n",
    "files2 = [i for i in os.listdir(\"D:\\\\附加内容\") if os.path.splitext(i)[1]=='.pptx']\n",
    "print(files1)\n",
    "print(files2)"
   ]
  },
  {
   "cell_type": "code",
   "execution_count": 4,
   "metadata": {
    "scrolled": true
   },
   "outputs": [],
   "source": [
    "# PPT转PDF\n",
    "import comtypes.client\n",
    "import os\n",
    "\n",
    "def init_powerpoint():\n",
    "    powerpoint = comtypes.client.CreateObject(\"Powerpoint.Application\")\n",
    "    powerpoint.Visible = 1\n",
    "    return powerpoint\n",
    "\n",
    "def ppt_to_pdf(powerpoint, inputFileName, outputFileName, formatType = 32):\n",
    "    if outputFileName[-3:] != 'pdf':\n",
    "        outputFileName = outputFileName + \".pdf\"\n",
    "    deck = powerpoint.Presentations.Open(inputFileName)\n",
    "    deck.SaveAs(outputFileName, formatType) # formatType = 32 for ppt to pdf\n",
    "    deck.Close()\n",
    "\n",
    "def convert_files_in_folder(powerpoint, folder):\n",
    "    files = os.listdir(folder)\n",
    "    pptfiles = [f for f in files if f.endswith((\".ppt\", \".pptx\"))]\n",
    "    for pptfile in pptfiles:\n",
    "        fullpath = os.path.join(cwd, pptfile)\n",
    "        ppt_to_pdf(powerpoint, fullpath, fullpath)\n",
    "\n",
    "if __name__ == \"__main__\":\n",
    "    powerpoint = init_powerpoint()\n",
    "    cwd = \"D:\\\\课程讲义\"\n",
    "    convert_files_in_folder(powerpoint, cwd)"
   ]
  },
  {
   "cell_type": "code",
   "execution_count": null,
   "metadata": {},
   "outputs": [],
   "source": [
    "path = r\"D:\\要合并的文件夹\"\n",
    "pdfs_list=os.listdir(path)#获得path路径下所有pdf的文件名\n",
    "output = PdfFileWriter()\n",
    "outputPages=0#赋初始页码值且循环之后重置\n",
    "for pdf_name in pdfs_list:\n",
    "    input = PdfFileReader(open(r'%s\\%s'%(path,pdf_name), \"rb\"))#获取当前pdf的内容物\n",
    "    pageCount=input.getNumPages()#计算页码数\n",
    "    outputPages+=pageCount#计算输出的合并文档需要的空白页数\n",
    "    print('当前文件是《%s》，页码数为%d'%(pdf_name,pageCount))#用于get程序运行情况\n",
    "    for iPage in range(0,pageCount):\n",
    "        output.addPage(input.getPage(iPage))\n",
    "print('总页码数是%d'%outputPages)\n",
    "outputStream = open(r'%s\\%s.pdf'%(path,output_name), \"wb\")#写入pdf内容\n",
    "print('合并pdf名为%s\\%s.pdf'%(path,output_name))#用于get程序运行情况\n",
    "output.write(outputStream)"
   ]
  },
  {
   "cell_type": "code",
   "execution_count": null,
   "metadata": {},
   "outputs": [],
   "source": [
    "from PyPDF2 import PdfFileReader, PdfFileWriter\n",
    "\n",
    "def merge_pdfs(paths, output):\n",
    "    pdf_writer = PdfFileWriter()\n",
    "\n",
    "    for path in paths:\n",
    "        pdf_reader = PdfFileReader(path)\n",
    "        for page in range(pdf_reader.getNumPages()):\n",
    "            # Add each page to the writer object\n",
    "            pdf_writer.addPage(pdf_reader.getPage(page))\n",
    "\n",
    "    # Write out the merged PDF\n",
    "    with open(output, 'wb') as out:\n",
    "        pdf_writer.write(out)\n",
    "\n",
    "if __name__ == '__main__':\n",
    "    paths = ['document1.pdf', 'document2.pdf']\n",
    "    merge_pdfs(paths, output='merged.pdf')"
   ]
  },
  {
   "cell_type": "code",
   "execution_count": null,
   "metadata": {},
   "outputs": [],
   "source": []
  },
  {
   "cell_type": "code",
   "execution_count": null,
   "metadata": {},
   "outputs": [],
   "source": [
    "## 会出现并程运行的情况\n",
    "\n",
    "import win32com.client, sys\n",
    "import os\n",
    "import time\n",
    "\n",
    "def joinPPT():\n",
    "    Application = win32com.client.Dispatch(\"PowerPoint.Application\")\n",
    "    Application.Visible = True\n",
    "\n",
    "    # 获取文件名称\n",
    "    # 核心文件\n",
    "    files_centre = [\"D:/课程讲义/\" + i for i in os.listdir(\"D:\\\\课程讲义\") if os.path.splitext(i)[1]=='.pptx'] \n",
    "    # 附加文件\n",
    "    files_add = [\"D:/附加内容/\" + i for i in os.listdir(\"D:\\\\附加内容\") if os.path.splitext(i)[1]=='.pptx']   \n",
    "    \n",
    "    # 先打开一遍读页数\n",
    "    # 首页\n",
    "    first_ppt = Application.Presentations.Open(files_add[0])\n",
    "    first_page = first_ppt.Slides.Count\n",
    "    time.sleep(3)\n",
    "    first_ppt.Close()\n",
    "    \n",
    "    \n",
    "    # 云课堂尾页\n",
    "    end_ykt_ppt = Application.Presentations.Open(files_add[1])\n",
    "    end_ykt_page = end_ykt_ppt.Slides.Count\n",
    "    time.sleep(3)\n",
    "    end_ykt_ppt.Close()\n",
    "    \n",
    "    \n",
    "    # 前程无忧尾页\n",
    "    end_qcwy_ppt = Application.Presentations.Open(files_add[2])\n",
    "    end_qcwy_page = end_qcwy_ppt.Slides.Count\n",
    "    time.sleep(3)\n",
    "    end_qcwy_ppt.Close()\n",
    "    \n",
    "    \n",
    "    \n",
    "    for f in files_centre:\n",
    "        time.sleep(3)\n",
    "        new_ppt = Application.Presentations.Add()\n",
    "        \n",
    "        first = new_ppt.Slides.InsertFromFile(files_add[0],new_ppt.Slides.Count,1,first_page)\n",
    "        time.sleep(10)\n",
    "        \n",
    "        centre_ppt = Application.Presentations.Open(f)\n",
    "        centre_page = centre_ppt.Slides.Count\n",
    "        time.sleep(3)\n",
    "        exit_ppt.Close()\n",
    "        \n",
    "        second_page = first_page + centre_page\n",
    "        second = first.Slides.InsertFromFile(f,first.Slides.Count,1,second_page)\n",
    "        time.sleep(3)\n",
    "            \n",
    "        page_num = second_page + end_ykt_page\n",
    "        num = second.Slides.InsertFromFile(files_add[1],second.Slides.Count,1,page_num)\n",
    "                      \n",
    "    Presentation.Save()\n",
    "    Application.Quit()\n",
    "\n",
    "if __name__ == '__main__':\n",
    "    joinPPT()"
   ]
  }
 ],
 "metadata": {
  "kernelspec": {
   "display_name": "Python 3",
   "language": "python",
   "name": "python3"
  },
  "language_info": {
   "codemirror_mode": {
    "name": "ipython",
    "version": 3
   },
   "file_extension": ".py",
   "mimetype": "text/x-python",
   "name": "python",
   "nbconvert_exporter": "python",
   "pygments_lexer": "ipython3",
   "version": "3.7.4"
  }
 },
 "nbformat": 4,
 "nbformat_minor": 2
}
